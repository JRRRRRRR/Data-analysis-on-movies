{
 "cells": [
  {
   "cell_type": "markdown",
   "metadata": {},
   "source": [
    "## Final Project Submission\n",
    "\n",
    "Please fill out:\n",
    "* Student name: Jiarong Chen\n",
    "* Student pace: full time\n",
    "* Scheduled project review date/time: \n",
    "* Instructor name: Rafacarrasco\n",
    "* Blog post URL: \n",
    "* Video post URL: https://youtu.be/XeUthfAOI2k"
   ]
  },
  {
   "cell_type": "code",
   "execution_count": 1,
   "metadata": {},
   "outputs": [],
   "source": [
    "# Your code here - remember to use markdown cells for comments as well!\n"
   ]
  },
  {
   "cell_type": "markdown",
   "metadata": {},
   "source": [
    "# Input some libraries and dataset"
   ]
  },
  {
   "cell_type": "code",
   "execution_count": 2,
   "metadata": {},
   "outputs": [],
   "source": [
    "#import libraries\n",
    "import numpy as np\n",
    "from pandas import pandas as pd\n",
    "import matplotlib.pyplot as plt\n",
    "import seaborn as sns\n",
    "import warnings\n",
    "%matplotlib inline"
   ]
  },
  {
   "cell_type": "code",
   "execution_count": 3,
   "metadata": {},
   "outputs": [],
   "source": [
    "#Read dataset\n",
    "df_basics = pd.read_csv('zippedData/imdb.title.basics.csv')\n",
    "df_ratings = pd.read_csv('zippedData/imdb.title.ratings.csv')\n",
    "df_gross = pd.read_csv('zippedData/bom.movie_gross.csv')\n",
    "df_budget = pd.read_csv('zippedData/tn.movie_budgets.csv')"
   ]
  },
  {
   "cell_type": "markdown",
   "metadata": {},
   "source": [
    "# Preview the dataset"
   ]
  },
  {
   "cell_type": "code",
   "execution_count": 4,
   "metadata": {},
   "outputs": [
    {
     "name": "stdout",
     "output_type": "stream",
     "text": [
      "<class 'pandas.core.frame.DataFrame'>\n",
      "RangeIndex: 146144 entries, 0 to 146143\n",
      "Data columns (total 6 columns):\n",
      "tconst             146144 non-null object\n",
      "primary_title      146144 non-null object\n",
      "original_title     146123 non-null object\n",
      "start_year         146144 non-null int64\n",
      "runtime_minutes    114405 non-null float64\n",
      "genres             140736 non-null object\n",
      "dtypes: float64(1), int64(1), object(4)\n",
      "memory usage: 6.7+ MB\n"
     ]
    }
   ],
   "source": [
    "df_basics.info()"
   ]
  },
  {
   "cell_type": "code",
   "execution_count": 5,
   "metadata": {},
   "outputs": [
    {
     "data": {
      "text/html": [
       "<div>\n",
       "<style scoped>\n",
       "    .dataframe tbody tr th:only-of-type {\n",
       "        vertical-align: middle;\n",
       "    }\n",
       "\n",
       "    .dataframe tbody tr th {\n",
       "        vertical-align: top;\n",
       "    }\n",
       "\n",
       "    .dataframe thead th {\n",
       "        text-align: right;\n",
       "    }\n",
       "</style>\n",
       "<table border=\"1\" class=\"dataframe\">\n",
       "  <thead>\n",
       "    <tr style=\"text-align: right;\">\n",
       "      <th></th>\n",
       "      <th>tconst</th>\n",
       "      <th>primary_title</th>\n",
       "      <th>original_title</th>\n",
       "      <th>start_year</th>\n",
       "      <th>runtime_minutes</th>\n",
       "      <th>genres</th>\n",
       "    </tr>\n",
       "  </thead>\n",
       "  <tbody>\n",
       "    <tr>\n",
       "      <th>0</th>\n",
       "      <td>tt0063540</td>\n",
       "      <td>Sunghursh</td>\n",
       "      <td>Sunghursh</td>\n",
       "      <td>2013</td>\n",
       "      <td>175.0</td>\n",
       "      <td>Action,Crime,Drama</td>\n",
       "    </tr>\n",
       "    <tr>\n",
       "      <th>1</th>\n",
       "      <td>tt0066787</td>\n",
       "      <td>One Day Before the Rainy Season</td>\n",
       "      <td>Ashad Ka Ek Din</td>\n",
       "      <td>2019</td>\n",
       "      <td>114.0</td>\n",
       "      <td>Biography,Drama</td>\n",
       "    </tr>\n",
       "    <tr>\n",
       "      <th>2</th>\n",
       "      <td>tt0069049</td>\n",
       "      <td>The Other Side of the Wind</td>\n",
       "      <td>The Other Side of the Wind</td>\n",
       "      <td>2018</td>\n",
       "      <td>122.0</td>\n",
       "      <td>Drama</td>\n",
       "    </tr>\n",
       "    <tr>\n",
       "      <th>3</th>\n",
       "      <td>tt0069204</td>\n",
       "      <td>Sabse Bada Sukh</td>\n",
       "      <td>Sabse Bada Sukh</td>\n",
       "      <td>2018</td>\n",
       "      <td>NaN</td>\n",
       "      <td>Comedy,Drama</td>\n",
       "    </tr>\n",
       "    <tr>\n",
       "      <th>4</th>\n",
       "      <td>tt0100275</td>\n",
       "      <td>The Wandering Soap Opera</td>\n",
       "      <td>La Telenovela Errante</td>\n",
       "      <td>2017</td>\n",
       "      <td>80.0</td>\n",
       "      <td>Comedy,Drama,Fantasy</td>\n",
       "    </tr>\n",
       "  </tbody>\n",
       "</table>\n",
       "</div>"
      ],
      "text/plain": [
       "      tconst                    primary_title              original_title  \\\n",
       "0  tt0063540                        Sunghursh                   Sunghursh   \n",
       "1  tt0066787  One Day Before the Rainy Season             Ashad Ka Ek Din   \n",
       "2  tt0069049       The Other Side of the Wind  The Other Side of the Wind   \n",
       "3  tt0069204                  Sabse Bada Sukh             Sabse Bada Sukh   \n",
       "4  tt0100275         The Wandering Soap Opera       La Telenovela Errante   \n",
       "\n",
       "   start_year  runtime_minutes                genres  \n",
       "0        2013            175.0    Action,Crime,Drama  \n",
       "1        2019            114.0       Biography,Drama  \n",
       "2        2018            122.0                 Drama  \n",
       "3        2018              NaN          Comedy,Drama  \n",
       "4        2017             80.0  Comedy,Drama,Fantasy  "
      ]
     },
     "execution_count": 5,
     "metadata": {},
     "output_type": "execute_result"
    }
   ],
   "source": [
    "df_basics.head()"
   ]
  },
  {
   "cell_type": "code",
   "execution_count": 6,
   "metadata": {},
   "outputs": [
    {
     "name": "stdout",
     "output_type": "stream",
     "text": [
      "<class 'pandas.core.frame.DataFrame'>\n",
      "RangeIndex: 73856 entries, 0 to 73855\n",
      "Data columns (total 3 columns):\n",
      "tconst           73856 non-null object\n",
      "averagerating    73856 non-null float64\n",
      "numvotes         73856 non-null int64\n",
      "dtypes: float64(1), int64(1), object(1)\n",
      "memory usage: 1.7+ MB\n"
     ]
    }
   ],
   "source": [
    "df_ratings.info()"
   ]
  },
  {
   "cell_type": "code",
   "execution_count": 7,
   "metadata": {},
   "outputs": [
    {
     "data": {
      "text/html": [
       "<div>\n",
       "<style scoped>\n",
       "    .dataframe tbody tr th:only-of-type {\n",
       "        vertical-align: middle;\n",
       "    }\n",
       "\n",
       "    .dataframe tbody tr th {\n",
       "        vertical-align: top;\n",
       "    }\n",
       "\n",
       "    .dataframe thead th {\n",
       "        text-align: right;\n",
       "    }\n",
       "</style>\n",
       "<table border=\"1\" class=\"dataframe\">\n",
       "  <thead>\n",
       "    <tr style=\"text-align: right;\">\n",
       "      <th></th>\n",
       "      <th>tconst</th>\n",
       "      <th>averagerating</th>\n",
       "      <th>numvotes</th>\n",
       "    </tr>\n",
       "  </thead>\n",
       "  <tbody>\n",
       "    <tr>\n",
       "      <th>0</th>\n",
       "      <td>tt10356526</td>\n",
       "      <td>8.3</td>\n",
       "      <td>31</td>\n",
       "    </tr>\n",
       "    <tr>\n",
       "      <th>1</th>\n",
       "      <td>tt10384606</td>\n",
       "      <td>8.9</td>\n",
       "      <td>559</td>\n",
       "    </tr>\n",
       "    <tr>\n",
       "      <th>2</th>\n",
       "      <td>tt1042974</td>\n",
       "      <td>6.4</td>\n",
       "      <td>20</td>\n",
       "    </tr>\n",
       "    <tr>\n",
       "      <th>3</th>\n",
       "      <td>tt1043726</td>\n",
       "      <td>4.2</td>\n",
       "      <td>50352</td>\n",
       "    </tr>\n",
       "    <tr>\n",
       "      <th>4</th>\n",
       "      <td>tt1060240</td>\n",
       "      <td>6.5</td>\n",
       "      <td>21</td>\n",
       "    </tr>\n",
       "  </tbody>\n",
       "</table>\n",
       "</div>"
      ],
      "text/plain": [
       "       tconst  averagerating  numvotes\n",
       "0  tt10356526            8.3        31\n",
       "1  tt10384606            8.9       559\n",
       "2   tt1042974            6.4        20\n",
       "3   tt1043726            4.2     50352\n",
       "4   tt1060240            6.5        21"
      ]
     },
     "execution_count": 7,
     "metadata": {},
     "output_type": "execute_result"
    }
   ],
   "source": [
    "df_ratings.head()"
   ]
  },
  {
   "cell_type": "code",
   "execution_count": 8,
   "metadata": {},
   "outputs": [
    {
     "name": "stdout",
     "output_type": "stream",
     "text": [
      "<class 'pandas.core.frame.DataFrame'>\n",
      "RangeIndex: 3387 entries, 0 to 3386\n",
      "Data columns (total 5 columns):\n",
      "title             3387 non-null object\n",
      "studio            3382 non-null object\n",
      "domestic_gross    3359 non-null float64\n",
      "foreign_gross     2037 non-null object\n",
      "year              3387 non-null int64\n",
      "dtypes: float64(1), int64(1), object(3)\n",
      "memory usage: 132.4+ KB\n"
     ]
    }
   ],
   "source": [
    "df_gross.info()"
   ]
  },
  {
   "cell_type": "code",
   "execution_count": 9,
   "metadata": {},
   "outputs": [
    {
     "data": {
      "text/html": [
       "<div>\n",
       "<style scoped>\n",
       "    .dataframe tbody tr th:only-of-type {\n",
       "        vertical-align: middle;\n",
       "    }\n",
       "\n",
       "    .dataframe tbody tr th {\n",
       "        vertical-align: top;\n",
       "    }\n",
       "\n",
       "    .dataframe thead th {\n",
       "        text-align: right;\n",
       "    }\n",
       "</style>\n",
       "<table border=\"1\" class=\"dataframe\">\n",
       "  <thead>\n",
       "    <tr style=\"text-align: right;\">\n",
       "      <th></th>\n",
       "      <th>title</th>\n",
       "      <th>studio</th>\n",
       "      <th>domestic_gross</th>\n",
       "      <th>foreign_gross</th>\n",
       "      <th>year</th>\n",
       "    </tr>\n",
       "  </thead>\n",
       "  <tbody>\n",
       "    <tr>\n",
       "      <th>0</th>\n",
       "      <td>Toy Story 3</td>\n",
       "      <td>BV</td>\n",
       "      <td>415000000.0</td>\n",
       "      <td>652000000</td>\n",
       "      <td>2010</td>\n",
       "    </tr>\n",
       "    <tr>\n",
       "      <th>1</th>\n",
       "      <td>Alice in Wonderland (2010)</td>\n",
       "      <td>BV</td>\n",
       "      <td>334200000.0</td>\n",
       "      <td>691300000</td>\n",
       "      <td>2010</td>\n",
       "    </tr>\n",
       "    <tr>\n",
       "      <th>2</th>\n",
       "      <td>Harry Potter and the Deathly Hallows Part 1</td>\n",
       "      <td>WB</td>\n",
       "      <td>296000000.0</td>\n",
       "      <td>664300000</td>\n",
       "      <td>2010</td>\n",
       "    </tr>\n",
       "    <tr>\n",
       "      <th>3</th>\n",
       "      <td>Inception</td>\n",
       "      <td>WB</td>\n",
       "      <td>292600000.0</td>\n",
       "      <td>535700000</td>\n",
       "      <td>2010</td>\n",
       "    </tr>\n",
       "    <tr>\n",
       "      <th>4</th>\n",
       "      <td>Shrek Forever After</td>\n",
       "      <td>P/DW</td>\n",
       "      <td>238700000.0</td>\n",
       "      <td>513900000</td>\n",
       "      <td>2010</td>\n",
       "    </tr>\n",
       "  </tbody>\n",
       "</table>\n",
       "</div>"
      ],
      "text/plain": [
       "                                         title studio  domestic_gross  \\\n",
       "0                                  Toy Story 3     BV     415000000.0   \n",
       "1                   Alice in Wonderland (2010)     BV     334200000.0   \n",
       "2  Harry Potter and the Deathly Hallows Part 1     WB     296000000.0   \n",
       "3                                    Inception     WB     292600000.0   \n",
       "4                          Shrek Forever After   P/DW     238700000.0   \n",
       "\n",
       "  foreign_gross  year  \n",
       "0     652000000  2010  \n",
       "1     691300000  2010  \n",
       "2     664300000  2010  \n",
       "3     535700000  2010  \n",
       "4     513900000  2010  "
      ]
     },
     "execution_count": 9,
     "metadata": {},
     "output_type": "execute_result"
    }
   ],
   "source": [
    "df_gross.head()"
   ]
  },
  {
   "cell_type": "code",
   "execution_count": 10,
   "metadata": {},
   "outputs": [
    {
     "name": "stdout",
     "output_type": "stream",
     "text": [
      "<class 'pandas.core.frame.DataFrame'>\n",
      "RangeIndex: 5782 entries, 0 to 5781\n",
      "Data columns (total 6 columns):\n",
      "id                   5782 non-null int64\n",
      "release_date         5782 non-null object\n",
      "movie                5782 non-null object\n",
      "production_budget    5782 non-null object\n",
      "domestic_gross       5782 non-null object\n",
      "worldwide_gross      5782 non-null object\n",
      "dtypes: int64(1), object(5)\n",
      "memory usage: 271.2+ KB\n"
     ]
    }
   ],
   "source": [
    "df_budget.info()"
   ]
  },
  {
   "cell_type": "code",
   "execution_count": 11,
   "metadata": {},
   "outputs": [
    {
     "data": {
      "text/html": [
       "<div>\n",
       "<style scoped>\n",
       "    .dataframe tbody tr th:only-of-type {\n",
       "        vertical-align: middle;\n",
       "    }\n",
       "\n",
       "    .dataframe tbody tr th {\n",
       "        vertical-align: top;\n",
       "    }\n",
       "\n",
       "    .dataframe thead th {\n",
       "        text-align: right;\n",
       "    }\n",
       "</style>\n",
       "<table border=\"1\" class=\"dataframe\">\n",
       "  <thead>\n",
       "    <tr style=\"text-align: right;\">\n",
       "      <th></th>\n",
       "      <th>id</th>\n",
       "      <th>release_date</th>\n",
       "      <th>movie</th>\n",
       "      <th>production_budget</th>\n",
       "      <th>domestic_gross</th>\n",
       "      <th>worldwide_gross</th>\n",
       "    </tr>\n",
       "  </thead>\n",
       "  <tbody>\n",
       "    <tr>\n",
       "      <th>0</th>\n",
       "      <td>1</td>\n",
       "      <td>Dec 18, 2009</td>\n",
       "      <td>Avatar</td>\n",
       "      <td>$425,000,000</td>\n",
       "      <td>$760,507,625</td>\n",
       "      <td>$2,776,345,279</td>\n",
       "    </tr>\n",
       "    <tr>\n",
       "      <th>1</th>\n",
       "      <td>2</td>\n",
       "      <td>May 20, 2011</td>\n",
       "      <td>Pirates of the Caribbean: On Stranger Tides</td>\n",
       "      <td>$410,600,000</td>\n",
       "      <td>$241,063,875</td>\n",
       "      <td>$1,045,663,875</td>\n",
       "    </tr>\n",
       "    <tr>\n",
       "      <th>2</th>\n",
       "      <td>3</td>\n",
       "      <td>Jun 7, 2019</td>\n",
       "      <td>Dark Phoenix</td>\n",
       "      <td>$350,000,000</td>\n",
       "      <td>$42,762,350</td>\n",
       "      <td>$149,762,350</td>\n",
       "    </tr>\n",
       "    <tr>\n",
       "      <th>3</th>\n",
       "      <td>4</td>\n",
       "      <td>May 1, 2015</td>\n",
       "      <td>Avengers: Age of Ultron</td>\n",
       "      <td>$330,600,000</td>\n",
       "      <td>$459,005,868</td>\n",
       "      <td>$1,403,013,963</td>\n",
       "    </tr>\n",
       "    <tr>\n",
       "      <th>4</th>\n",
       "      <td>5</td>\n",
       "      <td>Dec 15, 2017</td>\n",
       "      <td>Star Wars Ep. VIII: The Last Jedi</td>\n",
       "      <td>$317,000,000</td>\n",
       "      <td>$620,181,382</td>\n",
       "      <td>$1,316,721,747</td>\n",
       "    </tr>\n",
       "  </tbody>\n",
       "</table>\n",
       "</div>"
      ],
      "text/plain": [
       "   id  release_date                                        movie  \\\n",
       "0   1  Dec 18, 2009                                       Avatar   \n",
       "1   2  May 20, 2011  Pirates of the Caribbean: On Stranger Tides   \n",
       "2   3   Jun 7, 2019                                 Dark Phoenix   \n",
       "3   4   May 1, 2015                      Avengers: Age of Ultron   \n",
       "4   5  Dec 15, 2017            Star Wars Ep. VIII: The Last Jedi   \n",
       "\n",
       "  production_budget domestic_gross worldwide_gross  \n",
       "0      $425,000,000   $760,507,625  $2,776,345,279  \n",
       "1      $410,600,000   $241,063,875  $1,045,663,875  \n",
       "2      $350,000,000    $42,762,350    $149,762,350  \n",
       "3      $330,600,000   $459,005,868  $1,403,013,963  \n",
       "4      $317,000,000   $620,181,382  $1,316,721,747  "
      ]
     },
     "execution_count": 11,
     "metadata": {},
     "output_type": "execute_result"
    }
   ],
   "source": [
    "df_budget.head()"
   ]
  },
  {
   "cell_type": "markdown",
   "metadata": {},
   "source": [
    "# Business problem"
   ]
  },
  {
   "cell_type": "markdown",
   "metadata": {},
   "source": [
    "Business Problem\n",
    "Microsoft sees all the big companies creating original video content, and they want to get in on the fun. They have decided to create a new movie studio, but the problem is they don’t know anything about creating movies. They have hired you to help them better understand the movie industry. Your team is charged with exploring what type of films are currently doing the best at the box office. You must then translate those findings into actionable insights that the head of Microsoft's new movie studio can use to help decide what type of films to create."
   ]
  },
  {
   "cell_type": "markdown",
   "metadata": {},
   "source": [
    "# My questions and my plan"
   ]
  },
  {
   "cell_type": "markdown",
   "metadata": {},
   "source": [
    "1. Best Genre\n",
    "    * A best genre in Highest Mean Rating \n",
    "    * A best genre in Highest Total Gross(two resources)\n",
    "    * Comparing and Summary\n",
    "2. Budget vs Total Grosses\n",
    "    * Are budgets and total grosses connected?\n",
    "    * Which genre has the strongest relationship between budgets and total grosses?\n",
    "    * Which genre has the highest revenue(with budget information)?\n",
    "3. Best Runtime \n",
    "    * Find the most runtime range from top rating movies \n",
    "    * Find the most runtime range from top revenue movies\n",
    "    * Comparing and Summary"
   ]
  },
  {
   "cell_type": "markdown",
   "metadata": {},
   "source": [
    "I will tell the company which genre, which budget and which runtime will be best for a movie with an expected revenue."
   ]
  },
  {
   "cell_type": "markdown",
   "metadata": {},
   "source": [
    "# Data Cleaning"
   ]
  },
  {
   "cell_type": "markdown",
   "metadata": {},
   "source": [
    "### Clean df_basics"
   ]
  },
  {
   "cell_type": "code",
   "execution_count": 12,
   "metadata": {},
   "outputs": [
    {
     "data": {
      "text/html": [
       "<div>\n",
       "<style scoped>\n",
       "    .dataframe tbody tr th:only-of-type {\n",
       "        vertical-align: middle;\n",
       "    }\n",
       "\n",
       "    .dataframe tbody tr th {\n",
       "        vertical-align: top;\n",
       "    }\n",
       "\n",
       "    .dataframe thead th {\n",
       "        text-align: right;\n",
       "    }\n",
       "</style>\n",
       "<table border=\"1\" class=\"dataframe\">\n",
       "  <thead>\n",
       "    <tr style=\"text-align: right;\">\n",
       "      <th></th>\n",
       "      <th>tconst</th>\n",
       "      <th>primary_title</th>\n",
       "      <th>original_title</th>\n",
       "      <th>start_year</th>\n",
       "      <th>runtime_minutes</th>\n",
       "      <th>genres</th>\n",
       "    </tr>\n",
       "  </thead>\n",
       "  <tbody>\n",
       "  </tbody>\n",
       "</table>\n",
       "</div>"
      ],
      "text/plain": [
       "Empty DataFrame\n",
       "Columns: [tconst, primary_title, original_title, start_year, runtime_minutes, genres]\n",
       "Index: []"
      ]
     },
     "execution_count": 12,
     "metadata": {},
     "output_type": "execute_result"
    }
   ],
   "source": [
    "#Check whole duplicate values\n",
    "df_basics[df_basics.duplicated()]"
   ]
  },
  {
   "cell_type": "code",
   "execution_count": 13,
   "metadata": {},
   "outputs": [],
   "source": [
    "#A function to check duplicate values of each columns  \n",
    "def check_duplicate(df):\n",
    "    duplicate = []\n",
    "    for i in df.columns:\n",
    "        if len(df[i].unique()) != len(df):\n",
    "            duplicate.append(i)\n",
    "    return duplicate"
   ]
  },
  {
   "cell_type": "code",
   "execution_count": 14,
   "metadata": {},
   "outputs": [
    {
     "data": {
      "text/plain": [
       "['primary_title', 'original_title', 'start_year', 'runtime_minutes', 'genres']"
      ]
     },
     "execution_count": 14,
     "metadata": {},
     "output_type": "execute_result"
    }
   ],
   "source": [
    "check_duplicate(df_basics)"
   ]
  },
  {
   "cell_type": "markdown",
   "metadata": {},
   "source": [
    "These columns are having duplicate values. 'start_year', 'runtime_minutes', 'genres' are common with duplicate values. I will check 'primary_title', 'original_title' deeper below."
   ]
  },
  {
   "cell_type": "code",
   "execution_count": 15,
   "metadata": {},
   "outputs": [
    {
     "data": {
      "text/html": [
       "<div>\n",
       "<style scoped>\n",
       "    .dataframe tbody tr th:only-of-type {\n",
       "        vertical-align: middle;\n",
       "    }\n",
       "\n",
       "    .dataframe tbody tr th {\n",
       "        vertical-align: top;\n",
       "    }\n",
       "\n",
       "    .dataframe thead th {\n",
       "        text-align: right;\n",
       "    }\n",
       "</style>\n",
       "<table border=\"1\" class=\"dataframe\">\n",
       "  <thead>\n",
       "    <tr style=\"text-align: right;\">\n",
       "      <th></th>\n",
       "      <th>tconst</th>\n",
       "      <th>primary_title</th>\n",
       "      <th>original_title</th>\n",
       "      <th>start_year</th>\n",
       "      <th>runtime_minutes</th>\n",
       "      <th>genres</th>\n",
       "    </tr>\n",
       "  </thead>\n",
       "  <tbody>\n",
       "    <tr>\n",
       "      <th>706</th>\n",
       "      <td>tt10022974</td>\n",
       "      <td>Nemesis</td>\n",
       "      <td>Nemesis</td>\n",
       "      <td>2019</td>\n",
       "      <td>NaN</td>\n",
       "      <td>Action,Thriller</td>\n",
       "    </tr>\n",
       "    <tr>\n",
       "      <th>948</th>\n",
       "      <td>tt10064536</td>\n",
       "      <td>Untitled Disney Marvel Film</td>\n",
       "      <td>Untitled Disney Marvel Film</td>\n",
       "      <td>2022</td>\n",
       "      <td>NaN</td>\n",
       "      <td>Action</td>\n",
       "    </tr>\n",
       "    <tr>\n",
       "      <th>949</th>\n",
       "      <td>tt10064558</td>\n",
       "      <td>Untitled Marvel Film</td>\n",
       "      <td>Untitled Marvel Film</td>\n",
       "      <td>2021</td>\n",
       "      <td>NaN</td>\n",
       "      <td>Action</td>\n",
       "    </tr>\n",
       "    <tr>\n",
       "      <th>1478</th>\n",
       "      <td>tt10127292</td>\n",
       "      <td>Plushtubers: The Apocalypse</td>\n",
       "      <td>Plushtubers: The Apocalypse</td>\n",
       "      <td>2019</td>\n",
       "      <td>NaN</td>\n",
       "      <td>Action,Adventure</td>\n",
       "    </tr>\n",
       "    <tr>\n",
       "      <th>1622</th>\n",
       "      <td>tt10148772</td>\n",
       "      <td>Indemnity</td>\n",
       "      <td>Indemnity</td>\n",
       "      <td>2018</td>\n",
       "      <td>45.0</td>\n",
       "      <td>Thriller</td>\n",
       "    </tr>\n",
       "    <tr>\n",
       "      <th>...</th>\n",
       "      <td>...</td>\n",
       "      <td>...</td>\n",
       "      <td>...</td>\n",
       "      <td>...</td>\n",
       "      <td>...</td>\n",
       "      <td>...</td>\n",
       "    </tr>\n",
       "    <tr>\n",
       "      <th>146119</th>\n",
       "      <td>tt9913594</td>\n",
       "      <td>Bacchanalia</td>\n",
       "      <td>Bacchanalia</td>\n",
       "      <td>2017</td>\n",
       "      <td>72.0</td>\n",
       "      <td>Drama,Mystery,Thriller</td>\n",
       "    </tr>\n",
       "    <tr>\n",
       "      <th>146120</th>\n",
       "      <td>tt9913936</td>\n",
       "      <td>Paradise</td>\n",
       "      <td>Paradise</td>\n",
       "      <td>2019</td>\n",
       "      <td>NaN</td>\n",
       "      <td>Crime,Drama</td>\n",
       "    </tr>\n",
       "    <tr>\n",
       "      <th>146125</th>\n",
       "      <td>tt9914642</td>\n",
       "      <td>Albatross</td>\n",
       "      <td>Albatross</td>\n",
       "      <td>2017</td>\n",
       "      <td>NaN</td>\n",
       "      <td>Documentary</td>\n",
       "    </tr>\n",
       "    <tr>\n",
       "      <th>146134</th>\n",
       "      <td>tt9916160</td>\n",
       "      <td>Drømmeland</td>\n",
       "      <td>Drømmeland</td>\n",
       "      <td>2019</td>\n",
       "      <td>72.0</td>\n",
       "      <td>Documentary</td>\n",
       "    </tr>\n",
       "    <tr>\n",
       "      <th>146135</th>\n",
       "      <td>tt9916170</td>\n",
       "      <td>The Rehearsal</td>\n",
       "      <td>O Ensaio</td>\n",
       "      <td>2019</td>\n",
       "      <td>51.0</td>\n",
       "      <td>Drama</td>\n",
       "    </tr>\n",
       "  </tbody>\n",
       "</table>\n",
       "<p>10073 rows × 6 columns</p>\n",
       "</div>"
      ],
      "text/plain": [
       "            tconst                primary_title               original_title  \\\n",
       "706     tt10022974                      Nemesis                      Nemesis   \n",
       "948     tt10064536  Untitled Disney Marvel Film  Untitled Disney Marvel Film   \n",
       "949     tt10064558         Untitled Marvel Film         Untitled Marvel Film   \n",
       "1478    tt10127292  Plushtubers: The Apocalypse  Plushtubers: The Apocalypse   \n",
       "1622    tt10148772                    Indemnity                    Indemnity   \n",
       "...            ...                          ...                          ...   \n",
       "146119   tt9913594                  Bacchanalia                  Bacchanalia   \n",
       "146120   tt9913936                     Paradise                     Paradise   \n",
       "146125   tt9914642                    Albatross                    Albatross   \n",
       "146134   tt9916160                   Drømmeland                   Drømmeland   \n",
       "146135   tt9916170                The Rehearsal                     O Ensaio   \n",
       "\n",
       "        start_year  runtime_minutes                  genres  \n",
       "706           2019              NaN         Action,Thriller  \n",
       "948           2022              NaN                  Action  \n",
       "949           2021              NaN                  Action  \n",
       "1478          2019              NaN        Action,Adventure  \n",
       "1622          2018             45.0                Thriller  \n",
       "...            ...              ...                     ...  \n",
       "146119        2017             72.0  Drama,Mystery,Thriller  \n",
       "146120        2019              NaN             Crime,Drama  \n",
       "146125        2017              NaN             Documentary  \n",
       "146134        2019             72.0             Documentary  \n",
       "146135        2019             51.0                   Drama  \n",
       "\n",
       "[10073 rows x 6 columns]"
      ]
     },
     "execution_count": 15,
     "metadata": {},
     "output_type": "execute_result"
    }
   ],
   "source": [
    "df_basics[df_basics['primary_title'].duplicated()]"
   ]
  },
  {
   "cell_type": "markdown",
   "metadata": {},
   "source": [
    "## Data Inconstency\n",
    "Some movies with duplicate title have different start_years, genres or  runtime_minutes. This may cause outliers in the data"
   ]
  },
  {
   "cell_type": "code",
   "execution_count": 16,
   "metadata": {},
   "outputs": [
    {
     "data": {
      "text/html": [
       "<div>\n",
       "<style scoped>\n",
       "    .dataframe tbody tr th:only-of-type {\n",
       "        vertical-align: middle;\n",
       "    }\n",
       "\n",
       "    .dataframe tbody tr th {\n",
       "        vertical-align: top;\n",
       "    }\n",
       "\n",
       "    .dataframe thead th {\n",
       "        text-align: right;\n",
       "    }\n",
       "</style>\n",
       "<table border=\"1\" class=\"dataframe\">\n",
       "  <thead>\n",
       "    <tr style=\"text-align: right;\">\n",
       "      <th></th>\n",
       "      <th>tconst</th>\n",
       "      <th>primary_title</th>\n",
       "      <th>original_title</th>\n",
       "      <th>start_year</th>\n",
       "      <th>runtime_minutes</th>\n",
       "      <th>genres</th>\n",
       "    </tr>\n",
       "  </thead>\n",
       "  <tbody>\n",
       "    <tr>\n",
       "      <th>280</th>\n",
       "      <td>tt0800353</td>\n",
       "      <td>Nemesis</td>\n",
       "      <td>Nemesis</td>\n",
       "      <td>2010</td>\n",
       "      <td>83.0</td>\n",
       "      <td>Drama</td>\n",
       "    </tr>\n",
       "    <tr>\n",
       "      <th>706</th>\n",
       "      <td>tt10022974</td>\n",
       "      <td>Nemesis</td>\n",
       "      <td>Nemesis</td>\n",
       "      <td>2019</td>\n",
       "      <td>NaN</td>\n",
       "      <td>Action,Thriller</td>\n",
       "    </tr>\n",
       "    <tr>\n",
       "      <th>136440</th>\n",
       "      <td>tt8695086</td>\n",
       "      <td>Nemesis</td>\n",
       "      <td>Nemesis</td>\n",
       "      <td>2019</td>\n",
       "      <td>78.0</td>\n",
       "      <td>Thriller</td>\n",
       "    </tr>\n",
       "  </tbody>\n",
       "</table>\n",
       "</div>"
      ],
      "text/plain": [
       "            tconst primary_title original_title  start_year  runtime_minutes  \\\n",
       "280      tt0800353       Nemesis        Nemesis        2010             83.0   \n",
       "706     tt10022974       Nemesis        Nemesis        2019              NaN   \n",
       "136440   tt8695086       Nemesis        Nemesis        2019             78.0   \n",
       "\n",
       "                 genres  \n",
       "280               Drama  \n",
       "706     Action,Thriller  \n",
       "136440         Thriller  "
      ]
     },
     "execution_count": 16,
     "metadata": {},
     "output_type": "execute_result"
    }
   ],
   "source": [
    "# different runtimes/genres and start years\n",
    "df_basics[df_basics['primary_title']=='Nemesis']"
   ]
  },
  {
   "cell_type": "code",
   "execution_count": 17,
   "metadata": {},
   "outputs": [
    {
     "data": {
      "text/html": [
       "<div>\n",
       "<style scoped>\n",
       "    .dataframe tbody tr th:only-of-type {\n",
       "        vertical-align: middle;\n",
       "    }\n",
       "\n",
       "    .dataframe tbody tr th {\n",
       "        vertical-align: top;\n",
       "    }\n",
       "\n",
       "    .dataframe thead th {\n",
       "        text-align: right;\n",
       "    }\n",
       "</style>\n",
       "<table border=\"1\" class=\"dataframe\">\n",
       "  <thead>\n",
       "    <tr style=\"text-align: right;\">\n",
       "      <th></th>\n",
       "      <th>tconst</th>\n",
       "      <th>primary_title</th>\n",
       "      <th>original_title</th>\n",
       "      <th>start_year</th>\n",
       "      <th>runtime_minutes</th>\n",
       "      <th>genres</th>\n",
       "    </tr>\n",
       "  </thead>\n",
       "  <tbody>\n",
       "    <tr>\n",
       "      <th>821</th>\n",
       "      <td>tt10042446</td>\n",
       "      <td>Untitled Disney Marvel Film</td>\n",
       "      <td>Untitled Disney Marvel Film</td>\n",
       "      <td>2022</td>\n",
       "      <td>NaN</td>\n",
       "      <td>Action</td>\n",
       "    </tr>\n",
       "    <tr>\n",
       "      <th>948</th>\n",
       "      <td>tt10064536</td>\n",
       "      <td>Untitled Disney Marvel Film</td>\n",
       "      <td>Untitled Disney Marvel Film</td>\n",
       "      <td>2022</td>\n",
       "      <td>NaN</td>\n",
       "      <td>Action</td>\n",
       "    </tr>\n",
       "    <tr>\n",
       "      <th>130616</th>\n",
       "      <td>tt8097016</td>\n",
       "      <td>Untitled Disney Marvel Film</td>\n",
       "      <td>Untitled Disney Marvel Film</td>\n",
       "      <td>2022</td>\n",
       "      <td>NaN</td>\n",
       "      <td>Action</td>\n",
       "    </tr>\n",
       "  </tbody>\n",
       "</table>\n",
       "</div>"
      ],
      "text/plain": [
       "            tconst                primary_title               original_title  \\\n",
       "821     tt10042446  Untitled Disney Marvel Film  Untitled Disney Marvel Film   \n",
       "948     tt10064536  Untitled Disney Marvel Film  Untitled Disney Marvel Film   \n",
       "130616   tt8097016  Untitled Disney Marvel Film  Untitled Disney Marvel Film   \n",
       "\n",
       "        start_year  runtime_minutes  genres  \n",
       "821           2022              NaN  Action  \n",
       "948           2022              NaN  Action  \n",
       "130616        2022              NaN  Action  "
      ]
     },
     "execution_count": 17,
     "metadata": {},
     "output_type": "execute_result"
    }
   ],
   "source": [
    "# 3 rows with same values \n",
    "df_basics[df_basics['primary_title']=='Untitled Disney Marvel Film']"
   ]
  },
  {
   "cell_type": "code",
   "execution_count": 18,
   "metadata": {
    "scrolled": true
   },
   "outputs": [
    {
     "data": {
      "text/html": [
       "<div>\n",
       "<style scoped>\n",
       "    .dataframe tbody tr th:only-of-type {\n",
       "        vertical-align: middle;\n",
       "    }\n",
       "\n",
       "    .dataframe tbody tr th {\n",
       "        vertical-align: top;\n",
       "    }\n",
       "\n",
       "    .dataframe thead th {\n",
       "        text-align: right;\n",
       "    }\n",
       "</style>\n",
       "<table border=\"1\" class=\"dataframe\">\n",
       "  <thead>\n",
       "    <tr style=\"text-align: right;\">\n",
       "      <th></th>\n",
       "      <th>tconst</th>\n",
       "      <th>primary_title</th>\n",
       "      <th>original_title</th>\n",
       "      <th>start_year</th>\n",
       "      <th>runtime_minutes</th>\n",
       "      <th>genres</th>\n",
       "    </tr>\n",
       "  </thead>\n",
       "  <tbody>\n",
       "    <tr>\n",
       "      <th>948</th>\n",
       "      <td>tt10064536</td>\n",
       "      <td>Untitled Disney Marvel Film</td>\n",
       "      <td>Untitled Disney Marvel Film</td>\n",
       "      <td>2022</td>\n",
       "      <td>NaN</td>\n",
       "      <td>Action</td>\n",
       "    </tr>\n",
       "    <tr>\n",
       "      <th>949</th>\n",
       "      <td>tt10064558</td>\n",
       "      <td>Untitled Marvel Film</td>\n",
       "      <td>Untitled Marvel Film</td>\n",
       "      <td>2021</td>\n",
       "      <td>NaN</td>\n",
       "      <td>Action</td>\n",
       "    </tr>\n",
       "    <tr>\n",
       "      <th>1478</th>\n",
       "      <td>tt10127292</td>\n",
       "      <td>Plushtubers: The Apocalypse</td>\n",
       "      <td>Plushtubers: The Apocalypse</td>\n",
       "      <td>2019</td>\n",
       "      <td>NaN</td>\n",
       "      <td>Action,Adventure</td>\n",
       "    </tr>\n",
       "    <tr>\n",
       "      <th>2231</th>\n",
       "      <td>tt10224422</td>\n",
       "      <td>Olanda</td>\n",
       "      <td>Olanda</td>\n",
       "      <td>2019</td>\n",
       "      <td>154.0</td>\n",
       "      <td>Documentary</td>\n",
       "    </tr>\n",
       "    <tr>\n",
       "      <th>2286</th>\n",
       "      <td>tt10230042</td>\n",
       "      <td>Rok Sako To Rok Lo</td>\n",
       "      <td>Rok Sako To Rok Lo</td>\n",
       "      <td>2018</td>\n",
       "      <td>NaN</td>\n",
       "      <td>Comedy</td>\n",
       "    </tr>\n",
       "    <tr>\n",
       "      <th>...</th>\n",
       "      <td>...</td>\n",
       "      <td>...</td>\n",
       "      <td>...</td>\n",
       "      <td>...</td>\n",
       "      <td>...</td>\n",
       "      <td>...</td>\n",
       "    </tr>\n",
       "    <tr>\n",
       "      <th>144016</th>\n",
       "      <td>tt9616952</td>\n",
       "      <td>View from the Past</td>\n",
       "      <td>View from the Past</td>\n",
       "      <td>2019</td>\n",
       "      <td>NaN</td>\n",
       "      <td>Sci-Fi</td>\n",
       "    </tr>\n",
       "    <tr>\n",
       "      <th>144392</th>\n",
       "      <td>tt9660588</td>\n",
       "      <td>3. Elma</td>\n",
       "      <td>3. Elma</td>\n",
       "      <td>2014</td>\n",
       "      <td>65.0</td>\n",
       "      <td>Drama</td>\n",
       "    </tr>\n",
       "    <tr>\n",
       "      <th>144622</th>\n",
       "      <td>tt9688944</td>\n",
       "      <td>Um fio de esperança: independência ou guerra n...</td>\n",
       "      <td>Um fio de esperança: independência ou guerra n...</td>\n",
       "      <td>2017</td>\n",
       "      <td>94.0</td>\n",
       "      <td>Documentary</td>\n",
       "    </tr>\n",
       "    <tr>\n",
       "      <th>145118</th>\n",
       "      <td>tt9773302</td>\n",
       "      <td>3. Elma</td>\n",
       "      <td>3. Elma</td>\n",
       "      <td>2014</td>\n",
       "      <td>65.0</td>\n",
       "      <td>Drama</td>\n",
       "    </tr>\n",
       "    <tr>\n",
       "      <th>145937</th>\n",
       "      <td>tt9889072</td>\n",
       "      <td>The Promise</td>\n",
       "      <td>The Promise</td>\n",
       "      <td>2017</td>\n",
       "      <td>NaN</td>\n",
       "      <td>Drama</td>\n",
       "    </tr>\n",
       "  </tbody>\n",
       "</table>\n",
       "<p>122 rows × 6 columns</p>\n",
       "</div>"
      ],
      "text/plain": [
       "            tconst                                      primary_title  \\\n",
       "948     tt10064536                        Untitled Disney Marvel Film   \n",
       "949     tt10064558                               Untitled Marvel Film   \n",
       "1478    tt10127292                        Plushtubers: The Apocalypse   \n",
       "2231    tt10224422                                             Olanda   \n",
       "2286    tt10230042                                 Rok Sako To Rok Lo   \n",
       "...            ...                                                ...   \n",
       "144016   tt9616952                                 View from the Past   \n",
       "144392   tt9660588                                            3. Elma   \n",
       "144622   tt9688944  Um fio de esperança: independência ou guerra n...   \n",
       "145118   tt9773302                                            3. Elma   \n",
       "145937   tt9889072                                        The Promise   \n",
       "\n",
       "                                           original_title  start_year  \\\n",
       "948                           Untitled Disney Marvel Film        2022   \n",
       "949                                  Untitled Marvel Film        2021   \n",
       "1478                          Plushtubers: The Apocalypse        2019   \n",
       "2231                                               Olanda        2019   \n",
       "2286                                   Rok Sako To Rok Lo        2018   \n",
       "...                                                   ...         ...   \n",
       "144016                                 View from the Past        2019   \n",
       "144392                                            3. Elma        2014   \n",
       "144622  Um fio de esperança: independência ou guerra n...        2017   \n",
       "145118                                            3. Elma        2014   \n",
       "145937                                        The Promise        2017   \n",
       "\n",
       "        runtime_minutes            genres  \n",
       "948                 NaN            Action  \n",
       "949                 NaN            Action  \n",
       "1478                NaN  Action,Adventure  \n",
       "2231              154.0       Documentary  \n",
       "2286                NaN            Comedy  \n",
       "...                 ...               ...  \n",
       "144016              NaN            Sci-Fi  \n",
       "144392             65.0             Drama  \n",
       "144622             94.0       Documentary  \n",
       "145118             65.0             Drama  \n",
       "145937              NaN             Drama  \n",
       "\n",
       "[122 rows x 6 columns]"
      ]
     },
     "execution_count": 18,
     "metadata": {},
     "output_type": "execute_result"
    }
   ],
   "source": [
    "#All movies with duplicate title, start_year, runtime_munutes and genres\n",
    "df_basics[df_basics.duplicated(subset=['primary_title','original_title', 'start_year', \n",
    "                                       'runtime_minutes', 'genres'])]"
   ]
  },
  {
   "cell_type": "code",
   "execution_count": 19,
   "metadata": {},
   "outputs": [
    {
     "data": {
      "text/plain": [
       "146022"
      ]
     },
     "execution_count": 19,
     "metadata": {},
     "output_type": "execute_result"
    }
   ],
   "source": [
    "#Drop those movies with duplicate tittle, start_year, runtime_munutes and genres\n",
    "df_basics.drop_duplicates(subset=['primary_title','original_title', 'start_year', \n",
    "                                       'runtime_minutes', 'genres'], inplace=True)\n",
    "len(df_basics)"
   ]
  },
  {
   "cell_type": "markdown",
   "metadata": {},
   "source": [
    "### Check na values"
   ]
  },
  {
   "cell_type": "code",
   "execution_count": 20,
   "metadata": {},
   "outputs": [],
   "source": [
    "def check_na(df):\n",
    "    return df.isna().sum(axis=0)*100/df_basics.shape[0]"
   ]
  },
  {
   "cell_type": "code",
   "execution_count": 21,
   "metadata": {},
   "outputs": [
    {
     "data": {
      "text/plain": [
       "tconst              0.000000\n",
       "primary_title       0.000000\n",
       "original_title      0.014381\n",
       "start_year          0.000000\n",
       "runtime_minutes    21.695361\n",
       "genres              3.694649\n",
       "dtype: float64"
      ]
     },
     "execution_count": 21,
     "metadata": {},
     "output_type": "execute_result"
    }
   ],
   "source": [
    "check_na(df_basics)"
   ]
  },
  {
   "cell_type": "code",
   "execution_count": 22,
   "metadata": {},
   "outputs": [
    {
     "data": {
      "text/plain": [
       "(112173, 6)"
      ]
     },
     "execution_count": 22,
     "metadata": {},
     "output_type": "execute_result"
    }
   ],
   "source": [
    "#Not a high percentile of na value, choose to all drop them and check the shape again\n",
    "df_basics.dropna(inplace=True)\n",
    "df_basics.shape"
   ]
  },
  {
   "cell_type": "markdown",
   "metadata": {},
   "source": [
    "### Check erroneous values"
   ]
  },
  {
   "cell_type": "code",
   "execution_count": 23,
   "metadata": {},
   "outputs": [
    {
     "data": {
      "text/plain": [
       "(2010, 2022)"
      ]
     },
     "execution_count": 23,
     "metadata": {},
     "output_type": "execute_result"
    }
   ],
   "source": [
    "#For start year, the valid area set to (1000,2020)\n",
    "(min(df_basics['start_year']), max(df_basics['start_year']))"
   ]
  },
  {
   "cell_type": "markdown",
   "metadata": {},
   "source": [
    "Obviously, the maximum value 2022 is not a vaild value"
   ]
  },
  {
   "cell_type": "code",
   "execution_count": 24,
   "metadata": {},
   "outputs": [],
   "source": [
    "drop_index = df_basics[df_basics['start_year'] > 2020].index"
   ]
  },
  {
   "cell_type": "code",
   "execution_count": 25,
   "metadata": {},
   "outputs": [
    {
     "data": {
      "text/plain": [
       "(2010, 2020)"
      ]
     },
     "execution_count": 25,
     "metadata": {},
     "output_type": "execute_result"
    }
   ],
   "source": [
    "#drop those invaild values and double check\n",
    "df_basics.drop(drop_index, inplace=True)\n",
    "(min(df_basics['start_year']), max(df_basics['start_year']))"
   ]
  },
  {
   "cell_type": "code",
   "execution_count": 26,
   "metadata": {},
   "outputs": [
    {
     "data": {
      "text/plain": [
       "(112166, 6)"
      ]
     },
     "execution_count": 26,
     "metadata": {},
     "output_type": "execute_result"
    }
   ],
   "source": [
    "#Double check the df size\n",
    "df_basics.shape"
   ]
  },
  {
   "cell_type": "code",
   "execution_count": 27,
   "metadata": {},
   "outputs": [
    {
     "data": {
      "text/plain": [
       "(1.0, 51420.0)"
      ]
     },
     "execution_count": 27,
     "metadata": {},
     "output_type": "execute_result"
    }
   ],
   "source": [
    "#Now for the runtime_minutes, the valid area set to (0,650). \n",
    "#PS: The longest time of a movie is 643 minutes via Google.\n",
    "(min(df_basics['runtime_minutes']), max(df_basics['runtime_minutes']))"
   ]
  },
  {
   "cell_type": "code",
   "execution_count": 28,
   "metadata": {},
   "outputs": [
    {
     "data": {
      "text/html": [
       "<div>\n",
       "<style scoped>\n",
       "    .dataframe tbody tr th:only-of-type {\n",
       "        vertical-align: middle;\n",
       "    }\n",
       "\n",
       "    .dataframe tbody tr th {\n",
       "        vertical-align: top;\n",
       "    }\n",
       "\n",
       "    .dataframe thead th {\n",
       "        text-align: right;\n",
       "    }\n",
       "</style>\n",
       "<table border=\"1\" class=\"dataframe\">\n",
       "  <thead>\n",
       "    <tr style=\"text-align: right;\">\n",
       "      <th></th>\n",
       "      <th>tconst</th>\n",
       "      <th>primary_title</th>\n",
       "      <th>original_title</th>\n",
       "      <th>start_year</th>\n",
       "      <th>runtime_minutes</th>\n",
       "      <th>genres</th>\n",
       "    </tr>\n",
       "  </thead>\n",
       "  <tbody>\n",
       "    <tr>\n",
       "      <th>2570</th>\n",
       "      <td>tt10265824</td>\n",
       "      <td>Lamentation For Little Girls Who Are In Love W...</td>\n",
       "      <td>Lamentation For Little Girls Who Are In Love W...</td>\n",
       "      <td>2019</td>\n",
       "      <td>1.0</td>\n",
       "      <td>Animation</td>\n",
       "    </tr>\n",
       "    <tr>\n",
       "      <th>3298</th>\n",
       "      <td>tt10326116</td>\n",
       "      <td>Happy New Year</td>\n",
       "      <td>Happy New Year</td>\n",
       "      <td>2019</td>\n",
       "      <td>1.0</td>\n",
       "      <td>Animation</td>\n",
       "    </tr>\n",
       "    <tr>\n",
       "      <th>22903</th>\n",
       "      <td>tt1935926</td>\n",
       "      <td>Tierra</td>\n",
       "      <td>Tierra</td>\n",
       "      <td>2010</td>\n",
       "      <td>1.0</td>\n",
       "      <td>Documentary,Family</td>\n",
       "    </tr>\n",
       "    <tr>\n",
       "      <th>54307</th>\n",
       "      <td>tt3194766</td>\n",
       "      <td>Guerreiros da paz e poesia: It All Depends on Us</td>\n",
       "      <td>Guerreiros da paz e poesia: It All Depends on Us</td>\n",
       "      <td>2013</td>\n",
       "      <td>1.0</td>\n",
       "      <td>Documentary,Music</td>\n",
       "    </tr>\n",
       "    <tr>\n",
       "      <th>57140</th>\n",
       "      <td>tt3331660</td>\n",
       "      <td>Shark Sanctuary</td>\n",
       "      <td>Shark Sanctuary</td>\n",
       "      <td>2012</td>\n",
       "      <td>1.0</td>\n",
       "      <td>Adventure,Documentary</td>\n",
       "    </tr>\n",
       "    <tr>\n",
       "      <th>60809</th>\n",
       "      <td>tt3515578</td>\n",
       "      <td>November</td>\n",
       "      <td>November</td>\n",
       "      <td>2014</td>\n",
       "      <td>1.0</td>\n",
       "      <td>Documentary,History</td>\n",
       "    </tr>\n",
       "    <tr>\n",
       "      <th>72190</th>\n",
       "      <td>tt4122866</td>\n",
       "      <td>Powered By Green Smoothies</td>\n",
       "      <td>Powered By Green Smoothies</td>\n",
       "      <td>2014</td>\n",
       "      <td>1.0</td>\n",
       "      <td>Adventure,Documentary,Sport</td>\n",
       "    </tr>\n",
       "    <tr>\n",
       "      <th>93214</th>\n",
       "      <td>tt5430316</td>\n",
       "      <td>Great Valley Nature Center Documentary</td>\n",
       "      <td>Great Valley Nature Center Documentary</td>\n",
       "      <td>2015</td>\n",
       "      <td>1.0</td>\n",
       "      <td>Documentary</td>\n",
       "    </tr>\n",
       "    <tr>\n",
       "      <th>95787</th>\n",
       "      <td>tt5589268</td>\n",
       "      <td>A Serendipitous Exploration</td>\n",
       "      <td>A Serendipitous Exploration</td>\n",
       "      <td>2016</td>\n",
       "      <td>1.0</td>\n",
       "      <td>Documentary</td>\n",
       "    </tr>\n",
       "    <tr>\n",
       "      <th>98755</th>\n",
       "      <td>tt5773518</td>\n",
       "      <td>Isa One Minute Portrait</td>\n",
       "      <td>Isa One Minute Portrait</td>\n",
       "      <td>2016</td>\n",
       "      <td>1.0</td>\n",
       "      <td>Documentary</td>\n",
       "    </tr>\n",
       "    <tr>\n",
       "      <th>113278</th>\n",
       "      <td>tt6667004</td>\n",
       "      <td>First and Last</td>\n",
       "      <td>First and Last</td>\n",
       "      <td>2016</td>\n",
       "      <td>1.0</td>\n",
       "      <td>Documentary,War</td>\n",
       "    </tr>\n",
       "    <tr>\n",
       "      <th>114067</th>\n",
       "      <td>tt6734902</td>\n",
       "      <td>One Minute Of Resistance</td>\n",
       "      <td>One Minute Of Resistance</td>\n",
       "      <td>2017</td>\n",
       "      <td>1.0</td>\n",
       "      <td>Documentary,News</td>\n",
       "    </tr>\n",
       "    <tr>\n",
       "      <th>116943</th>\n",
       "      <td>tt6961892</td>\n",
       "      <td>Warnings missed? The crop circle of May 21, 2017</td>\n",
       "      <td>Warnings missed? The crop circle of May 21, 2017</td>\n",
       "      <td>2017</td>\n",
       "      <td>1.0</td>\n",
       "      <td>Documentary,Horror,Mystery</td>\n",
       "    </tr>\n",
       "    <tr>\n",
       "      <th>117258</th>\n",
       "      <td>tt6983350</td>\n",
       "      <td>Champion</td>\n",
       "      <td>Champion</td>\n",
       "      <td>2017</td>\n",
       "      <td>1.0</td>\n",
       "      <td>Documentary,Sport</td>\n",
       "    </tr>\n",
       "    <tr>\n",
       "      <th>125975</th>\n",
       "      <td>tt7685942</td>\n",
       "      <td>parTy boi, black diamonds in ice castles</td>\n",
       "      <td>parTy boi, black diamonds in ice castles</td>\n",
       "      <td>2017</td>\n",
       "      <td>1.0</td>\n",
       "      <td>Documentary</td>\n",
       "    </tr>\n",
       "    <tr>\n",
       "      <th>136059</th>\n",
       "      <td>tt8656518</td>\n",
       "      <td>Summer Love</td>\n",
       "      <td>Summer Love</td>\n",
       "      <td>2018</td>\n",
       "      <td>1.0</td>\n",
       "      <td>Comedy,Short</td>\n",
       "    </tr>\n",
       "    <tr>\n",
       "      <th>140571</th>\n",
       "      <td>tt9124086</td>\n",
       "      <td>For A Better Life</td>\n",
       "      <td>For A Better Life</td>\n",
       "      <td>2018</td>\n",
       "      <td>1.0</td>\n",
       "      <td>Documentary,Family</td>\n",
       "    </tr>\n",
       "  </tbody>\n",
       "</table>\n",
       "</div>"
      ],
      "text/plain": [
       "            tconst                                      primary_title  \\\n",
       "2570    tt10265824  Lamentation For Little Girls Who Are In Love W...   \n",
       "3298    tt10326116                                     Happy New Year   \n",
       "22903    tt1935926                                             Tierra   \n",
       "54307    tt3194766   Guerreiros da paz e poesia: It All Depends on Us   \n",
       "57140    tt3331660                                    Shark Sanctuary   \n",
       "60809    tt3515578                                           November   \n",
       "72190    tt4122866                         Powered By Green Smoothies   \n",
       "93214    tt5430316             Great Valley Nature Center Documentary   \n",
       "95787    tt5589268                        A Serendipitous Exploration   \n",
       "98755    tt5773518                            Isa One Minute Portrait   \n",
       "113278   tt6667004                                     First and Last   \n",
       "114067   tt6734902                           One Minute Of Resistance   \n",
       "116943   tt6961892   Warnings missed? The crop circle of May 21, 2017   \n",
       "117258   tt6983350                                           Champion   \n",
       "125975   tt7685942           parTy boi, black diamonds in ice castles   \n",
       "136059   tt8656518                                        Summer Love   \n",
       "140571   tt9124086                                  For A Better Life   \n",
       "\n",
       "                                           original_title  start_year  \\\n",
       "2570    Lamentation For Little Girls Who Are In Love W...        2019   \n",
       "3298                                       Happy New Year        2019   \n",
       "22903                                              Tierra        2010   \n",
       "54307    Guerreiros da paz e poesia: It All Depends on Us        2013   \n",
       "57140                                     Shark Sanctuary        2012   \n",
       "60809                                            November        2014   \n",
       "72190                          Powered By Green Smoothies        2014   \n",
       "93214              Great Valley Nature Center Documentary        2015   \n",
       "95787                         A Serendipitous Exploration        2016   \n",
       "98755                             Isa One Minute Portrait        2016   \n",
       "113278                                     First and Last        2016   \n",
       "114067                           One Minute Of Resistance        2017   \n",
       "116943   Warnings missed? The crop circle of May 21, 2017        2017   \n",
       "117258                                           Champion        2017   \n",
       "125975           parTy boi, black diamonds in ice castles        2017   \n",
       "136059                                        Summer Love        2018   \n",
       "140571                                  For A Better Life        2018   \n",
       "\n",
       "        runtime_minutes                       genres  \n",
       "2570                1.0                    Animation  \n",
       "3298                1.0                    Animation  \n",
       "22903               1.0           Documentary,Family  \n",
       "54307               1.0            Documentary,Music  \n",
       "57140               1.0        Adventure,Documentary  \n",
       "60809               1.0          Documentary,History  \n",
       "72190               1.0  Adventure,Documentary,Sport  \n",
       "93214               1.0                  Documentary  \n",
       "95787               1.0                  Documentary  \n",
       "98755               1.0                  Documentary  \n",
       "113278              1.0              Documentary,War  \n",
       "114067              1.0             Documentary,News  \n",
       "116943              1.0   Documentary,Horror,Mystery  \n",
       "117258              1.0            Documentary,Sport  \n",
       "125975              1.0                  Documentary  \n",
       "136059              1.0                 Comedy,Short  \n",
       "140571              1.0           Documentary,Family  "
      ]
     },
     "execution_count": 28,
     "metadata": {},
     "output_type": "execute_result"
    }
   ],
   "source": [
    "#Here, one minute maybe a placeholder. Let's check them\n",
    "df_basics[df_basics['runtime_minutes'] == 1]"
   ]
  },
  {
   "cell_type": "markdown",
   "metadata": {},
   "source": [
    "Form movies' titles, such as 'Isa One Minute Portrait', 'One Minute Of Resistance', they look resonable here."
   ]
  },
  {
   "cell_type": "code",
   "execution_count": 29,
   "metadata": {},
   "outputs": [],
   "source": [
    "drop_index = df_basics[df_basics['runtime_minutes'] > 650].index"
   ]
  },
  {
   "cell_type": "code",
   "execution_count": 30,
   "metadata": {},
   "outputs": [
    {
     "data": {
      "text/plain": [
       "(1.0, 623.0)"
      ]
     },
     "execution_count": 30,
     "metadata": {},
     "output_type": "execute_result"
    }
   ],
   "source": [
    "#drop those invaild values and double check\n",
    "df_basics.drop(drop_index, inplace=True)\n",
    "(min(df_basics['runtime_minutes']), max(df_basics['runtime_minutes']))"
   ]
  },
  {
   "cell_type": "code",
   "execution_count": 31,
   "metadata": {},
   "outputs": [
    {
     "data": {
      "text/plain": [
       "(112123, 6)"
      ]
     },
     "execution_count": 31,
     "metadata": {},
     "output_type": "execute_result"
    }
   ],
   "source": [
    "#Double check the df size\n",
    "df_basics.shape"
   ]
  },
  {
   "cell_type": "markdown",
   "metadata": {},
   "source": [
    "### Normalization the genres columns\n",
    "In genres columns, some movies have one type, but some have two or more types. I am going to divide it into another table"
   ]
  },
  {
   "cell_type": "code",
   "execution_count": 32,
   "metadata": {},
   "outputs": [],
   "source": [
    "#Make a list to store genres and will be use as columns\n",
    "list_genres = []\n",
    "for n in [0,1,2]:\n",
    "    for i in df_basics.genres.str.split(pat=',', expand=True)[n].unique():\n",
    "        if i not in list_genres:\n",
    "            list_genres.append(i)"
   ]
  },
  {
   "cell_type": "code",
   "execution_count": 33,
   "metadata": {},
   "outputs": [
    {
     "data": {
      "text/plain": [
       "27"
      ]
     },
     "execution_count": 33,
     "metadata": {},
     "output_type": "execute_result"
    }
   ],
   "source": [
    "#Drop the None value and sort it\n",
    "list_genres.pop()\n",
    "list_genres.sort()\n",
    "len(list_genres)"
   ]
  },
  {
   "cell_type": "code",
   "execution_count": 34,
   "metadata": {},
   "outputs": [
    {
     "data": {
      "text/html": [
       "<div>\n",
       "<style scoped>\n",
       "    .dataframe tbody tr th:only-of-type {\n",
       "        vertical-align: middle;\n",
       "    }\n",
       "\n",
       "    .dataframe tbody tr th {\n",
       "        vertical-align: top;\n",
       "    }\n",
       "\n",
       "    .dataframe thead th {\n",
       "        text-align: right;\n",
       "    }\n",
       "</style>\n",
       "<table border=\"1\" class=\"dataframe\">\n",
       "  <thead>\n",
       "    <tr style=\"text-align: right;\">\n",
       "      <th></th>\n",
       "      <th>Action</th>\n",
       "      <th>Adult</th>\n",
       "      <th>Adventure</th>\n",
       "      <th>Animation</th>\n",
       "      <th>Biography</th>\n",
       "      <th>Comedy</th>\n",
       "      <th>Crime</th>\n",
       "      <th>Documentary</th>\n",
       "      <th>Drama</th>\n",
       "      <th>Family</th>\n",
       "      <th>...</th>\n",
       "      <th>News</th>\n",
       "      <th>Reality-TV</th>\n",
       "      <th>Romance</th>\n",
       "      <th>Sci-Fi</th>\n",
       "      <th>Short</th>\n",
       "      <th>Sport</th>\n",
       "      <th>Talk-Show</th>\n",
       "      <th>Thriller</th>\n",
       "      <th>War</th>\n",
       "      <th>Western</th>\n",
       "    </tr>\n",
       "    <tr>\n",
       "      <th>tconst</th>\n",
       "      <th></th>\n",
       "      <th></th>\n",
       "      <th></th>\n",
       "      <th></th>\n",
       "      <th></th>\n",
       "      <th></th>\n",
       "      <th></th>\n",
       "      <th></th>\n",
       "      <th></th>\n",
       "      <th></th>\n",
       "      <th></th>\n",
       "      <th></th>\n",
       "      <th></th>\n",
       "      <th></th>\n",
       "      <th></th>\n",
       "      <th></th>\n",
       "      <th></th>\n",
       "      <th></th>\n",
       "      <th></th>\n",
       "      <th></th>\n",
       "      <th></th>\n",
       "    </tr>\n",
       "  </thead>\n",
       "  <tbody>\n",
       "    <tr>\n",
       "      <th>tt0063540</th>\n",
       "      <td>NaN</td>\n",
       "      <td>NaN</td>\n",
       "      <td>NaN</td>\n",
       "      <td>NaN</td>\n",
       "      <td>NaN</td>\n",
       "      <td>NaN</td>\n",
       "      <td>NaN</td>\n",
       "      <td>NaN</td>\n",
       "      <td>NaN</td>\n",
       "      <td>NaN</td>\n",
       "      <td>...</td>\n",
       "      <td>NaN</td>\n",
       "      <td>NaN</td>\n",
       "      <td>NaN</td>\n",
       "      <td>NaN</td>\n",
       "      <td>NaN</td>\n",
       "      <td>NaN</td>\n",
       "      <td>NaN</td>\n",
       "      <td>NaN</td>\n",
       "      <td>NaN</td>\n",
       "      <td>NaN</td>\n",
       "    </tr>\n",
       "    <tr>\n",
       "      <th>tt0066787</th>\n",
       "      <td>NaN</td>\n",
       "      <td>NaN</td>\n",
       "      <td>NaN</td>\n",
       "      <td>NaN</td>\n",
       "      <td>NaN</td>\n",
       "      <td>NaN</td>\n",
       "      <td>NaN</td>\n",
       "      <td>NaN</td>\n",
       "      <td>NaN</td>\n",
       "      <td>NaN</td>\n",
       "      <td>...</td>\n",
       "      <td>NaN</td>\n",
       "      <td>NaN</td>\n",
       "      <td>NaN</td>\n",
       "      <td>NaN</td>\n",
       "      <td>NaN</td>\n",
       "      <td>NaN</td>\n",
       "      <td>NaN</td>\n",
       "      <td>NaN</td>\n",
       "      <td>NaN</td>\n",
       "      <td>NaN</td>\n",
       "    </tr>\n",
       "    <tr>\n",
       "      <th>tt0069049</th>\n",
       "      <td>NaN</td>\n",
       "      <td>NaN</td>\n",
       "      <td>NaN</td>\n",
       "      <td>NaN</td>\n",
       "      <td>NaN</td>\n",
       "      <td>NaN</td>\n",
       "      <td>NaN</td>\n",
       "      <td>NaN</td>\n",
       "      <td>NaN</td>\n",
       "      <td>NaN</td>\n",
       "      <td>...</td>\n",
       "      <td>NaN</td>\n",
       "      <td>NaN</td>\n",
       "      <td>NaN</td>\n",
       "      <td>NaN</td>\n",
       "      <td>NaN</td>\n",
       "      <td>NaN</td>\n",
       "      <td>NaN</td>\n",
       "      <td>NaN</td>\n",
       "      <td>NaN</td>\n",
       "      <td>NaN</td>\n",
       "    </tr>\n",
       "    <tr>\n",
       "      <th>tt0100275</th>\n",
       "      <td>NaN</td>\n",
       "      <td>NaN</td>\n",
       "      <td>NaN</td>\n",
       "      <td>NaN</td>\n",
       "      <td>NaN</td>\n",
       "      <td>NaN</td>\n",
       "      <td>NaN</td>\n",
       "      <td>NaN</td>\n",
       "      <td>NaN</td>\n",
       "      <td>NaN</td>\n",
       "      <td>...</td>\n",
       "      <td>NaN</td>\n",
       "      <td>NaN</td>\n",
       "      <td>NaN</td>\n",
       "      <td>NaN</td>\n",
       "      <td>NaN</td>\n",
       "      <td>NaN</td>\n",
       "      <td>NaN</td>\n",
       "      <td>NaN</td>\n",
       "      <td>NaN</td>\n",
       "      <td>NaN</td>\n",
       "    </tr>\n",
       "    <tr>\n",
       "      <th>tt0111414</th>\n",
       "      <td>NaN</td>\n",
       "      <td>NaN</td>\n",
       "      <td>NaN</td>\n",
       "      <td>NaN</td>\n",
       "      <td>NaN</td>\n",
       "      <td>NaN</td>\n",
       "      <td>NaN</td>\n",
       "      <td>NaN</td>\n",
       "      <td>NaN</td>\n",
       "      <td>NaN</td>\n",
       "      <td>...</td>\n",
       "      <td>NaN</td>\n",
       "      <td>NaN</td>\n",
       "      <td>NaN</td>\n",
       "      <td>NaN</td>\n",
       "      <td>NaN</td>\n",
       "      <td>NaN</td>\n",
       "      <td>NaN</td>\n",
       "      <td>NaN</td>\n",
       "      <td>NaN</td>\n",
       "      <td>NaN</td>\n",
       "    </tr>\n",
       "  </tbody>\n",
       "</table>\n",
       "<p>5 rows × 27 columns</p>\n",
       "</div>"
      ],
      "text/plain": [
       "          Action Adult Adventure Animation Biography Comedy Crime Documentary  \\\n",
       "tconst                                                                          \n",
       "tt0063540    NaN   NaN       NaN       NaN       NaN    NaN   NaN         NaN   \n",
       "tt0066787    NaN   NaN       NaN       NaN       NaN    NaN   NaN         NaN   \n",
       "tt0069049    NaN   NaN       NaN       NaN       NaN    NaN   NaN         NaN   \n",
       "tt0100275    NaN   NaN       NaN       NaN       NaN    NaN   NaN         NaN   \n",
       "tt0111414    NaN   NaN       NaN       NaN       NaN    NaN   NaN         NaN   \n",
       "\n",
       "          Drama Family  ... News Reality-TV Romance Sci-Fi Short Sport  \\\n",
       "tconst                  ...                                              \n",
       "tt0063540   NaN    NaN  ...  NaN        NaN     NaN    NaN   NaN   NaN   \n",
       "tt0066787   NaN    NaN  ...  NaN        NaN     NaN    NaN   NaN   NaN   \n",
       "tt0069049   NaN    NaN  ...  NaN        NaN     NaN    NaN   NaN   NaN   \n",
       "tt0100275   NaN    NaN  ...  NaN        NaN     NaN    NaN   NaN   NaN   \n",
       "tt0111414   NaN    NaN  ...  NaN        NaN     NaN    NaN   NaN   NaN   \n",
       "\n",
       "          Talk-Show Thriller  War Western  \n",
       "tconst                                     \n",
       "tt0063540       NaN      NaN  NaN     NaN  \n",
       "tt0066787       NaN      NaN  NaN     NaN  \n",
       "tt0069049       NaN      NaN  NaN     NaN  \n",
       "tt0100275       NaN      NaN  NaN     NaN  \n",
       "tt0111414       NaN      NaN  NaN     NaN  \n",
       "\n",
       "[5 rows x 27 columns]"
      ]
     },
     "execution_count": 34,
     "metadata": {},
     "output_type": "execute_result"
    }
   ],
   "source": [
    "#Make it into a df and preview\n",
    "df_genres = pd.DataFrame(columns=list_genres, index=df_basics['tconst'])\n",
    "df_genres.head()"
   ]
  },
  {
   "cell_type": "code",
   "execution_count": 35,
   "metadata": {},
   "outputs": [
    {
     "data": {
      "text/html": [
       "<div>\n",
       "<style scoped>\n",
       "    .dataframe tbody tr th:only-of-type {\n",
       "        vertical-align: middle;\n",
       "    }\n",
       "\n",
       "    .dataframe tbody tr th {\n",
       "        vertical-align: top;\n",
       "    }\n",
       "\n",
       "    .dataframe thead th {\n",
       "        text-align: right;\n",
       "    }\n",
       "</style>\n",
       "<table border=\"1\" class=\"dataframe\">\n",
       "  <thead>\n",
       "    <tr style=\"text-align: right;\">\n",
       "      <th></th>\n",
       "      <th>index</th>\n",
       "      <th>tconst</th>\n",
       "      <th>primary_title</th>\n",
       "      <th>original_title</th>\n",
       "      <th>start_year</th>\n",
       "      <th>runtime_minutes</th>\n",
       "      <th>genres</th>\n",
       "    </tr>\n",
       "  </thead>\n",
       "  <tbody>\n",
       "    <tr>\n",
       "      <th>0</th>\n",
       "      <td>0</td>\n",
       "      <td>tt0063540</td>\n",
       "      <td>Sunghursh</td>\n",
       "      <td>Sunghursh</td>\n",
       "      <td>2013</td>\n",
       "      <td>175.0</td>\n",
       "      <td>Action,Crime,Drama</td>\n",
       "    </tr>\n",
       "    <tr>\n",
       "      <th>1</th>\n",
       "      <td>1</td>\n",
       "      <td>tt0066787</td>\n",
       "      <td>One Day Before the Rainy Season</td>\n",
       "      <td>Ashad Ka Ek Din</td>\n",
       "      <td>2019</td>\n",
       "      <td>114.0</td>\n",
       "      <td>Biography,Drama</td>\n",
       "    </tr>\n",
       "    <tr>\n",
       "      <th>2</th>\n",
       "      <td>2</td>\n",
       "      <td>tt0069049</td>\n",
       "      <td>The Other Side of the Wind</td>\n",
       "      <td>The Other Side of the Wind</td>\n",
       "      <td>2018</td>\n",
       "      <td>122.0</td>\n",
       "      <td>Drama</td>\n",
       "    </tr>\n",
       "    <tr>\n",
       "      <th>3</th>\n",
       "      <td>4</td>\n",
       "      <td>tt0100275</td>\n",
       "      <td>The Wandering Soap Opera</td>\n",
       "      <td>La Telenovela Errante</td>\n",
       "      <td>2017</td>\n",
       "      <td>80.0</td>\n",
       "      <td>Comedy,Drama,Fantasy</td>\n",
       "    </tr>\n",
       "    <tr>\n",
       "      <th>4</th>\n",
       "      <td>5</td>\n",
       "      <td>tt0111414</td>\n",
       "      <td>A Thin Life</td>\n",
       "      <td>A Thin Life</td>\n",
       "      <td>2018</td>\n",
       "      <td>75.0</td>\n",
       "      <td>Comedy</td>\n",
       "    </tr>\n",
       "  </tbody>\n",
       "</table>\n",
       "</div>"
      ],
      "text/plain": [
       "   index     tconst                    primary_title  \\\n",
       "0      0  tt0063540                        Sunghursh   \n",
       "1      1  tt0066787  One Day Before the Rainy Season   \n",
       "2      2  tt0069049       The Other Side of the Wind   \n",
       "3      4  tt0100275         The Wandering Soap Opera   \n",
       "4      5  tt0111414                      A Thin Life   \n",
       "\n",
       "               original_title  start_year  runtime_minutes  \\\n",
       "0                   Sunghursh        2013            175.0   \n",
       "1             Ashad Ka Ek Din        2019            114.0   \n",
       "2  The Other Side of the Wind        2018            122.0   \n",
       "3       La Telenovela Errante        2017             80.0   \n",
       "4                 A Thin Life        2018             75.0   \n",
       "\n",
       "                 genres  \n",
       "0    Action,Crime,Drama  \n",
       "1       Biography,Drama  \n",
       "2                 Drama  \n",
       "3  Comedy,Drama,Fantasy  \n",
       "4                Comedy  "
      ]
     },
     "execution_count": 35,
     "metadata": {},
     "output_type": "execute_result"
    }
   ],
   "source": [
    "#Reset the index of df_basics for further using and preview\n",
    "df_basics.reset_index(inplace=True)\n",
    "df_basics.head()"
   ]
  },
  {
   "cell_type": "code",
   "execution_count": 36,
   "metadata": {},
   "outputs": [],
   "source": [
    "#Split the items under genres columns for further using\n",
    "df_basics['genres'] = df_basics['genres'].map(lambda x: x.split(','))"
   ]
  },
  {
   "cell_type": "code",
   "execution_count": 37,
   "metadata": {},
   "outputs": [],
   "source": [
    "#Set the value to 1 if the genres match the movie\n",
    "for i in range(len(df_basics)):\n",
    "    for n in df_basics['genres'][i]:\n",
    "        for m in df_genres.columns:\n",
    "            if m == n:\n",
    "                df_genres[m][i] = 1"
   ]
  },
  {
   "cell_type": "code",
   "execution_count": 38,
   "metadata": {},
   "outputs": [
    {
     "data": {
      "text/html": [
       "<div>\n",
       "<style scoped>\n",
       "    .dataframe tbody tr th:only-of-type {\n",
       "        vertical-align: middle;\n",
       "    }\n",
       "\n",
       "    .dataframe tbody tr th {\n",
       "        vertical-align: top;\n",
       "    }\n",
       "\n",
       "    .dataframe thead th {\n",
       "        text-align: right;\n",
       "    }\n",
       "</style>\n",
       "<table border=\"1\" class=\"dataframe\">\n",
       "  <thead>\n",
       "    <tr style=\"text-align: right;\">\n",
       "      <th></th>\n",
       "      <th>Action</th>\n",
       "      <th>Adult</th>\n",
       "      <th>Adventure</th>\n",
       "      <th>Animation</th>\n",
       "      <th>Biography</th>\n",
       "      <th>Comedy</th>\n",
       "      <th>Crime</th>\n",
       "      <th>Documentary</th>\n",
       "      <th>Drama</th>\n",
       "      <th>Family</th>\n",
       "      <th>...</th>\n",
       "      <th>News</th>\n",
       "      <th>Reality-TV</th>\n",
       "      <th>Romance</th>\n",
       "      <th>Sci-Fi</th>\n",
       "      <th>Short</th>\n",
       "      <th>Sport</th>\n",
       "      <th>Talk-Show</th>\n",
       "      <th>Thriller</th>\n",
       "      <th>War</th>\n",
       "      <th>Western</th>\n",
       "    </tr>\n",
       "    <tr>\n",
       "      <th>tconst</th>\n",
       "      <th></th>\n",
       "      <th></th>\n",
       "      <th></th>\n",
       "      <th></th>\n",
       "      <th></th>\n",
       "      <th></th>\n",
       "      <th></th>\n",
       "      <th></th>\n",
       "      <th></th>\n",
       "      <th></th>\n",
       "      <th></th>\n",
       "      <th></th>\n",
       "      <th></th>\n",
       "      <th></th>\n",
       "      <th></th>\n",
       "      <th></th>\n",
       "      <th></th>\n",
       "      <th></th>\n",
       "      <th></th>\n",
       "      <th></th>\n",
       "      <th></th>\n",
       "    </tr>\n",
       "  </thead>\n",
       "  <tbody>\n",
       "    <tr>\n",
       "      <th>tt0063540</th>\n",
       "      <td>1</td>\n",
       "      <td>0</td>\n",
       "      <td>0</td>\n",
       "      <td>0</td>\n",
       "      <td>0</td>\n",
       "      <td>0</td>\n",
       "      <td>1</td>\n",
       "      <td>0</td>\n",
       "      <td>1</td>\n",
       "      <td>0</td>\n",
       "      <td>...</td>\n",
       "      <td>0</td>\n",
       "      <td>0</td>\n",
       "      <td>0</td>\n",
       "      <td>0</td>\n",
       "      <td>0</td>\n",
       "      <td>0</td>\n",
       "      <td>0</td>\n",
       "      <td>0</td>\n",
       "      <td>0</td>\n",
       "      <td>0</td>\n",
       "    </tr>\n",
       "    <tr>\n",
       "      <th>tt0066787</th>\n",
       "      <td>0</td>\n",
       "      <td>0</td>\n",
       "      <td>0</td>\n",
       "      <td>0</td>\n",
       "      <td>1</td>\n",
       "      <td>0</td>\n",
       "      <td>0</td>\n",
       "      <td>0</td>\n",
       "      <td>1</td>\n",
       "      <td>0</td>\n",
       "      <td>...</td>\n",
       "      <td>0</td>\n",
       "      <td>0</td>\n",
       "      <td>0</td>\n",
       "      <td>0</td>\n",
       "      <td>0</td>\n",
       "      <td>0</td>\n",
       "      <td>0</td>\n",
       "      <td>0</td>\n",
       "      <td>0</td>\n",
       "      <td>0</td>\n",
       "    </tr>\n",
       "    <tr>\n",
       "      <th>tt0069049</th>\n",
       "      <td>0</td>\n",
       "      <td>0</td>\n",
       "      <td>0</td>\n",
       "      <td>0</td>\n",
       "      <td>0</td>\n",
       "      <td>0</td>\n",
       "      <td>0</td>\n",
       "      <td>0</td>\n",
       "      <td>1</td>\n",
       "      <td>0</td>\n",
       "      <td>...</td>\n",
       "      <td>0</td>\n",
       "      <td>0</td>\n",
       "      <td>0</td>\n",
       "      <td>0</td>\n",
       "      <td>0</td>\n",
       "      <td>0</td>\n",
       "      <td>0</td>\n",
       "      <td>0</td>\n",
       "      <td>0</td>\n",
       "      <td>0</td>\n",
       "    </tr>\n",
       "    <tr>\n",
       "      <th>tt0100275</th>\n",
       "      <td>0</td>\n",
       "      <td>0</td>\n",
       "      <td>0</td>\n",
       "      <td>0</td>\n",
       "      <td>0</td>\n",
       "      <td>1</td>\n",
       "      <td>0</td>\n",
       "      <td>0</td>\n",
       "      <td>1</td>\n",
       "      <td>0</td>\n",
       "      <td>...</td>\n",
       "      <td>0</td>\n",
       "      <td>0</td>\n",
       "      <td>0</td>\n",
       "      <td>0</td>\n",
       "      <td>0</td>\n",
       "      <td>0</td>\n",
       "      <td>0</td>\n",
       "      <td>0</td>\n",
       "      <td>0</td>\n",
       "      <td>0</td>\n",
       "    </tr>\n",
       "    <tr>\n",
       "      <th>tt0111414</th>\n",
       "      <td>0</td>\n",
       "      <td>0</td>\n",
       "      <td>0</td>\n",
       "      <td>0</td>\n",
       "      <td>0</td>\n",
       "      <td>1</td>\n",
       "      <td>0</td>\n",
       "      <td>0</td>\n",
       "      <td>0</td>\n",
       "      <td>0</td>\n",
       "      <td>...</td>\n",
       "      <td>0</td>\n",
       "      <td>0</td>\n",
       "      <td>0</td>\n",
       "      <td>0</td>\n",
       "      <td>0</td>\n",
       "      <td>0</td>\n",
       "      <td>0</td>\n",
       "      <td>0</td>\n",
       "      <td>0</td>\n",
       "      <td>0</td>\n",
       "    </tr>\n",
       "  </tbody>\n",
       "</table>\n",
       "<p>5 rows × 27 columns</p>\n",
       "</div>"
      ],
      "text/plain": [
       "           Action  Adult  Adventure  Animation  Biography  Comedy  Crime  \\\n",
       "tconst                                                                     \n",
       "tt0063540       1      0          0          0          0       0      1   \n",
       "tt0066787       0      0          0          0          1       0      0   \n",
       "tt0069049       0      0          0          0          0       0      0   \n",
       "tt0100275       0      0          0          0          0       1      0   \n",
       "tt0111414       0      0          0          0          0       1      0   \n",
       "\n",
       "           Documentary  Drama  Family  ...  News  Reality-TV  Romance  Sci-Fi  \\\n",
       "tconst                                 ...                                      \n",
       "tt0063540            0      1       0  ...     0           0        0       0   \n",
       "tt0066787            0      1       0  ...     0           0        0       0   \n",
       "tt0069049            0      1       0  ...     0           0        0       0   \n",
       "tt0100275            0      1       0  ...     0           0        0       0   \n",
       "tt0111414            0      0       0  ...     0           0        0       0   \n",
       "\n",
       "           Short  Sport  Talk-Show  Thriller  War  Western  \n",
       "tconst                                                      \n",
       "tt0063540      0      0          0         0    0        0  \n",
       "tt0066787      0      0          0         0    0        0  \n",
       "tt0069049      0      0          0         0    0        0  \n",
       "tt0100275      0      0          0         0    0        0  \n",
       "tt0111414      0      0          0         0    0        0  \n",
       "\n",
       "[5 rows x 27 columns]"
      ]
     },
     "execution_count": 38,
     "metadata": {},
     "output_type": "execute_result"
    }
   ],
   "source": [
    "#Fill in other None value with 0 and preview\n",
    "df_genres.fillna(0, inplace=True)\n",
    "df_genres.head()"
   ]
  },
  {
   "cell_type": "markdown",
   "metadata": {},
   "source": [
    "# Clean df_rating"
   ]
  },
  {
   "cell_type": "code",
   "execution_count": 39,
   "metadata": {},
   "outputs": [
    {
     "data": {
      "text/html": [
       "<div>\n",
       "<style scoped>\n",
       "    .dataframe tbody tr th:only-of-type {\n",
       "        vertical-align: middle;\n",
       "    }\n",
       "\n",
       "    .dataframe tbody tr th {\n",
       "        vertical-align: top;\n",
       "    }\n",
       "\n",
       "    .dataframe thead th {\n",
       "        text-align: right;\n",
       "    }\n",
       "</style>\n",
       "<table border=\"1\" class=\"dataframe\">\n",
       "  <thead>\n",
       "    <tr style=\"text-align: right;\">\n",
       "      <th></th>\n",
       "      <th>tconst</th>\n",
       "      <th>averagerating</th>\n",
       "      <th>numvotes</th>\n",
       "    </tr>\n",
       "  </thead>\n",
       "  <tbody>\n",
       "    <tr>\n",
       "      <th>0</th>\n",
       "      <td>tt10356526</td>\n",
       "      <td>8.3</td>\n",
       "      <td>31</td>\n",
       "    </tr>\n",
       "    <tr>\n",
       "      <th>1</th>\n",
       "      <td>tt10384606</td>\n",
       "      <td>8.9</td>\n",
       "      <td>559</td>\n",
       "    </tr>\n",
       "    <tr>\n",
       "      <th>2</th>\n",
       "      <td>tt1042974</td>\n",
       "      <td>6.4</td>\n",
       "      <td>20</td>\n",
       "    </tr>\n",
       "    <tr>\n",
       "      <th>3</th>\n",
       "      <td>tt1043726</td>\n",
       "      <td>4.2</td>\n",
       "      <td>50352</td>\n",
       "    </tr>\n",
       "    <tr>\n",
       "      <th>4</th>\n",
       "      <td>tt1060240</td>\n",
       "      <td>6.5</td>\n",
       "      <td>21</td>\n",
       "    </tr>\n",
       "  </tbody>\n",
       "</table>\n",
       "</div>"
      ],
      "text/plain": [
       "       tconst  averagerating  numvotes\n",
       "0  tt10356526            8.3        31\n",
       "1  tt10384606            8.9       559\n",
       "2   tt1042974            6.4        20\n",
       "3   tt1043726            4.2     50352\n",
       "4   tt1060240            6.5        21"
      ]
     },
     "execution_count": 39,
     "metadata": {},
     "output_type": "execute_result"
    }
   ],
   "source": [
    "df_ratings.head()"
   ]
  },
  {
   "cell_type": "code",
   "execution_count": 40,
   "metadata": {},
   "outputs": [
    {
     "data": {
      "text/plain": [
       "0"
      ]
     },
     "execution_count": 40,
     "metadata": {},
     "output_type": "execute_result"
    }
   ],
   "source": [
    "#Check duplicate values of 'tconst' column\n",
    "df_ratings['tconst'].duplicated().sum()"
   ]
  },
  {
   "cell_type": "code",
   "execution_count": 41,
   "metadata": {},
   "outputs": [
    {
     "data": {
      "text/plain": [
       "tconst           0.0\n",
       "averagerating    0.0\n",
       "numvotes         0.0\n",
       "dtype: float64"
      ]
     },
     "execution_count": 41,
     "metadata": {},
     "output_type": "execute_result"
    }
   ],
   "source": [
    "#Check na\n",
    "check_na(df_ratings)"
   ]
  },
  {
   "cell_type": "code",
   "execution_count": 42,
   "metadata": {},
   "outputs": [
    {
     "data": {
      "text/plain": [
       "(1.0, 10.0)"
      ]
     },
     "execution_count": 42,
     "metadata": {},
     "output_type": "execute_result"
    }
   ],
   "source": [
    "min(df_ratings['averagerating']), max(df_ratings['averagerating'])"
   ]
  },
  {
   "cell_type": "code",
   "execution_count": 43,
   "metadata": {},
   "outputs": [
    {
     "data": {
      "text/html": [
       "<div>\n",
       "<style scoped>\n",
       "    .dataframe tbody tr th:only-of-type {\n",
       "        vertical-align: middle;\n",
       "    }\n",
       "\n",
       "    .dataframe tbody tr th {\n",
       "        vertical-align: top;\n",
       "    }\n",
       "\n",
       "    .dataframe thead th {\n",
       "        text-align: right;\n",
       "    }\n",
       "</style>\n",
       "<table border=\"1\" class=\"dataframe\">\n",
       "  <thead>\n",
       "    <tr style=\"text-align: right;\">\n",
       "      <th></th>\n",
       "      <th>tconst</th>\n",
       "      <th>averagerating</th>\n",
       "      <th>numvotes</th>\n",
       "    </tr>\n",
       "  </thead>\n",
       "  <tbody>\n",
       "    <tr>\n",
       "      <th>6784</th>\n",
       "      <td>tt5390098</td>\n",
       "      <td>10.0</td>\n",
       "      <td>5</td>\n",
       "    </tr>\n",
       "    <tr>\n",
       "      <th>7017</th>\n",
       "      <td>tt6295832</td>\n",
       "      <td>10.0</td>\n",
       "      <td>5</td>\n",
       "    </tr>\n",
       "    <tr>\n",
       "      <th>8992</th>\n",
       "      <td>tt1770682</td>\n",
       "      <td>10.0</td>\n",
       "      <td>5</td>\n",
       "    </tr>\n",
       "    <tr>\n",
       "      <th>26153</th>\n",
       "      <td>tt2632430</td>\n",
       "      <td>10.0</td>\n",
       "      <td>5</td>\n",
       "    </tr>\n",
       "    <tr>\n",
       "      <th>27644</th>\n",
       "      <td>tt8730716</td>\n",
       "      <td>10.0</td>\n",
       "      <td>5</td>\n",
       "    </tr>\n",
       "    <tr>\n",
       "      <th>34334</th>\n",
       "      <td>tt4960818</td>\n",
       "      <td>10.0</td>\n",
       "      <td>8</td>\n",
       "    </tr>\n",
       "    <tr>\n",
       "      <th>45335</th>\n",
       "      <td>tt6991826</td>\n",
       "      <td>10.0</td>\n",
       "      <td>5</td>\n",
       "    </tr>\n",
       "    <tr>\n",
       "      <th>45660</th>\n",
       "      <td>tt10176328</td>\n",
       "      <td>10.0</td>\n",
       "      <td>5</td>\n",
       "    </tr>\n",
       "    <tr>\n",
       "      <th>47796</th>\n",
       "      <td>tt4944240</td>\n",
       "      <td>10.0</td>\n",
       "      <td>5</td>\n",
       "    </tr>\n",
       "    <tr>\n",
       "      <th>49073</th>\n",
       "      <td>tt5089804</td>\n",
       "      <td>10.0</td>\n",
       "      <td>7</td>\n",
       "    </tr>\n",
       "    <tr>\n",
       "      <th>52178</th>\n",
       "      <td>tt7259300</td>\n",
       "      <td>10.0</td>\n",
       "      <td>6</td>\n",
       "    </tr>\n",
       "    <tr>\n",
       "      <th>56819</th>\n",
       "      <td>tt10378660</td>\n",
       "      <td>10.0</td>\n",
       "      <td>5</td>\n",
       "    </tr>\n",
       "    <tr>\n",
       "      <th>57679</th>\n",
       "      <td>tt5344358</td>\n",
       "      <td>10.0</td>\n",
       "      <td>6</td>\n",
       "    </tr>\n",
       "    <tr>\n",
       "      <th>59761</th>\n",
       "      <td>tt4109192</td>\n",
       "      <td>10.0</td>\n",
       "      <td>6</td>\n",
       "    </tr>\n",
       "    <tr>\n",
       "      <th>64754</th>\n",
       "      <td>tt7227500</td>\n",
       "      <td>10.0</td>\n",
       "      <td>6</td>\n",
       "    </tr>\n",
       "    <tr>\n",
       "      <th>65033</th>\n",
       "      <td>tt9715646</td>\n",
       "      <td>10.0</td>\n",
       "      <td>20</td>\n",
       "    </tr>\n",
       "  </tbody>\n",
       "</table>\n",
       "</div>"
      ],
      "text/plain": [
       "           tconst  averagerating  numvotes\n",
       "6784    tt5390098           10.0         5\n",
       "7017    tt6295832           10.0         5\n",
       "8992    tt1770682           10.0         5\n",
       "26153   tt2632430           10.0         5\n",
       "27644   tt8730716           10.0         5\n",
       "34334   tt4960818           10.0         8\n",
       "45335   tt6991826           10.0         5\n",
       "45660  tt10176328           10.0         5\n",
       "47796   tt4944240           10.0         5\n",
       "49073   tt5089804           10.0         7\n",
       "52178   tt7259300           10.0         6\n",
       "56819  tt10378660           10.0         5\n",
       "57679   tt5344358           10.0         6\n",
       "59761   tt4109192           10.0         6\n",
       "64754   tt7227500           10.0         6\n",
       "65033   tt9715646           10.0        20"
      ]
     },
     "execution_count": 43,
     "metadata": {},
     "output_type": "execute_result"
    }
   ],
   "source": [
    "#check deeper\n",
    "df_ratings[df_ratings['averagerating']==1]\n",
    "df_ratings[df_ratings['averagerating']==10]"
   ]
  },
  {
   "cell_type": "code",
   "execution_count": 44,
   "metadata": {},
   "outputs": [
    {
     "data": {
      "text/plain": [
       "(5, 1841066)"
      ]
     },
     "execution_count": 44,
     "metadata": {},
     "output_type": "execute_result"
    }
   ],
   "source": [
    "min(df_ratings['numvotes']), max(df_ratings['numvotes'])"
   ]
  },
  {
   "cell_type": "code",
   "execution_count": 45,
   "metadata": {},
   "outputs": [
    {
     "data": {
      "text/html": [
       "<div>\n",
       "<style scoped>\n",
       "    .dataframe tbody tr th:only-of-type {\n",
       "        vertical-align: middle;\n",
       "    }\n",
       "\n",
       "    .dataframe tbody tr th {\n",
       "        vertical-align: top;\n",
       "    }\n",
       "\n",
       "    .dataframe thead th {\n",
       "        text-align: right;\n",
       "    }\n",
       "</style>\n",
       "<table border=\"1\" class=\"dataframe\">\n",
       "  <thead>\n",
       "    <tr style=\"text-align: right;\">\n",
       "      <th></th>\n",
       "      <th>tconst</th>\n",
       "      <th>averagerating</th>\n",
       "      <th>numvotes</th>\n",
       "    </tr>\n",
       "  </thead>\n",
       "  <tbody>\n",
       "    <tr>\n",
       "      <th>63498</th>\n",
       "      <td>tt1375666</td>\n",
       "      <td>8.8</td>\n",
       "      <td>1841066</td>\n",
       "    </tr>\n",
       "  </tbody>\n",
       "</table>\n",
       "</div>"
      ],
      "text/plain": [
       "          tconst  averagerating  numvotes\n",
       "63498  tt1375666            8.8   1841066"
      ]
     },
     "execution_count": 45,
     "metadata": {},
     "output_type": "execute_result"
    }
   ],
   "source": [
    "df_ratings[df_ratings['numvotes']==1841066]"
   ]
  },
  {
   "cell_type": "markdown",
   "metadata": {},
   "source": [
    "# Clean df_gross"
   ]
  },
  {
   "cell_type": "code",
   "execution_count": 46,
   "metadata": {},
   "outputs": [
    {
     "data": {
      "text/html": [
       "<div>\n",
       "<style scoped>\n",
       "    .dataframe tbody tr th:only-of-type {\n",
       "        vertical-align: middle;\n",
       "    }\n",
       "\n",
       "    .dataframe tbody tr th {\n",
       "        vertical-align: top;\n",
       "    }\n",
       "\n",
       "    .dataframe thead th {\n",
       "        text-align: right;\n",
       "    }\n",
       "</style>\n",
       "<table border=\"1\" class=\"dataframe\">\n",
       "  <thead>\n",
       "    <tr style=\"text-align: right;\">\n",
       "      <th></th>\n",
       "      <th>title</th>\n",
       "      <th>studio</th>\n",
       "      <th>domestic_gross</th>\n",
       "      <th>foreign_gross</th>\n",
       "      <th>year</th>\n",
       "    </tr>\n",
       "  </thead>\n",
       "  <tbody>\n",
       "    <tr>\n",
       "      <th>0</th>\n",
       "      <td>Toy Story 3</td>\n",
       "      <td>BV</td>\n",
       "      <td>415000000.0</td>\n",
       "      <td>652000000</td>\n",
       "      <td>2010</td>\n",
       "    </tr>\n",
       "    <tr>\n",
       "      <th>1</th>\n",
       "      <td>Alice in Wonderland (2010)</td>\n",
       "      <td>BV</td>\n",
       "      <td>334200000.0</td>\n",
       "      <td>691300000</td>\n",
       "      <td>2010</td>\n",
       "    </tr>\n",
       "    <tr>\n",
       "      <th>2</th>\n",
       "      <td>Harry Potter and the Deathly Hallows Part 1</td>\n",
       "      <td>WB</td>\n",
       "      <td>296000000.0</td>\n",
       "      <td>664300000</td>\n",
       "      <td>2010</td>\n",
       "    </tr>\n",
       "    <tr>\n",
       "      <th>3</th>\n",
       "      <td>Inception</td>\n",
       "      <td>WB</td>\n",
       "      <td>292600000.0</td>\n",
       "      <td>535700000</td>\n",
       "      <td>2010</td>\n",
       "    </tr>\n",
       "    <tr>\n",
       "      <th>4</th>\n",
       "      <td>Shrek Forever After</td>\n",
       "      <td>P/DW</td>\n",
       "      <td>238700000.0</td>\n",
       "      <td>513900000</td>\n",
       "      <td>2010</td>\n",
       "    </tr>\n",
       "  </tbody>\n",
       "</table>\n",
       "</div>"
      ],
      "text/plain": [
       "                                         title studio  domestic_gross  \\\n",
       "0                                  Toy Story 3     BV     415000000.0   \n",
       "1                   Alice in Wonderland (2010)     BV     334200000.0   \n",
       "2  Harry Potter and the Deathly Hallows Part 1     WB     296000000.0   \n",
       "3                                    Inception     WB     292600000.0   \n",
       "4                          Shrek Forever After   P/DW     238700000.0   \n",
       "\n",
       "  foreign_gross  year  \n",
       "0     652000000  2010  \n",
       "1     691300000  2010  \n",
       "2     664300000  2010  \n",
       "3     535700000  2010  \n",
       "4     513900000  2010  "
      ]
     },
     "execution_count": 46,
     "metadata": {},
     "output_type": "execute_result"
    }
   ],
   "source": [
    "df_gross.head()"
   ]
  },
  {
   "cell_type": "code",
   "execution_count": 47,
   "metadata": {},
   "outputs": [
    {
     "data": {
      "text/plain": [
       "1"
      ]
     },
     "execution_count": 47,
     "metadata": {},
     "output_type": "execute_result"
    }
   ],
   "source": [
    "#Check duplicate values of 'title' column\n",
    "df_gross['title'].duplicated().sum()"
   ]
  },
  {
   "cell_type": "code",
   "execution_count": 48,
   "metadata": {},
   "outputs": [
    {
     "data": {
      "text/plain": [
       "0"
      ]
     },
     "execution_count": 48,
     "metadata": {},
     "output_type": "execute_result"
    }
   ],
   "source": [
    "#Drop it\n",
    "df_gross['title'].drop_duplicates(inplace=True)\n",
    "df_gross['title'].duplicated().sum()"
   ]
  },
  {
   "cell_type": "code",
   "execution_count": 49,
   "metadata": {},
   "outputs": [
    {
     "data": {
      "text/plain": [
       "title             0.000000\n",
       "studio            0.004459\n",
       "domestic_gross    0.024973\n",
       "foreign_gross     1.204035\n",
       "year              0.000000\n",
       "dtype: float64"
      ]
     },
     "execution_count": 49,
     "metadata": {},
     "output_type": "execute_result"
    }
   ],
   "source": [
    "#Check na\n",
    "check_na(df_gross)"
   ]
  },
  {
   "cell_type": "markdown",
   "metadata": {},
   "source": [
    "'studio' and 'domestic_gross' are less na values, choose to drop them.\n",
    "'foreign_gross' has nearly 40% na values. That maybe movie only product and circulate domestic. Choose to replace by 0."
   ]
  },
  {
   "cell_type": "code",
   "execution_count": 50,
   "metadata": {},
   "outputs": [],
   "source": [
    "df_gross.dropna(subset=['studio', 'domestic_gross'], inplace=True)"
   ]
  },
  {
   "cell_type": "code",
   "execution_count": 51,
   "metadata": {},
   "outputs": [],
   "source": [
    "df_gross.fillna(0, inplace=True)"
   ]
  },
  {
   "cell_type": "code",
   "execution_count": 52,
   "metadata": {},
   "outputs": [
    {
     "data": {
      "text/plain": [
       "title             0.0\n",
       "studio            0.0\n",
       "domestic_gross    0.0\n",
       "foreign_gross     0.0\n",
       "year              0.0\n",
       "dtype: float64"
      ]
     },
     "execution_count": 52,
     "metadata": {},
     "output_type": "execute_result"
    }
   ],
   "source": [
    "#double check\n",
    "check_na(df_gross)"
   ]
  },
  {
   "cell_type": "code",
   "execution_count": 53,
   "metadata": {},
   "outputs": [],
   "source": [
    "def check_range(series):\n",
    "    return (min(series), max(series))"
   ]
  },
  {
   "cell_type": "code",
   "execution_count": 54,
   "metadata": {},
   "outputs": [
    {
     "data": {
      "text/plain": [
       "(100.0, 936700000.0)"
      ]
     },
     "execution_count": 54,
     "metadata": {},
     "output_type": "execute_result"
    }
   ],
   "source": [
    "#check 'domestic_gross'\n",
    "check_range(df_gross['domestic_gross'])"
   ]
  },
  {
   "cell_type": "code",
   "execution_count": 55,
   "metadata": {},
   "outputs": [],
   "source": [
    "#Before checking the range of 'foreign_gross', find that the type is str, \n",
    "#need to switch to double\n",
    "type(df_gross['foreign_gross'][0])\n",
    "df_gross['foreign_gross'].replace(',', '', regex=True, inplace=True)\n",
    "df_gross['foreign_gross'] = df_gross['foreign_gross'].astype(float)"
   ]
  },
  {
   "cell_type": "code",
   "execution_count": 56,
   "metadata": {},
   "outputs": [
    {
     "data": {
      "text/plain": [
       "numpy.float64"
      ]
     },
     "execution_count": 56,
     "metadata": {},
     "output_type": "execute_result"
    }
   ],
   "source": [
    "type(df_gross['foreign_gross'][0])"
   ]
  },
  {
   "cell_type": "code",
   "execution_count": 57,
   "metadata": {},
   "outputs": [
    {
     "data": {
      "text/plain": [
       "(0.0, 960500000.0)"
      ]
     },
     "execution_count": 57,
     "metadata": {},
     "output_type": "execute_result"
    }
   ],
   "source": [
    "#check 'foreign_gross'\n",
    "check_range(df_gross['foreign_gross'])"
   ]
  },
  {
   "cell_type": "code",
   "execution_count": 58,
   "metadata": {},
   "outputs": [
    {
     "data": {
      "text/plain": [
       "(2010, 2018)"
      ]
     },
     "execution_count": 58,
     "metadata": {},
     "output_type": "execute_result"
    }
   ],
   "source": [
    "#check 'year'\n",
    "check_range(df_gross['year'])"
   ]
  },
  {
   "cell_type": "markdown",
   "metadata": {},
   "source": [
    "### Clean df_budget"
   ]
  },
  {
   "cell_type": "code",
   "execution_count": 59,
   "metadata": {},
   "outputs": [
    {
     "data": {
      "text/html": [
       "<div>\n",
       "<style scoped>\n",
       "    .dataframe tbody tr th:only-of-type {\n",
       "        vertical-align: middle;\n",
       "    }\n",
       "\n",
       "    .dataframe tbody tr th {\n",
       "        vertical-align: top;\n",
       "    }\n",
       "\n",
       "    .dataframe thead th {\n",
       "        text-align: right;\n",
       "    }\n",
       "</style>\n",
       "<table border=\"1\" class=\"dataframe\">\n",
       "  <thead>\n",
       "    <tr style=\"text-align: right;\">\n",
       "      <th></th>\n",
       "      <th>id</th>\n",
       "      <th>release_date</th>\n",
       "      <th>movie</th>\n",
       "      <th>production_budget</th>\n",
       "      <th>domestic_gross</th>\n",
       "      <th>worldwide_gross</th>\n",
       "    </tr>\n",
       "  </thead>\n",
       "  <tbody>\n",
       "  </tbody>\n",
       "</table>\n",
       "</div>"
      ],
      "text/plain": [
       "Empty DataFrame\n",
       "Columns: [id, release_date, movie, production_budget, domestic_gross, worldwide_gross]\n",
       "Index: []"
      ]
     },
     "execution_count": 59,
     "metadata": {},
     "output_type": "execute_result"
    }
   ],
   "source": [
    "#Check whole duplicate values\n",
    "df_budget[df_budget.duplicated()]"
   ]
  },
  {
   "cell_type": "code",
   "execution_count": 60,
   "metadata": {},
   "outputs": [
    {
     "data": {
      "text/plain": [
       "['id',\n",
       " 'release_date',\n",
       " 'movie',\n",
       " 'production_budget',\n",
       " 'domestic_gross',\n",
       " 'worldwide_gross']"
      ]
     },
     "execution_count": 60,
     "metadata": {},
     "output_type": "execute_result"
    }
   ],
   "source": [
    "#Check the duplicate value by columns\n",
    "check_duplicate(df_budget)"
   ]
  },
  {
   "cell_type": "code",
   "execution_count": 61,
   "metadata": {},
   "outputs": [
    {
     "data": {
      "text/plain": [
       "(5782, 6)"
      ]
     },
     "execution_count": 61,
     "metadata": {},
     "output_type": "execute_result"
    }
   ],
   "source": [
    "df_budget.shape"
   ]
  },
  {
   "cell_type": "code",
   "execution_count": 62,
   "metadata": {},
   "outputs": [
    {
     "data": {
      "text/plain": [
       "58"
      ]
     },
     "execution_count": 62,
     "metadata": {},
     "output_type": "execute_result"
    }
   ],
   "source": [
    "len(df_budget.loc[df_budget['id']==1])"
   ]
  },
  {
   "cell_type": "code",
   "execution_count": 63,
   "metadata": {},
   "outputs": [],
   "source": [
    "#For those duplicate id, I am going to drop the whole column\n",
    "df_budget.drop(columns='id', inplace=True)"
   ]
  },
  {
   "cell_type": "code",
   "execution_count": 64,
   "metadata": {},
   "outputs": [
    {
     "data": {
      "text/plain": [
       "84"
      ]
     },
     "execution_count": 64,
     "metadata": {},
     "output_type": "execute_result"
    }
   ],
   "source": [
    "df_budget['movie'].duplicated().sum()"
   ]
  },
  {
   "cell_type": "code",
   "execution_count": 65,
   "metadata": {},
   "outputs": [
    {
     "data": {
      "text/plain": [
       "(5698, 5)"
      ]
     },
     "execution_count": 65,
     "metadata": {},
     "output_type": "execute_result"
    }
   ],
   "source": [
    "df_budget.drop_duplicates(subset='movie', inplace=True)\n",
    "df_budget.shape"
   ]
  },
  {
   "cell_type": "code",
   "execution_count": 66,
   "metadata": {},
   "outputs": [
    {
     "data": {
      "text/html": [
       "<div>\n",
       "<style scoped>\n",
       "    .dataframe tbody tr th:only-of-type {\n",
       "        vertical-align: middle;\n",
       "    }\n",
       "\n",
       "    .dataframe tbody tr th {\n",
       "        vertical-align: top;\n",
       "    }\n",
       "\n",
       "    .dataframe thead th {\n",
       "        text-align: right;\n",
       "    }\n",
       "</style>\n",
       "<table border=\"1\" class=\"dataframe\">\n",
       "  <thead>\n",
       "    <tr style=\"text-align: right;\">\n",
       "      <th></th>\n",
       "      <th>release_date</th>\n",
       "      <th>movie</th>\n",
       "      <th>production_budget</th>\n",
       "      <th>domestic_gross</th>\n",
       "      <th>worldwide_gross</th>\n",
       "    </tr>\n",
       "  </thead>\n",
       "  <tbody>\n",
       "  </tbody>\n",
       "</table>\n",
       "</div>"
      ],
      "text/plain": [
       "Empty DataFrame\n",
       "Columns: [release_date, movie, production_budget, domestic_gross, worldwide_gross]\n",
       "Index: []"
      ]
     },
     "execution_count": 66,
     "metadata": {},
     "output_type": "execute_result"
    }
   ],
   "source": [
    "#For other duplicate columns, we check whole duplicate values together, because some movie with the same name \n",
    "#but different version with different release date, budget and gross\n",
    "df_budget[df_budget.duplicated()]"
   ]
  },
  {
   "cell_type": "code",
   "execution_count": 67,
   "metadata": {},
   "outputs": [
    {
     "data": {
      "text/plain": [
       "release_date         0.0\n",
       "movie                0.0\n",
       "production_budget    0.0\n",
       "domestic_gross       0.0\n",
       "worldwide_gross      0.0\n",
       "dtype: float64"
      ]
     },
     "execution_count": 67,
     "metadata": {},
     "output_type": "execute_result"
    }
   ],
   "source": [
    "#Check any null values\n",
    "check_na(df_budget)"
   ]
  },
  {
   "cell_type": "code",
   "execution_count": 68,
   "metadata": {},
   "outputs": [],
   "source": [
    "#Make a function to_num to change those $ columns to float type\n",
    "def to_num(columns):\n",
    "    df_budget[columns] = df_budget[columns].map(lambda x: x[1:])\n",
    "    df_budget[columns].replace(',', '', regex=True, inplace=True)\n",
    "    df_budget[columns] = df_budget[columns].astype(float)"
   ]
  },
  {
   "cell_type": "code",
   "execution_count": 69,
   "metadata": {},
   "outputs": [],
   "source": [
    "#Change three $ columns using to_num function listed above\n",
    "to_num('production_budget')\n",
    "to_num('domestic_gross')\n",
    "to_num('worldwide_gross')"
   ]
  },
  {
   "cell_type": "code",
   "execution_count": 70,
   "metadata": {},
   "outputs": [
    {
     "data": {
      "text/plain": [
       "numpy.float64"
      ]
     },
     "execution_count": 70,
     "metadata": {},
     "output_type": "execute_result"
    }
   ],
   "source": [
    "#double check\n",
    "type(df_budget['production_budget'][0])"
   ]
  },
  {
   "cell_type": "code",
   "execution_count": 71,
   "metadata": {},
   "outputs": [
    {
     "data": {
      "text/html": [
       "<div>\n",
       "<style scoped>\n",
       "    .dataframe tbody tr th:only-of-type {\n",
       "        vertical-align: middle;\n",
       "    }\n",
       "\n",
       "    .dataframe tbody tr th {\n",
       "        vertical-align: top;\n",
       "    }\n",
       "\n",
       "    .dataframe thead th {\n",
       "        text-align: right;\n",
       "    }\n",
       "</style>\n",
       "<table border=\"1\" class=\"dataframe\">\n",
       "  <thead>\n",
       "    <tr style=\"text-align: right;\">\n",
       "      <th></th>\n",
       "      <th>year</th>\n",
       "      <th>movie</th>\n",
       "      <th>production_budget</th>\n",
       "      <th>domestic_gross</th>\n",
       "      <th>worldwide_gross</th>\n",
       "    </tr>\n",
       "  </thead>\n",
       "  <tbody>\n",
       "    <tr>\n",
       "      <th>0</th>\n",
       "      <td>2009</td>\n",
       "      <td>Avatar</td>\n",
       "      <td>425000000.0</td>\n",
       "      <td>760507625.0</td>\n",
       "      <td>2.776345e+09</td>\n",
       "    </tr>\n",
       "    <tr>\n",
       "      <th>1</th>\n",
       "      <td>2011</td>\n",
       "      <td>Pirates of the Caribbean: On Stranger Tides</td>\n",
       "      <td>410600000.0</td>\n",
       "      <td>241063875.0</td>\n",
       "      <td>1.045664e+09</td>\n",
       "    </tr>\n",
       "    <tr>\n",
       "      <th>2</th>\n",
       "      <td>2019</td>\n",
       "      <td>Dark Phoenix</td>\n",
       "      <td>350000000.0</td>\n",
       "      <td>42762350.0</td>\n",
       "      <td>1.497624e+08</td>\n",
       "    </tr>\n",
       "    <tr>\n",
       "      <th>3</th>\n",
       "      <td>2015</td>\n",
       "      <td>Avengers: Age of Ultron</td>\n",
       "      <td>330600000.0</td>\n",
       "      <td>459005868.0</td>\n",
       "      <td>1.403014e+09</td>\n",
       "    </tr>\n",
       "    <tr>\n",
       "      <th>4</th>\n",
       "      <td>2017</td>\n",
       "      <td>Star Wars Ep. VIII: The Last Jedi</td>\n",
       "      <td>317000000.0</td>\n",
       "      <td>620181382.0</td>\n",
       "      <td>1.316722e+09</td>\n",
       "    </tr>\n",
       "    <tr>\n",
       "      <th>...</th>\n",
       "      <td>...</td>\n",
       "      <td>...</td>\n",
       "      <td>...</td>\n",
       "      <td>...</td>\n",
       "      <td>...</td>\n",
       "    </tr>\n",
       "    <tr>\n",
       "      <th>5777</th>\n",
       "      <td>2018</td>\n",
       "      <td>Red 11</td>\n",
       "      <td>7000.0</td>\n",
       "      <td>0.0</td>\n",
       "      <td>0.000000e+00</td>\n",
       "    </tr>\n",
       "    <tr>\n",
       "      <th>5778</th>\n",
       "      <td>1999</td>\n",
       "      <td>Following</td>\n",
       "      <td>6000.0</td>\n",
       "      <td>48482.0</td>\n",
       "      <td>2.404950e+05</td>\n",
       "    </tr>\n",
       "    <tr>\n",
       "      <th>5779</th>\n",
       "      <td>2005</td>\n",
       "      <td>Return to the Land of Wonders</td>\n",
       "      <td>5000.0</td>\n",
       "      <td>1338.0</td>\n",
       "      <td>1.338000e+03</td>\n",
       "    </tr>\n",
       "    <tr>\n",
       "      <th>5780</th>\n",
       "      <td>2015</td>\n",
       "      <td>A Plague So Pleasant</td>\n",
       "      <td>1400.0</td>\n",
       "      <td>0.0</td>\n",
       "      <td>0.000000e+00</td>\n",
       "    </tr>\n",
       "    <tr>\n",
       "      <th>5781</th>\n",
       "      <td>2005</td>\n",
       "      <td>My Date With Drew</td>\n",
       "      <td>1100.0</td>\n",
       "      <td>181041.0</td>\n",
       "      <td>1.810410e+05</td>\n",
       "    </tr>\n",
       "  </tbody>\n",
       "</table>\n",
       "<p>5698 rows × 5 columns</p>\n",
       "</div>"
      ],
      "text/plain": [
       "      year                                        movie  production_budget  \\\n",
       "0     2009                                       Avatar        425000000.0   \n",
       "1     2011  Pirates of the Caribbean: On Stranger Tides        410600000.0   \n",
       "2     2019                                 Dark Phoenix        350000000.0   \n",
       "3     2015                      Avengers: Age of Ultron        330600000.0   \n",
       "4     2017            Star Wars Ep. VIII: The Last Jedi        317000000.0   \n",
       "...    ...                                          ...                ...   \n",
       "5777  2018                                       Red 11             7000.0   \n",
       "5778  1999                                    Following             6000.0   \n",
       "5779  2005                Return to the Land of Wonders             5000.0   \n",
       "5780  2015                         A Plague So Pleasant             1400.0   \n",
       "5781  2005                            My Date With Drew             1100.0   \n",
       "\n",
       "      domestic_gross  worldwide_gross  \n",
       "0        760507625.0     2.776345e+09  \n",
       "1        241063875.0     1.045664e+09  \n",
       "2         42762350.0     1.497624e+08  \n",
       "3        459005868.0     1.403014e+09  \n",
       "4        620181382.0     1.316722e+09  \n",
       "...              ...              ...  \n",
       "5777             0.0     0.000000e+00  \n",
       "5778         48482.0     2.404950e+05  \n",
       "5779          1338.0     1.338000e+03  \n",
       "5780             0.0     0.000000e+00  \n",
       "5781        181041.0     1.810410e+05  \n",
       "\n",
       "[5698 rows x 5 columns]"
      ]
     },
     "execution_count": 71,
     "metadata": {},
     "output_type": "execute_result"
    }
   ],
   "source": [
    "#Update the 'release_date' to 'year'\n",
    "df_budget['release_date'] = df_budget['release_date'].map(lambda x: x[-4:])\n",
    "df_budget['release_date'] = pd.to_numeric(df_budget['release_date'])\n",
    "type(df_budget['release_date'][0])\n",
    "df_budget.rename(columns={'release_date':'year'})"
   ]
  },
  {
   "cell_type": "code",
   "execution_count": 72,
   "metadata": {},
   "outputs": [
    {
     "name": "stdout",
     "output_type": "stream",
     "text": [
      "(1100.0, 425000000.0)\n",
      "(0.0, 936662225.0)\n",
      "(0.0, 2776345279.0)\n"
     ]
    }
   ],
   "source": [
    "for i in ['production_budget', 'domestic_gross', 'worldwide_gross']:\n",
    "    print (check_range(df_budget[i]))"
   ]
  },
  {
   "cell_type": "markdown",
   "metadata": {},
   "source": [
    "# Exploratory data analysis(EDA)"
   ]
  },
  {
   "cell_type": "markdown",
   "metadata": {},
   "source": [
    "### Best genre in rating(0-10)"
   ]
  },
  {
   "cell_type": "code",
   "execution_count": 73,
   "metadata": {},
   "outputs": [
    {
     "data": {
      "text/html": [
       "<div>\n",
       "<style scoped>\n",
       "    .dataframe tbody tr th:only-of-type {\n",
       "        vertical-align: middle;\n",
       "    }\n",
       "\n",
       "    .dataframe tbody tr th {\n",
       "        vertical-align: top;\n",
       "    }\n",
       "\n",
       "    .dataframe thead th {\n",
       "        text-align: right;\n",
       "    }\n",
       "</style>\n",
       "<table border=\"1\" class=\"dataframe\">\n",
       "  <thead>\n",
       "    <tr style=\"text-align: right;\">\n",
       "      <th></th>\n",
       "      <th>tconst</th>\n",
       "      <th>averagerating</th>\n",
       "      <th>numvotes</th>\n",
       "      <th>total_rating</th>\n",
       "    </tr>\n",
       "  </thead>\n",
       "  <tbody>\n",
       "    <tr>\n",
       "      <th>0</th>\n",
       "      <td>tt10356526</td>\n",
       "      <td>8.3</td>\n",
       "      <td>31</td>\n",
       "      <td>257.3</td>\n",
       "    </tr>\n",
       "    <tr>\n",
       "      <th>1</th>\n",
       "      <td>tt10384606</td>\n",
       "      <td>8.9</td>\n",
       "      <td>559</td>\n",
       "      <td>4975.1</td>\n",
       "    </tr>\n",
       "    <tr>\n",
       "      <th>2</th>\n",
       "      <td>tt1042974</td>\n",
       "      <td>6.4</td>\n",
       "      <td>20</td>\n",
       "      <td>128.0</td>\n",
       "    </tr>\n",
       "    <tr>\n",
       "      <th>3</th>\n",
       "      <td>tt1043726</td>\n",
       "      <td>4.2</td>\n",
       "      <td>50352</td>\n",
       "      <td>211478.4</td>\n",
       "    </tr>\n",
       "    <tr>\n",
       "      <th>4</th>\n",
       "      <td>tt1060240</td>\n",
       "      <td>6.5</td>\n",
       "      <td>21</td>\n",
       "      <td>136.5</td>\n",
       "    </tr>\n",
       "  </tbody>\n",
       "</table>\n",
       "</div>"
      ],
      "text/plain": [
       "       tconst  averagerating  numvotes  total_rating\n",
       "0  tt10356526            8.3        31         257.3\n",
       "1  tt10384606            8.9       559        4975.1\n",
       "2   tt1042974            6.4        20         128.0\n",
       "3   tt1043726            4.2     50352      211478.4\n",
       "4   tt1060240            6.5        21         136.5"
      ]
     },
     "execution_count": 73,
     "metadata": {},
     "output_type": "execute_result"
    }
   ],
   "source": [
    "#Update the df_rating with a new columns total_rating(averagerating * numvotes)\n",
    "df_ratings['total_rating'] = df_ratings['averagerating']*df_ratings['numvotes']\n",
    "df_ratings.head()"
   ]
  },
  {
   "cell_type": "code",
   "execution_count": 74,
   "metadata": {},
   "outputs": [],
   "source": [
    "#Set the index to 'tconst' columns\n",
    "df_ratings.set_index('tconst', inplace=True)"
   ]
  },
  {
   "cell_type": "code",
   "execution_count": 75,
   "metadata": {},
   "outputs": [],
   "source": [
    "df_ratings['count'] = None\n",
    "df_ratings['count'].fillna(1, inplace=True)"
   ]
  },
  {
   "cell_type": "code",
   "execution_count": 76,
   "metadata": {},
   "outputs": [
    {
     "data": {
      "text/html": [
       "<div>\n",
       "<style scoped>\n",
       "    .dataframe tbody tr th:only-of-type {\n",
       "        vertical-align: middle;\n",
       "    }\n",
       "\n",
       "    .dataframe tbody tr th {\n",
       "        vertical-align: top;\n",
       "    }\n",
       "\n",
       "    .dataframe thead th {\n",
       "        text-align: right;\n",
       "    }\n",
       "</style>\n",
       "<table border=\"1\" class=\"dataframe\">\n",
       "  <thead>\n",
       "    <tr style=\"text-align: right;\">\n",
       "      <th></th>\n",
       "      <th>averagerating</th>\n",
       "      <th>numvotes</th>\n",
       "      <th>total_rating</th>\n",
       "      <th>count</th>\n",
       "      <th>Adult</th>\n",
       "      <th>Adventure</th>\n",
       "      <th>Animation</th>\n",
       "      <th>Biography</th>\n",
       "      <th>Comedy</th>\n",
       "      <th>Crime</th>\n",
       "      <th>...</th>\n",
       "      <th>News</th>\n",
       "      <th>Reality-TV</th>\n",
       "      <th>Romance</th>\n",
       "      <th>Sci-Fi</th>\n",
       "      <th>Short</th>\n",
       "      <th>Sport</th>\n",
       "      <th>Talk-Show</th>\n",
       "      <th>Thriller</th>\n",
       "      <th>War</th>\n",
       "      <th>Western</th>\n",
       "    </tr>\n",
       "    <tr>\n",
       "      <th>Action</th>\n",
       "      <th></th>\n",
       "      <th></th>\n",
       "      <th></th>\n",
       "      <th></th>\n",
       "      <th></th>\n",
       "      <th></th>\n",
       "      <th></th>\n",
       "      <th></th>\n",
       "      <th></th>\n",
       "      <th></th>\n",
       "      <th></th>\n",
       "      <th></th>\n",
       "      <th></th>\n",
       "      <th></th>\n",
       "      <th></th>\n",
       "      <th></th>\n",
       "      <th></th>\n",
       "      <th></th>\n",
       "      <th></th>\n",
       "      <th></th>\n",
       "      <th></th>\n",
       "    </tr>\n",
       "  </thead>\n",
       "  <tbody>\n",
       "    <tr>\n",
       "      <th>0</th>\n",
       "      <td>378907.8</td>\n",
       "      <td>158773879</td>\n",
       "      <td>1.096265e+09</td>\n",
       "      <td>59413</td>\n",
       "      <td>1</td>\n",
       "      <td>2458</td>\n",
       "      <td>1300</td>\n",
       "      <td>3554</td>\n",
       "      <td>14224</td>\n",
       "      <td>3115</td>\n",
       "      <td>...</td>\n",
       "      <td>573</td>\n",
       "      <td>13</td>\n",
       "      <td>5734</td>\n",
       "      <td>1522</td>\n",
       "      <td>1</td>\n",
       "      <td>1031</td>\n",
       "      <td>0</td>\n",
       "      <td>6474</td>\n",
       "      <td>690</td>\n",
       "      <td>211</td>\n",
       "    </tr>\n",
       "    <tr>\n",
       "      <th>1</th>\n",
       "      <td>36424.6</td>\n",
       "      <td>101126583</td>\n",
       "      <td>6.965363e+08</td>\n",
       "      <td>6297</td>\n",
       "      <td>1</td>\n",
       "      <td>1163</td>\n",
       "      <td>315</td>\n",
       "      <td>139</td>\n",
       "      <td>1289</td>\n",
       "      <td>1223</td>\n",
       "      <td>...</td>\n",
       "      <td>2</td>\n",
       "      <td>0</td>\n",
       "      <td>242</td>\n",
       "      <td>526</td>\n",
       "      <td>0</td>\n",
       "      <td>68</td>\n",
       "      <td>0</td>\n",
       "      <td>1109</td>\n",
       "      <td>105</td>\n",
       "      <td>45</td>\n",
       "    </tr>\n",
       "  </tbody>\n",
       "</table>\n",
       "<p>2 rows × 30 columns</p>\n",
       "</div>"
      ],
      "text/plain": [
       "        averagerating   numvotes  total_rating  count  Adult  Adventure  \\\n",
       "Action                                                                    \n",
       "0            378907.8  158773879  1.096265e+09  59413      1       2458   \n",
       "1             36424.6  101126583  6.965363e+08   6297      1       1163   \n",
       "\n",
       "        Animation  Biography  Comedy  Crime  ...  News  Reality-TV  Romance  \\\n",
       "Action                                       ...                              \n",
       "0            1300       3554   14224   3115  ...   573          13     5734   \n",
       "1             315        139    1289   1223  ...     2           0      242   \n",
       "\n",
       "        Sci-Fi  Short  Sport  Talk-Show  Thriller  War  Western  \n",
       "Action                                                           \n",
       "0         1522      1   1031          0      6474  690      211  \n",
       "1          526      0     68          0      1109  105       45  \n",
       "\n",
       "[2 rows x 30 columns]"
      ]
     },
     "execution_count": 76,
     "metadata": {},
     "output_type": "execute_result"
    }
   ],
   "source": [
    "#Preview one of the join and groupby table\n",
    "df_ratings.join(df_genres, how='inner').groupby('Action').sum()"
   ]
  },
  {
   "cell_type": "code",
   "execution_count": 77,
   "metadata": {},
   "outputs": [],
   "source": [
    "#Make a mean_rating function for calculating mean rating\n",
    "def mean_rating(genres):\n",
    "    return (df_ratings.join(df_genres, how='inner').groupby(genres).sum()['total_rating'][1] / \n",
    "            df_ratings.join(df_genres, how='inner').groupby(genres).sum()['numvotes'][1])"
   ]
  },
  {
   "cell_type": "code",
   "execution_count": 78,
   "metadata": {},
   "outputs": [
    {
     "name": "stdout",
     "output_type": "stream",
     "text": [
      "There is no Talk-Show movies after inner join\n"
     ]
    }
   ],
   "source": [
    "#Make a dictionary to store the genres and mean rating, throw an exception that some genres\n",
    "#having no movies after inner join\n",
    "genres = []\n",
    "rating = []\n",
    "for i in df_genres.columns:\n",
    "    try: \n",
    "        rating.append(mean_rating(i))\n",
    "        genres.append(i)\n",
    "    except:\n",
    "        print(\"There is no \" + i + \" movies after inner join\")\n",
    "dic_rating = {'genres':genres, 'mean_rating':rating}"
   ]
  },
  {
   "cell_type": "code",
   "execution_count": 79,
   "metadata": {},
   "outputs": [],
   "source": [
    "#Dictionary to df and sorting\n",
    "df_mean_rating = pd.DataFrame.from_dict(dic_rating)\n",
    "df_mean_rating.sort_values('mean_rating', ascending=False, inplace=True)"
   ]
  },
  {
   "cell_type": "code",
   "execution_count": 80,
   "metadata": {},
   "outputs": [
    {
     "data": {
      "text/html": [
       "<div>\n",
       "<style scoped>\n",
       "    .dataframe tbody tr th:only-of-type {\n",
       "        vertical-align: middle;\n",
       "    }\n",
       "\n",
       "    .dataframe tbody tr th {\n",
       "        vertical-align: top;\n",
       "    }\n",
       "\n",
       "    .dataframe thead th {\n",
       "        text-align: right;\n",
       "    }\n",
       "</style>\n",
       "<table border=\"1\" class=\"dataframe\">\n",
       "  <thead>\n",
       "    <tr style=\"text-align: right;\">\n",
       "      <th></th>\n",
       "      <th>genres</th>\n",
       "      <th>mean_rating</th>\n",
       "    </tr>\n",
       "  </thead>\n",
       "  <tbody>\n",
       "    <tr>\n",
       "      <th>21</th>\n",
       "      <td>Short</td>\n",
       "      <td>8.800000</td>\n",
       "    </tr>\n",
       "    <tr>\n",
       "      <th>17</th>\n",
       "      <td>News</td>\n",
       "      <td>7.640460</td>\n",
       "    </tr>\n",
       "    <tr>\n",
       "      <th>25</th>\n",
       "      <td>Western</td>\n",
       "      <td>7.519219</td>\n",
       "    </tr>\n",
       "    <tr>\n",
       "      <th>4</th>\n",
       "      <td>Biography</td>\n",
       "      <td>7.475118</td>\n",
       "    </tr>\n",
       "    <tr>\n",
       "      <th>12</th>\n",
       "      <td>History</td>\n",
       "      <td>7.358504</td>\n",
       "    </tr>\n",
       "    <tr>\n",
       "      <th>7</th>\n",
       "      <td>Documentary</td>\n",
       "      <td>7.298120</td>\n",
       "    </tr>\n",
       "    <tr>\n",
       "      <th>22</th>\n",
       "      <td>Sport</td>\n",
       "      <td>7.291363</td>\n",
       "    </tr>\n",
       "    <tr>\n",
       "      <th>3</th>\n",
       "      <td>Animation</td>\n",
       "      <td>7.265119</td>\n",
       "    </tr>\n",
       "    <tr>\n",
       "      <th>14</th>\n",
       "      <td>Music</td>\n",
       "      <td>7.131506</td>\n",
       "    </tr>\n",
       "    <tr>\n",
       "      <th>20</th>\n",
       "      <td>Sci-Fi</td>\n",
       "      <td>7.120721</td>\n",
       "    </tr>\n",
       "  </tbody>\n",
       "</table>\n",
       "</div>"
      ],
      "text/plain": [
       "         genres  mean_rating\n",
       "21        Short     8.800000\n",
       "17         News     7.640460\n",
       "25      Western     7.519219\n",
       "4     Biography     7.475118\n",
       "12      History     7.358504\n",
       "7   Documentary     7.298120\n",
       "22        Sport     7.291363\n",
       "3     Animation     7.265119\n",
       "14        Music     7.131506\n",
       "20       Sci-Fi     7.120721"
      ]
     },
     "execution_count": 80,
     "metadata": {},
     "output_type": "execute_result"
    }
   ],
   "source": [
    "df_mean_rating.head(10)"
   ]
  },
  {
   "cell_type": "markdown",
   "metadata": {},
   "source": [
    "### Visualization"
   ]
  },
  {
   "cell_type": "code",
   "execution_count": 81,
   "metadata": {},
   "outputs": [
    {
     "data": {
      "image/png": "[encoded data removed]",
      "text/plain": [
       "<Figure size 921.6x633.6 with 1 Axes>"
      ]
     },
     "metadata": {
      "needs_background": "light"
     },
     "output_type": "display_data"
    }
   ],
   "source": [
    "plt.style.use('seaborn-poster')\n",
    "plt.bar(x=df_mean_rating['genres'][:10], height=df_mean_rating['mean_rating'].head(10))\n",
    "plt.title('Top 10 Rating of Genres')\n",
    "plt.xlabel('Genres')\n",
    "plt.ylabel('Rating Mean')\n",
    "plt.xticks(rotation=75)\n",
    "plt.show()"
   ]
  },
  {
   "cell_type": "markdown",
   "metadata": {},
   "source": [
    "### Best genre in gross(total = domestic+foreign) from bom"
   ]
  },
  {
   "cell_type": "code",
   "execution_count": 82,
   "metadata": {},
   "outputs": [
    {
     "data": {
      "text/html": [
       "<div>\n",
       "<style scoped>\n",
       "    .dataframe tbody tr th:only-of-type {\n",
       "        vertical-align: middle;\n",
       "    }\n",
       "\n",
       "    .dataframe tbody tr th {\n",
       "        vertical-align: top;\n",
       "    }\n",
       "\n",
       "    .dataframe thead th {\n",
       "        text-align: right;\n",
       "    }\n",
       "</style>\n",
       "<table border=\"1\" class=\"dataframe\">\n",
       "  <thead>\n",
       "    <tr style=\"text-align: right;\">\n",
       "      <th></th>\n",
       "      <th>title</th>\n",
       "      <th>studio</th>\n",
       "      <th>domestic_gross</th>\n",
       "      <th>foreign_gross</th>\n",
       "      <th>year</th>\n",
       "    </tr>\n",
       "  </thead>\n",
       "  <tbody>\n",
       "    <tr>\n",
       "      <th>0</th>\n",
       "      <td>Toy Story 3</td>\n",
       "      <td>BV</td>\n",
       "      <td>415000000.0</td>\n",
       "      <td>652000000.0</td>\n",
       "      <td>2010</td>\n",
       "    </tr>\n",
       "    <tr>\n",
       "      <th>1</th>\n",
       "      <td>Alice in Wonderland (2010)</td>\n",
       "      <td>BV</td>\n",
       "      <td>334200000.0</td>\n",
       "      <td>691300000.0</td>\n",
       "      <td>2010</td>\n",
       "    </tr>\n",
       "    <tr>\n",
       "      <th>2</th>\n",
       "      <td>Harry Potter and the Deathly Hallows Part 1</td>\n",
       "      <td>WB</td>\n",
       "      <td>296000000.0</td>\n",
       "      <td>664300000.0</td>\n",
       "      <td>2010</td>\n",
       "    </tr>\n",
       "    <tr>\n",
       "      <th>3</th>\n",
       "      <td>Inception</td>\n",
       "      <td>WB</td>\n",
       "      <td>292600000.0</td>\n",
       "      <td>535700000.0</td>\n",
       "      <td>2010</td>\n",
       "    </tr>\n",
       "    <tr>\n",
       "      <th>4</th>\n",
       "      <td>Shrek Forever After</td>\n",
       "      <td>P/DW</td>\n",
       "      <td>238700000.0</td>\n",
       "      <td>513900000.0</td>\n",
       "      <td>2010</td>\n",
       "    </tr>\n",
       "  </tbody>\n",
       "</table>\n",
       "</div>"
      ],
      "text/plain": [
       "                                         title studio  domestic_gross  \\\n",
       "0                                  Toy Story 3     BV     415000000.0   \n",
       "1                   Alice in Wonderland (2010)     BV     334200000.0   \n",
       "2  Harry Potter and the Deathly Hallows Part 1     WB     296000000.0   \n",
       "3                                    Inception     WB     292600000.0   \n",
       "4                          Shrek Forever After   P/DW     238700000.0   \n",
       "\n",
       "   foreign_gross  year  \n",
       "0    652000000.0  2010  \n",
       "1    691300000.0  2010  \n",
       "2    664300000.0  2010  \n",
       "3    535700000.0  2010  \n",
       "4    513900000.0  2010  "
      ]
     },
     "execution_count": 82,
     "metadata": {},
     "output_type": "execute_result"
    }
   ],
   "source": [
    "#preview the dataset\n",
    "df_gross.head()"
   ]
  },
  {
   "cell_type": "code",
   "execution_count": 83,
   "metadata": {},
   "outputs": [
    {
     "data": {
      "text/html": [
       "<div>\n",
       "<style scoped>\n",
       "    .dataframe tbody tr th:only-of-type {\n",
       "        vertical-align: middle;\n",
       "    }\n",
       "\n",
       "    .dataframe tbody tr th {\n",
       "        vertical-align: top;\n",
       "    }\n",
       "\n",
       "    .dataframe thead th {\n",
       "        text-align: right;\n",
       "    }\n",
       "</style>\n",
       "<table border=\"1\" class=\"dataframe\">\n",
       "  <thead>\n",
       "    <tr style=\"text-align: right;\">\n",
       "      <th></th>\n",
       "      <th>title</th>\n",
       "      <th>studio</th>\n",
       "      <th>domestic_gross</th>\n",
       "      <th>foreign_gross</th>\n",
       "      <th>year</th>\n",
       "      <th>total_gross</th>\n",
       "      <th>count</th>\n",
       "    </tr>\n",
       "  </thead>\n",
       "  <tbody>\n",
       "    <tr>\n",
       "      <th>0</th>\n",
       "      <td>Toy Story 3</td>\n",
       "      <td>BV</td>\n",
       "      <td>415000000.0</td>\n",
       "      <td>652000000.0</td>\n",
       "      <td>2010</td>\n",
       "      <td>1.067000e+09</td>\n",
       "      <td>1</td>\n",
       "    </tr>\n",
       "    <tr>\n",
       "      <th>1</th>\n",
       "      <td>Alice in Wonderland (2010)</td>\n",
       "      <td>BV</td>\n",
       "      <td>334200000.0</td>\n",
       "      <td>691300000.0</td>\n",
       "      <td>2010</td>\n",
       "      <td>1.025500e+09</td>\n",
       "      <td>1</td>\n",
       "    </tr>\n",
       "    <tr>\n",
       "      <th>2</th>\n",
       "      <td>Harry Potter and the Deathly Hallows Part 1</td>\n",
       "      <td>WB</td>\n",
       "      <td>296000000.0</td>\n",
       "      <td>664300000.0</td>\n",
       "      <td>2010</td>\n",
       "      <td>9.603000e+08</td>\n",
       "      <td>1</td>\n",
       "    </tr>\n",
       "    <tr>\n",
       "      <th>3</th>\n",
       "      <td>Inception</td>\n",
       "      <td>WB</td>\n",
       "      <td>292600000.0</td>\n",
       "      <td>535700000.0</td>\n",
       "      <td>2010</td>\n",
       "      <td>8.283000e+08</td>\n",
       "      <td>1</td>\n",
       "    </tr>\n",
       "    <tr>\n",
       "      <th>4</th>\n",
       "      <td>Shrek Forever After</td>\n",
       "      <td>P/DW</td>\n",
       "      <td>238700000.0</td>\n",
       "      <td>513900000.0</td>\n",
       "      <td>2010</td>\n",
       "      <td>7.526000e+08</td>\n",
       "      <td>1</td>\n",
       "    </tr>\n",
       "  </tbody>\n",
       "</table>\n",
       "</div>"
      ],
      "text/plain": [
       "                                         title studio  domestic_gross  \\\n",
       "0                                  Toy Story 3     BV     415000000.0   \n",
       "1                   Alice in Wonderland (2010)     BV     334200000.0   \n",
       "2  Harry Potter and the Deathly Hallows Part 1     WB     296000000.0   \n",
       "3                                    Inception     WB     292600000.0   \n",
       "4                          Shrek Forever After   P/DW     238700000.0   \n",
       "\n",
       "   foreign_gross  year   total_gross  count  \n",
       "0    652000000.0  2010  1.067000e+09      1  \n",
       "1    691300000.0  2010  1.025500e+09      1  \n",
       "2    664300000.0  2010  9.603000e+08      1  \n",
       "3    535700000.0  2010  8.283000e+08      1  \n",
       "4    513900000.0  2010  7.526000e+08      1  "
      ]
     },
     "execution_count": 83,
     "metadata": {},
     "output_type": "execute_result"
    }
   ],
   "source": [
    "#update the df with a total gross and count\n",
    "df_gross['total_gross'] = df_gross['domestic_gross'] + df_gross['foreign_gross']\n",
    "df_gross['count'] = None\n",
    "df_gross['count'].fillna(1, inplace=True)\n",
    "df_gross.head()"
   ]
  },
  {
   "cell_type": "code",
   "execution_count": 84,
   "metadata": {},
   "outputs": [
    {
     "data": {
      "text/plain": [
       "(3161, 12)"
      ]
     },
     "execution_count": 84,
     "metadata": {},
     "output_type": "execute_result"
    }
   ],
   "source": [
    "df_gengross = df_basics.set_index('primary_title').join(df_gross.set_index('title'), how='inner')\n",
    "df_gengross.shape"
   ]
  },
  {
   "cell_type": "code",
   "execution_count": 85,
   "metadata": {},
   "outputs": [],
   "source": [
    "df_gengross.reset_index(inplace=True)\n",
    "df_gengross.drop(columns=['index','level_0', 'genres'], inplace=True)\n",
    "df_gengross['tconst'].drop_duplicates(inplace=True)"
   ]
  },
  {
   "cell_type": "code",
   "execution_count": 86,
   "metadata": {},
   "outputs": [
    {
     "data": {
      "text/html": [
       "<div>\n",
       "<style scoped>\n",
       "    .dataframe tbody tr th:only-of-type {\n",
       "        vertical-align: middle;\n",
       "    }\n",
       "\n",
       "    .dataframe tbody tr th {\n",
       "        vertical-align: top;\n",
       "    }\n",
       "\n",
       "    .dataframe thead th {\n",
       "        text-align: right;\n",
       "    }\n",
       "</style>\n",
       "<table border=\"1\" class=\"dataframe\">\n",
       "  <thead>\n",
       "    <tr style=\"text-align: right;\">\n",
       "      <th></th>\n",
       "      <th>tconst</th>\n",
       "      <th>original_title</th>\n",
       "      <th>start_year</th>\n",
       "      <th>runtime_minutes</th>\n",
       "      <th>studio</th>\n",
       "      <th>domestic_gross</th>\n",
       "      <th>foreign_gross</th>\n",
       "      <th>year</th>\n",
       "      <th>total_gross</th>\n",
       "      <th>count</th>\n",
       "    </tr>\n",
       "  </thead>\n",
       "  <tbody>\n",
       "    <tr>\n",
       "      <th>0</th>\n",
       "      <td>tt2614684</td>\n",
       "      <td>'71</td>\n",
       "      <td>2014</td>\n",
       "      <td>99.0</td>\n",
       "      <td>RAtt.</td>\n",
       "      <td>1300000.0</td>\n",
       "      <td>355000.0</td>\n",
       "      <td>2015</td>\n",
       "      <td>1655000.0</td>\n",
       "      <td>1</td>\n",
       "    </tr>\n",
       "    <tr>\n",
       "      <th>1</th>\n",
       "      <td>tt2353767</td>\n",
       "      <td>Tusen ganger god natt</td>\n",
       "      <td>2013</td>\n",
       "      <td>117.0</td>\n",
       "      <td>FM</td>\n",
       "      <td>53900.0</td>\n",
       "      <td>0.0</td>\n",
       "      <td>2014</td>\n",
       "      <td>53900.0</td>\n",
       "      <td>1</td>\n",
       "    </tr>\n",
       "    <tr>\n",
       "      <th>2</th>\n",
       "      <td>tt1179933</td>\n",
       "      <td>10 Cloverfield Lane</td>\n",
       "      <td>2016</td>\n",
       "      <td>103.0</td>\n",
       "      <td>Par.</td>\n",
       "      <td>72100000.0</td>\n",
       "      <td>38100000.0</td>\n",
       "      <td>2016</td>\n",
       "      <td>110200000.0</td>\n",
       "      <td>1</td>\n",
       "    </tr>\n",
       "    <tr>\n",
       "      <th>3</th>\n",
       "      <td>tt1715873</td>\n",
       "      <td>10 Years</td>\n",
       "      <td>2011</td>\n",
       "      <td>100.0</td>\n",
       "      <td>Anch.</td>\n",
       "      <td>203000.0</td>\n",
       "      <td>0.0</td>\n",
       "      <td>2012</td>\n",
       "      <td>203000.0</td>\n",
       "      <td>1</td>\n",
       "    </tr>\n",
       "    <tr>\n",
       "      <th>4</th>\n",
       "      <td>tt3346824</td>\n",
       "      <td>1001 Gram</td>\n",
       "      <td>2014</td>\n",
       "      <td>93.0</td>\n",
       "      <td>KL</td>\n",
       "      <td>11000.0</td>\n",
       "      <td>0.0</td>\n",
       "      <td>2015</td>\n",
       "      <td>11000.0</td>\n",
       "      <td>1</td>\n",
       "    </tr>\n",
       "  </tbody>\n",
       "</table>\n",
       "</div>"
      ],
      "text/plain": [
       "      tconst         original_title  start_year  runtime_minutes studio  \\\n",
       "0  tt2614684                    '71        2014             99.0  RAtt.   \n",
       "1  tt2353767  Tusen ganger god natt        2013            117.0     FM   \n",
       "2  tt1179933    10 Cloverfield Lane        2016            103.0   Par.   \n",
       "3  tt1715873               10 Years        2011            100.0  Anch.   \n",
       "4  tt3346824              1001 Gram        2014             93.0     KL   \n",
       "\n",
       "   domestic_gross  foreign_gross  year  total_gross  count  \n",
       "0       1300000.0       355000.0  2015    1655000.0      1  \n",
       "1         53900.0            0.0  2014      53900.0      1  \n",
       "2      72100000.0     38100000.0  2016  110200000.0      1  \n",
       "3        203000.0            0.0  2012     203000.0      1  \n",
       "4         11000.0            0.0  2015      11000.0      1  "
      ]
     },
     "execution_count": 86,
     "metadata": {},
     "output_type": "execute_result"
    }
   ],
   "source": [
    "df_gengross.head()"
   ]
  },
  {
   "cell_type": "code",
   "execution_count": 87,
   "metadata": {},
   "outputs": [
    {
     "data": {
      "text/plain": [
       "71"
      ]
     },
     "execution_count": 87,
     "metadata": {},
     "output_type": "execute_result"
    }
   ],
   "source": [
    "#There are some duplicated values after join\n",
    "df_gengross.iloc[:, [1,2,5,6,7,8]].duplicated().sum()"
   ]
  },
  {
   "cell_type": "code",
   "execution_count": 88,
   "metadata": {},
   "outputs": [],
   "source": [
    "df_gengross.drop(df_gengross[df_gengross.iloc[:, [1,2,5,6,7,8]].duplicated()].index, inplace=True)"
   ]
  },
  {
   "cell_type": "code",
   "execution_count": 89,
   "metadata": {},
   "outputs": [],
   "source": [
    "#df_gengross = df_basics.set_index('original_title').join(df_gross.set_index('title'), how='inner')\n",
    "#df_gengross.shape\n",
    "#(2581, 13)\n",
    "#choose using 'primary_title' to match title bacuse 'primary_title' has more matches"
   ]
  },
  {
   "cell_type": "code",
   "execution_count": 90,
   "metadata": {},
   "outputs": [
    {
     "data": {
      "text/html": [
       "<div>\n",
       "<style scoped>\n",
       "    .dataframe tbody tr th:only-of-type {\n",
       "        vertical-align: middle;\n",
       "    }\n",
       "\n",
       "    .dataframe tbody tr th {\n",
       "        vertical-align: top;\n",
       "    }\n",
       "\n",
       "    .dataframe thead th {\n",
       "        text-align: right;\n",
       "    }\n",
       "</style>\n",
       "<table border=\"1\" class=\"dataframe\">\n",
       "  <thead>\n",
       "    <tr style=\"text-align: right;\">\n",
       "      <th></th>\n",
       "      <th>tconst</th>\n",
       "      <th>original_title</th>\n",
       "      <th>start_year</th>\n",
       "      <th>runtime_minutes</th>\n",
       "      <th>studio</th>\n",
       "      <th>domestic_gross</th>\n",
       "      <th>foreign_gross</th>\n",
       "      <th>year</th>\n",
       "      <th>total_gross</th>\n",
       "      <th>count</th>\n",
       "    </tr>\n",
       "  </thead>\n",
       "  <tbody>\n",
       "    <tr>\n",
       "      <th>0</th>\n",
       "      <td>tt2614684</td>\n",
       "      <td>'71</td>\n",
       "      <td>2014</td>\n",
       "      <td>99.0</td>\n",
       "      <td>RAtt.</td>\n",
       "      <td>1300000.0</td>\n",
       "      <td>355000.0</td>\n",
       "      <td>2015</td>\n",
       "      <td>1655000.0</td>\n",
       "      <td>1</td>\n",
       "    </tr>\n",
       "    <tr>\n",
       "      <th>1</th>\n",
       "      <td>tt2353767</td>\n",
       "      <td>Tusen ganger god natt</td>\n",
       "      <td>2013</td>\n",
       "      <td>117.0</td>\n",
       "      <td>FM</td>\n",
       "      <td>53900.0</td>\n",
       "      <td>0.0</td>\n",
       "      <td>2014</td>\n",
       "      <td>53900.0</td>\n",
       "      <td>1</td>\n",
       "    </tr>\n",
       "    <tr>\n",
       "      <th>2</th>\n",
       "      <td>tt1179933</td>\n",
       "      <td>10 Cloverfield Lane</td>\n",
       "      <td>2016</td>\n",
       "      <td>103.0</td>\n",
       "      <td>Par.</td>\n",
       "      <td>72100000.0</td>\n",
       "      <td>38100000.0</td>\n",
       "      <td>2016</td>\n",
       "      <td>110200000.0</td>\n",
       "      <td>1</td>\n",
       "    </tr>\n",
       "    <tr>\n",
       "      <th>3</th>\n",
       "      <td>tt1715873</td>\n",
       "      <td>10 Years</td>\n",
       "      <td>2011</td>\n",
       "      <td>100.0</td>\n",
       "      <td>Anch.</td>\n",
       "      <td>203000.0</td>\n",
       "      <td>0.0</td>\n",
       "      <td>2012</td>\n",
       "      <td>203000.0</td>\n",
       "      <td>1</td>\n",
       "    </tr>\n",
       "    <tr>\n",
       "      <th>4</th>\n",
       "      <td>tt3346824</td>\n",
       "      <td>1001 Gram</td>\n",
       "      <td>2014</td>\n",
       "      <td>93.0</td>\n",
       "      <td>KL</td>\n",
       "      <td>11000.0</td>\n",
       "      <td>0.0</td>\n",
       "      <td>2015</td>\n",
       "      <td>11000.0</td>\n",
       "      <td>1</td>\n",
       "    </tr>\n",
       "  </tbody>\n",
       "</table>\n",
       "</div>"
      ],
      "text/plain": [
       "      tconst         original_title  start_year  runtime_minutes studio  \\\n",
       "0  tt2614684                    '71        2014             99.0  RAtt.   \n",
       "1  tt2353767  Tusen ganger god natt        2013            117.0     FM   \n",
       "2  tt1179933    10 Cloverfield Lane        2016            103.0   Par.   \n",
       "3  tt1715873               10 Years        2011            100.0  Anch.   \n",
       "4  tt3346824              1001 Gram        2014             93.0     KL   \n",
       "\n",
       "   domestic_gross  foreign_gross  year  total_gross  count  \n",
       "0       1300000.0       355000.0  2015    1655000.0      1  \n",
       "1         53900.0            0.0  2014      53900.0      1  \n",
       "2      72100000.0     38100000.0  2016  110200000.0      1  \n",
       "3        203000.0            0.0  2012     203000.0      1  \n",
       "4         11000.0            0.0  2015      11000.0      1  "
      ]
     },
     "execution_count": 90,
     "metadata": {},
     "output_type": "execute_result"
    }
   ],
   "source": [
    "df_gengross.head()"
   ]
  },
  {
   "cell_type": "code",
   "execution_count": 91,
   "metadata": {},
   "outputs": [
    {
     "data": {
      "text/html": [
       "<div>\n",
       "<style scoped>\n",
       "    .dataframe tbody tr th:only-of-type {\n",
       "        vertical-align: middle;\n",
       "    }\n",
       "\n",
       "    .dataframe tbody tr th {\n",
       "        vertical-align: top;\n",
       "    }\n",
       "\n",
       "    .dataframe thead th {\n",
       "        text-align: right;\n",
       "    }\n",
       "</style>\n",
       "<table border=\"1\" class=\"dataframe\">\n",
       "  <thead>\n",
       "    <tr style=\"text-align: right;\">\n",
       "      <th></th>\n",
       "      <th>start_year</th>\n",
       "      <th>runtime_minutes</th>\n",
       "      <th>domestic_gross</th>\n",
       "      <th>foreign_gross</th>\n",
       "      <th>year</th>\n",
       "      <th>total_gross</th>\n",
       "      <th>count</th>\n",
       "      <th>Adult</th>\n",
       "      <th>Adventure</th>\n",
       "      <th>Animation</th>\n",
       "      <th>...</th>\n",
       "      <th>News</th>\n",
       "      <th>Reality-TV</th>\n",
       "      <th>Romance</th>\n",
       "      <th>Sci-Fi</th>\n",
       "      <th>Short</th>\n",
       "      <th>Sport</th>\n",
       "      <th>Talk-Show</th>\n",
       "      <th>Thriller</th>\n",
       "      <th>War</th>\n",
       "      <th>Western</th>\n",
       "    </tr>\n",
       "    <tr>\n",
       "      <th>Action</th>\n",
       "      <th></th>\n",
       "      <th></th>\n",
       "      <th></th>\n",
       "      <th></th>\n",
       "      <th></th>\n",
       "      <th></th>\n",
       "      <th></th>\n",
       "      <th></th>\n",
       "      <th></th>\n",
       "      <th></th>\n",
       "      <th></th>\n",
       "      <th></th>\n",
       "      <th></th>\n",
       "      <th></th>\n",
       "      <th></th>\n",
       "      <th></th>\n",
       "      <th></th>\n",
       "      <th></th>\n",
       "      <th></th>\n",
       "      <th></th>\n",
       "      <th></th>\n",
       "    </tr>\n",
       "  </thead>\n",
       "  <tbody>\n",
       "    <tr>\n",
       "      <th>0</th>\n",
       "      <td>4929868</td>\n",
       "      <td>252379.0</td>\n",
       "      <td>5.424807e+10</td>\n",
       "      <td>7.392060e+10</td>\n",
       "      <td>4930437</td>\n",
       "      <td>1.281687e+11</td>\n",
       "      <td>2448</td>\n",
       "      <td>0</td>\n",
       "      <td>216</td>\n",
       "      <td>124</td>\n",
       "      <td>...</td>\n",
       "      <td>5</td>\n",
       "      <td>0</td>\n",
       "      <td>453</td>\n",
       "      <td>52</td>\n",
       "      <td>0</td>\n",
       "      <td>49</td>\n",
       "      <td>0</td>\n",
       "      <td>307</td>\n",
       "      <td>46</td>\n",
       "      <td>16</td>\n",
       "    </tr>\n",
       "    <tr>\n",
       "      <th>1</th>\n",
       "      <td>1292996</td>\n",
       "      <td>73885.0</td>\n",
       "      <td>3.801846e+10</td>\n",
       "      <td>6.791736e+10</td>\n",
       "      <td>1293041</td>\n",
       "      <td>1.059358e+11</td>\n",
       "      <td>642</td>\n",
       "      <td>0</td>\n",
       "      <td>226</td>\n",
       "      <td>30</td>\n",
       "      <td>...</td>\n",
       "      <td>0</td>\n",
       "      <td>0</td>\n",
       "      <td>17</td>\n",
       "      <td>84</td>\n",
       "      <td>0</td>\n",
       "      <td>5</td>\n",
       "      <td>0</td>\n",
       "      <td>136</td>\n",
       "      <td>4</td>\n",
       "      <td>5</td>\n",
       "    </tr>\n",
       "  </tbody>\n",
       "</table>\n",
       "<p>2 rows × 33 columns</p>\n",
       "</div>"
      ],
      "text/plain": [
       "        start_year  runtime_minutes  domestic_gross  foreign_gross     year  \\\n",
       "Action                                                                        \n",
       "0          4929868         252379.0    5.424807e+10   7.392060e+10  4930437   \n",
       "1          1292996          73885.0    3.801846e+10   6.791736e+10  1293041   \n",
       "\n",
       "         total_gross  count  Adult  Adventure  Animation  ...  News  \\\n",
       "Action                                                    ...         \n",
       "0       1.281687e+11   2448      0        216        124  ...     5   \n",
       "1       1.059358e+11    642      0        226         30  ...     0   \n",
       "\n",
       "        Reality-TV  Romance  Sci-Fi  Short  Sport  Talk-Show  Thriller  War  \\\n",
       "Action                                                                        \n",
       "0                0      453      52      0     49          0       307   46   \n",
       "1                0       17      84      0      5          0       136    4   \n",
       "\n",
       "        Western  \n",
       "Action           \n",
       "0            16  \n",
       "1             5  \n",
       "\n",
       "[2 rows x 33 columns]"
      ]
     },
     "execution_count": 91,
     "metadata": {},
     "output_type": "execute_result"
    }
   ],
   "source": [
    "#Similar as rating part, give an example here to check\n",
    "df_gengross.set_index('tconst').join(df_genres, how='inner').groupby('Action').sum()"
   ]
  },
  {
   "cell_type": "code",
   "execution_count": 92,
   "metadata": {},
   "outputs": [],
   "source": [
    "#Make a mean_totgross function for calculating mean total gross\n",
    "def mean_totgross(genres):\n",
    "    return (df_gengross.set_index('tconst').join(df_genres, how='inner').groupby(genres).sum()['total_gross'][1] / \n",
    "            df_gengross.set_index('tconst').join(df_genres, how='inner').groupby(genres).sum()['count'][1])"
   ]
  },
  {
   "cell_type": "code",
   "execution_count": 93,
   "metadata": {},
   "outputs": [
    {
     "name": "stdout",
     "output_type": "stream",
     "text": [
      "There is no Adult movies after inner join\n",
      "There is no Game-Show movies after inner join\n",
      "There is no Reality-TV movies after inner join\n",
      "There is no Short movies after inner join\n",
      "There is no Talk-Show movies after inner join\n"
     ]
    }
   ],
   "source": [
    "#Make a dictionary to store the genres and total gross, \n",
    "#throw an exception that some genres having no movies after inner join\n",
    "genres = []\n",
    "totgross = []\n",
    "for i in df_genres.columns:\n",
    "    try: \n",
    "        totgross.append(mean_totgross(i))\n",
    "        genres.append(i)\n",
    "    except:\n",
    "        print(\"There is no \" + i + \" movies after inner join\")\n",
    "dic_gross = {'genres':genres, 'mean_totgross':totgross}"
   ]
  },
  {
   "cell_type": "code",
   "execution_count": 94,
   "metadata": {},
   "outputs": [],
   "source": [
    "#Dictionary to df and sorting\n",
    "df_genres_gross = pd.DataFrame.from_dict(dic_gross)\n",
    "df_genres_gross.sort_values('mean_totgross', ascending=False, inplace=True)"
   ]
  },
  {
   "cell_type": "code",
   "execution_count": 95,
   "metadata": {},
   "outputs": [
    {
     "data": {
      "text/html": [
       "<div>\n",
       "<style scoped>\n",
       "    .dataframe tbody tr th:only-of-type {\n",
       "        vertical-align: middle;\n",
       "    }\n",
       "\n",
       "    .dataframe tbody tr th {\n",
       "        vertical-align: top;\n",
       "    }\n",
       "\n",
       "    .dataframe thead th {\n",
       "        text-align: right;\n",
       "    }\n",
       "</style>\n",
       "<table border=\"1\" class=\"dataframe\">\n",
       "  <thead>\n",
       "    <tr style=\"text-align: right;\">\n",
       "      <th></th>\n",
       "      <th>genres</th>\n",
       "      <th>mean_totgross</th>\n",
       "    </tr>\n",
       "  </thead>\n",
       "  <tbody>\n",
       "    <tr>\n",
       "      <th>17</th>\n",
       "      <td>Sci-Fi</td>\n",
       "      <td>2.841010e+08</td>\n",
       "    </tr>\n",
       "    <tr>\n",
       "      <th>1</th>\n",
       "      <td>Adventure</td>\n",
       "      <td>2.712715e+08</td>\n",
       "    </tr>\n",
       "    <tr>\n",
       "      <th>2</th>\n",
       "      <td>Animation</td>\n",
       "      <td>2.531046e+08</td>\n",
       "    </tr>\n",
       "    <tr>\n",
       "      <th>0</th>\n",
       "      <td>Action</td>\n",
       "      <td>1.650091e+08</td>\n",
       "    </tr>\n",
       "    <tr>\n",
       "      <th>9</th>\n",
       "      <td>Fantasy</td>\n",
       "      <td>1.617202e+08</td>\n",
       "    </tr>\n",
       "    <tr>\n",
       "      <th>8</th>\n",
       "      <td>Family</td>\n",
       "      <td>1.070016e+08</td>\n",
       "    </tr>\n",
       "    <tr>\n",
       "      <th>4</th>\n",
       "      <td>Comedy</td>\n",
       "      <td>8.340298e+07</td>\n",
       "    </tr>\n",
       "    <tr>\n",
       "      <th>19</th>\n",
       "      <td>Thriller</td>\n",
       "      <td>7.703152e+07</td>\n",
       "    </tr>\n",
       "    <tr>\n",
       "      <th>18</th>\n",
       "      <td>Sport</td>\n",
       "      <td>7.327638e+07</td>\n",
       "    </tr>\n",
       "    <tr>\n",
       "      <th>13</th>\n",
       "      <td>Musical</td>\n",
       "      <td>6.345121e+07</td>\n",
       "    </tr>\n",
       "  </tbody>\n",
       "</table>\n",
       "</div>"
      ],
      "text/plain": [
       "       genres  mean_totgross\n",
       "17     Sci-Fi   2.841010e+08\n",
       "1   Adventure   2.712715e+08\n",
       "2   Animation   2.531046e+08\n",
       "0      Action   1.650091e+08\n",
       "9     Fantasy   1.617202e+08\n",
       "8      Family   1.070016e+08\n",
       "4      Comedy   8.340298e+07\n",
       "19   Thriller   7.703152e+07\n",
       "18      Sport   7.327638e+07\n",
       "13    Musical   6.345121e+07"
      ]
     },
     "execution_count": 95,
     "metadata": {},
     "output_type": "execute_result"
    }
   ],
   "source": [
    "#preview the data\n",
    "df_genres_gross.head(10)"
   ]
  },
  {
   "cell_type": "code",
   "execution_count": 96,
   "metadata": {},
   "outputs": [
    {
     "data": {
      "text/plain": [
       "(100.0, 1405400000.0)"
      ]
     },
     "execution_count": 96,
     "metadata": {},
     "output_type": "execute_result"
    }
   ],
   "source": [
    "#check the range and double check the above data\n",
    "check_range(df_gengross['total_gross'])"
   ]
  },
  {
   "cell_type": "markdown",
   "metadata": {},
   "source": [
    "### Visualization"
   ]
  },
  {
   "cell_type": "code",
   "execution_count": 97,
   "metadata": {},
   "outputs": [
    {
     "data": {
      "image/png": "[encoded data removed]",
      "text/plain": [
       "<Figure size 921.6x633.6 with 1 Axes>"
      ]
     },
     "metadata": {
      "needs_background": "light"
     },
     "output_type": "display_data"
    }
   ],
   "source": [
    "plt.bar(x=df_genres_gross['genres'][:10], height=df_genres_gross['mean_totgross'].head(10))\n",
    "plt.title('Top 10 Total Gross of Genres from bom')\n",
    "plt.xlabel('Genres')\n",
    "plt.ylabel('Mean Total Gross')\n",
    "plt.xticks(rotation=75)\n",
    "plt.show()"
   ]
  },
  {
   "cell_type": "markdown",
   "metadata": {},
   "source": [
    "### Best genre in gross(total = domestic+foreign) from tn"
   ]
  },
  {
   "cell_type": "code",
   "execution_count": 98,
   "metadata": {},
   "outputs": [
    {
     "data": {
      "text/html": [
       "<div>\n",
       "<style scoped>\n",
       "    .dataframe tbody tr th:only-of-type {\n",
       "        vertical-align: middle;\n",
       "    }\n",
       "\n",
       "    .dataframe tbody tr th {\n",
       "        vertical-align: top;\n",
       "    }\n",
       "\n",
       "    .dataframe thead th {\n",
       "        text-align: right;\n",
       "    }\n",
       "</style>\n",
       "<table border=\"1\" class=\"dataframe\">\n",
       "  <thead>\n",
       "    <tr style=\"text-align: right;\">\n",
       "      <th></th>\n",
       "      <th>release_date</th>\n",
       "      <th>movie</th>\n",
       "      <th>production_budget</th>\n",
       "      <th>domestic_gross</th>\n",
       "      <th>worldwide_gross</th>\n",
       "      <th>total_gross</th>\n",
       "      <th>count</th>\n",
       "    </tr>\n",
       "  </thead>\n",
       "  <tbody>\n",
       "    <tr>\n",
       "      <th>0</th>\n",
       "      <td>2009</td>\n",
       "      <td>Avatar</td>\n",
       "      <td>425000000.0</td>\n",
       "      <td>760507625.0</td>\n",
       "      <td>2.776345e+09</td>\n",
       "      <td>3.536853e+09</td>\n",
       "      <td>1</td>\n",
       "    </tr>\n",
       "    <tr>\n",
       "      <th>1</th>\n",
       "      <td>2011</td>\n",
       "      <td>Pirates of the Caribbean: On Stranger Tides</td>\n",
       "      <td>410600000.0</td>\n",
       "      <td>241063875.0</td>\n",
       "      <td>1.045664e+09</td>\n",
       "      <td>1.286728e+09</td>\n",
       "      <td>1</td>\n",
       "    </tr>\n",
       "    <tr>\n",
       "      <th>2</th>\n",
       "      <td>2019</td>\n",
       "      <td>Dark Phoenix</td>\n",
       "      <td>350000000.0</td>\n",
       "      <td>42762350.0</td>\n",
       "      <td>1.497624e+08</td>\n",
       "      <td>1.925247e+08</td>\n",
       "      <td>1</td>\n",
       "    </tr>\n",
       "    <tr>\n",
       "      <th>3</th>\n",
       "      <td>2015</td>\n",
       "      <td>Avengers: Age of Ultron</td>\n",
       "      <td>330600000.0</td>\n",
       "      <td>459005868.0</td>\n",
       "      <td>1.403014e+09</td>\n",
       "      <td>1.862020e+09</td>\n",
       "      <td>1</td>\n",
       "    </tr>\n",
       "    <tr>\n",
       "      <th>4</th>\n",
       "      <td>2017</td>\n",
       "      <td>Star Wars Ep. VIII: The Last Jedi</td>\n",
       "      <td>317000000.0</td>\n",
       "      <td>620181382.0</td>\n",
       "      <td>1.316722e+09</td>\n",
       "      <td>1.936903e+09</td>\n",
       "      <td>1</td>\n",
       "    </tr>\n",
       "  </tbody>\n",
       "</table>\n",
       "</div>"
      ],
      "text/plain": [
       "   release_date                                        movie  \\\n",
       "0          2009                                       Avatar   \n",
       "1          2011  Pirates of the Caribbean: On Stranger Tides   \n",
       "2          2019                                 Dark Phoenix   \n",
       "3          2015                      Avengers: Age of Ultron   \n",
       "4          2017            Star Wars Ep. VIII: The Last Jedi   \n",
       "\n",
       "   production_budget  domestic_gross  worldwide_gross   total_gross  count  \n",
       "0        425000000.0     760507625.0     2.776345e+09  3.536853e+09      1  \n",
       "1        410600000.0     241063875.0     1.045664e+09  1.286728e+09      1  \n",
       "2        350000000.0      42762350.0     1.497624e+08  1.925247e+08      1  \n",
       "3        330600000.0     459005868.0     1.403014e+09  1.862020e+09      1  \n",
       "4        317000000.0     620181382.0     1.316722e+09  1.936903e+09      1  "
      ]
     },
     "execution_count": 98,
     "metadata": {},
     "output_type": "execute_result"
    }
   ],
   "source": [
    "#update the df with a total gross and count\n",
    "df_budget['total_gross'] = df_budget['domestic_gross'] + df_budget['worldwide_gross']\n",
    "df_budget['count'] = None\n",
    "df_budget['count'].fillna(1, inplace=True)\n",
    "df_budget.head()"
   ]
  },
  {
   "cell_type": "code",
   "execution_count": 99,
   "metadata": {},
   "outputs": [
    {
     "data": {
      "text/plain": [
       "(3133, 12)"
      ]
     },
     "execution_count": 99,
     "metadata": {},
     "output_type": "execute_result"
    }
   ],
   "source": [
    "df_gengross2 = df_basics.set_index('primary_title').join(df_budget.set_index('movie'), how='inner')\n",
    "df_gengross2.shape"
   ]
  },
  {
   "cell_type": "code",
   "execution_count": 100,
   "metadata": {},
   "outputs": [],
   "source": [
    "df_gengross2.reset_index(inplace=True)\n",
    "df_gengross2.drop(columns=['index','level_0', 'genres'], inplace=True)\n",
    "df_gengross2['tconst'].drop_duplicates(inplace=True)"
   ]
  },
  {
   "cell_type": "code",
   "execution_count": 101,
   "metadata": {},
   "outputs": [
    {
     "data": {
      "text/html": [
       "<div>\n",
       "<style scoped>\n",
       "    .dataframe tbody tr th:only-of-type {\n",
       "        vertical-align: middle;\n",
       "    }\n",
       "\n",
       "    .dataframe tbody tr th {\n",
       "        vertical-align: top;\n",
       "    }\n",
       "\n",
       "    .dataframe thead th {\n",
       "        text-align: right;\n",
       "    }\n",
       "</style>\n",
       "<table border=\"1\" class=\"dataframe\">\n",
       "  <thead>\n",
       "    <tr style=\"text-align: right;\">\n",
       "      <th></th>\n",
       "      <th>tconst</th>\n",
       "      <th>original_title</th>\n",
       "      <th>start_year</th>\n",
       "      <th>runtime_minutes</th>\n",
       "      <th>release_date</th>\n",
       "      <th>production_budget</th>\n",
       "      <th>domestic_gross</th>\n",
       "      <th>worldwide_gross</th>\n",
       "      <th>total_gross</th>\n",
       "      <th>count</th>\n",
       "    </tr>\n",
       "  </thead>\n",
       "  <tbody>\n",
       "    <tr>\n",
       "      <th>0</th>\n",
       "      <td>tt3526286</td>\n",
       "      <td>#Horror</td>\n",
       "      <td>2015</td>\n",
       "      <td>101.0</td>\n",
       "      <td>2015</td>\n",
       "      <td>1500000.0</td>\n",
       "      <td>0.0</td>\n",
       "      <td>0.0</td>\n",
       "      <td>0.0</td>\n",
       "      <td>1</td>\n",
       "    </tr>\n",
       "    <tr>\n",
       "      <th>1</th>\n",
       "      <td>tt1179933</td>\n",
       "      <td>10 Cloverfield Lane</td>\n",
       "      <td>2016</td>\n",
       "      <td>103.0</td>\n",
       "      <td>2016</td>\n",
       "      <td>5000000.0</td>\n",
       "      <td>72082999.0</td>\n",
       "      <td>108286422.0</td>\n",
       "      <td>180369421.0</td>\n",
       "      <td>1</td>\n",
       "    </tr>\n",
       "    <tr>\n",
       "      <th>2</th>\n",
       "      <td>tt3453052</td>\n",
       "      <td>10 Days in a Madhouse</td>\n",
       "      <td>2015</td>\n",
       "      <td>111.0</td>\n",
       "      <td>2015</td>\n",
       "      <td>12000000.0</td>\n",
       "      <td>14616.0</td>\n",
       "      <td>14616.0</td>\n",
       "      <td>29232.0</td>\n",
       "      <td>1</td>\n",
       "    </tr>\n",
       "    <tr>\n",
       "      <th>3</th>\n",
       "      <td>tt1413492</td>\n",
       "      <td>12 Strong</td>\n",
       "      <td>2018</td>\n",
       "      <td>130.0</td>\n",
       "      <td>2018</td>\n",
       "      <td>35000000.0</td>\n",
       "      <td>45819713.0</td>\n",
       "      <td>71118378.0</td>\n",
       "      <td>116938091.0</td>\n",
       "      <td>1</td>\n",
       "    </tr>\n",
       "    <tr>\n",
       "      <th>4</th>\n",
       "      <td>tt2024544</td>\n",
       "      <td>12 Years a Slave</td>\n",
       "      <td>2013</td>\n",
       "      <td>134.0</td>\n",
       "      <td>2013</td>\n",
       "      <td>20000000.0</td>\n",
       "      <td>56671993.0</td>\n",
       "      <td>181025343.0</td>\n",
       "      <td>237697336.0</td>\n",
       "      <td>1</td>\n",
       "    </tr>\n",
       "  </tbody>\n",
       "</table>\n",
       "</div>"
      ],
      "text/plain": [
       "      tconst         original_title  start_year  runtime_minutes  \\\n",
       "0  tt3526286                #Horror        2015            101.0   \n",
       "1  tt1179933    10 Cloverfield Lane        2016            103.0   \n",
       "2  tt3453052  10 Days in a Madhouse        2015            111.0   \n",
       "3  tt1413492              12 Strong        2018            130.0   \n",
       "4  tt2024544       12 Years a Slave        2013            134.0   \n",
       "\n",
       "   release_date  production_budget  domestic_gross  worldwide_gross  \\\n",
       "0          2015          1500000.0             0.0              0.0   \n",
       "1          2016          5000000.0      72082999.0      108286422.0   \n",
       "2          2015         12000000.0         14616.0          14616.0   \n",
       "3          2018         35000000.0      45819713.0       71118378.0   \n",
       "4          2013         20000000.0      56671993.0      181025343.0   \n",
       "\n",
       "   total_gross  count  \n",
       "0          0.0      1  \n",
       "1  180369421.0      1  \n",
       "2      29232.0      1  \n",
       "3  116938091.0      1  \n",
       "4  237697336.0      1  "
      ]
     },
     "execution_count": 101,
     "metadata": {},
     "output_type": "execute_result"
    }
   ],
   "source": [
    "df_gengross2.head()"
   ]
  },
  {
   "cell_type": "code",
   "execution_count": 102,
   "metadata": {},
   "outputs": [
    {
     "data": {
      "text/plain": [
       "137"
      ]
     },
     "execution_count": 102,
     "metadata": {},
     "output_type": "execute_result"
    }
   ],
   "source": [
    "#There are some duplicated values after join\n",
    "df_gengross2.iloc[:, [1,2,5,6,7,8]].duplicated().sum()"
   ]
  },
  {
   "cell_type": "code",
   "execution_count": 103,
   "metadata": {},
   "outputs": [],
   "source": [
    "df_gengross2.drop(df_gengross2[df_gengross2.iloc[:, [1,2,5,6,7,8]].duplicated()].index, inplace=True)"
   ]
  },
  {
   "cell_type": "code",
   "execution_count": 104,
   "metadata": {},
   "outputs": [
    {
     "data": {
      "text/plain": [
       "(2996, 10)"
      ]
     },
     "execution_count": 104,
     "metadata": {},
     "output_type": "execute_result"
    }
   ],
   "source": [
    "df_gengross2.shape"
   ]
  },
  {
   "cell_type": "code",
   "execution_count": 105,
   "metadata": {},
   "outputs": [
    {
     "data": {
      "text/html": [
       "<div>\n",
       "<style scoped>\n",
       "    .dataframe tbody tr th:only-of-type {\n",
       "        vertical-align: middle;\n",
       "    }\n",
       "\n",
       "    .dataframe tbody tr th {\n",
       "        vertical-align: top;\n",
       "    }\n",
       "\n",
       "    .dataframe thead th {\n",
       "        text-align: right;\n",
       "    }\n",
       "</style>\n",
       "<table border=\"1\" class=\"dataframe\">\n",
       "  <thead>\n",
       "    <tr style=\"text-align: right;\">\n",
       "      <th></th>\n",
       "      <th>start_year</th>\n",
       "      <th>runtime_minutes</th>\n",
       "      <th>release_date</th>\n",
       "      <th>production_budget</th>\n",
       "      <th>domestic_gross</th>\n",
       "      <th>worldwide_gross</th>\n",
       "      <th>total_gross</th>\n",
       "      <th>count</th>\n",
       "      <th>Adult</th>\n",
       "      <th>Adventure</th>\n",
       "      <th>...</th>\n",
       "      <th>News</th>\n",
       "      <th>Reality-TV</th>\n",
       "      <th>Romance</th>\n",
       "      <th>Sci-Fi</th>\n",
       "      <th>Short</th>\n",
       "      <th>Sport</th>\n",
       "      <th>Talk-Show</th>\n",
       "      <th>Thriller</th>\n",
       "      <th>War</th>\n",
       "      <th>Western</th>\n",
       "    </tr>\n",
       "    <tr>\n",
       "      <th>Action</th>\n",
       "      <th></th>\n",
       "      <th></th>\n",
       "      <th></th>\n",
       "      <th></th>\n",
       "      <th></th>\n",
       "      <th></th>\n",
       "      <th></th>\n",
       "      <th></th>\n",
       "      <th></th>\n",
       "      <th></th>\n",
       "      <th></th>\n",
       "      <th></th>\n",
       "      <th></th>\n",
       "      <th></th>\n",
       "      <th></th>\n",
       "      <th></th>\n",
       "      <th></th>\n",
       "      <th></th>\n",
       "      <th></th>\n",
       "      <th></th>\n",
       "      <th></th>\n",
       "    </tr>\n",
       "  </thead>\n",
       "  <tbody>\n",
       "    <tr>\n",
       "      <th>0</th>\n",
       "      <td>4817559</td>\n",
       "      <td>228594.0</td>\n",
       "      <td>4806652</td>\n",
       "      <td>6.332136e+10</td>\n",
       "      <td>8.412859e+10</td>\n",
       "      <td>1.857520e+11</td>\n",
       "      <td>2.698806e+11</td>\n",
       "      <td>2392</td>\n",
       "      <td>0</td>\n",
       "      <td>223</td>\n",
       "      <td>...</td>\n",
       "      <td>5</td>\n",
       "      <td>0</td>\n",
       "      <td>314</td>\n",
       "      <td>95</td>\n",
       "      <td>0</td>\n",
       "      <td>55</td>\n",
       "      <td>0</td>\n",
       "      <td>379</td>\n",
       "      <td>38</td>\n",
       "      <td>12</td>\n",
       "    </tr>\n",
       "    <tr>\n",
       "      <th>1</th>\n",
       "      <td>1216496</td>\n",
       "      <td>66081.0</td>\n",
       "      <td>1215311</td>\n",
       "      <td>4.056194e+10</td>\n",
       "      <td>4.313618e+10</td>\n",
       "      <td>1.169694e+11</td>\n",
       "      <td>1.601056e+11</td>\n",
       "      <td>604</td>\n",
       "      <td>0</td>\n",
       "      <td>222</td>\n",
       "      <td>...</td>\n",
       "      <td>0</td>\n",
       "      <td>0</td>\n",
       "      <td>17</td>\n",
       "      <td>105</td>\n",
       "      <td>0</td>\n",
       "      <td>9</td>\n",
       "      <td>0</td>\n",
       "      <td>123</td>\n",
       "      <td>7</td>\n",
       "      <td>6</td>\n",
       "    </tr>\n",
       "  </tbody>\n",
       "</table>\n",
       "<p>2 rows × 34 columns</p>\n",
       "</div>"
      ],
      "text/plain": [
       "        start_year  runtime_minutes  release_date  production_budget  \\\n",
       "Action                                                                 \n",
       "0          4817559         228594.0       4806652       6.332136e+10   \n",
       "1          1216496          66081.0       1215311       4.056194e+10   \n",
       "\n",
       "        domestic_gross  worldwide_gross   total_gross  count  Adult  \\\n",
       "Action                                                                \n",
       "0         8.412859e+10     1.857520e+11  2.698806e+11   2392      0   \n",
       "1         4.313618e+10     1.169694e+11  1.601056e+11    604      0   \n",
       "\n",
       "        Adventure  ...  News  Reality-TV  Romance  Sci-Fi  Short  Sport  \\\n",
       "Action             ...                                                    \n",
       "0             223  ...     5           0      314      95      0     55   \n",
       "1             222  ...     0           0       17     105      0      9   \n",
       "\n",
       "        Talk-Show  Thriller  War  Western  \n",
       "Action                                     \n",
       "0               0       379   38       12  \n",
       "1               0       123    7        6  \n",
       "\n",
       "[2 rows x 34 columns]"
      ]
     },
     "execution_count": 105,
     "metadata": {},
     "output_type": "execute_result"
    }
   ],
   "source": [
    "#Similar as rating part, give an example here to check\n",
    "df_gengross2.set_index('tconst').join(df_genres, how='inner').groupby('Action').sum()"
   ]
  },
  {
   "cell_type": "code",
   "execution_count": 106,
   "metadata": {},
   "outputs": [],
   "source": [
    "#Make a mean_totgross function for calculating mean total gross\n",
    "def mean_totgross2(genres):\n",
    "    return (df_gengross2.set_index('tconst').join(df_genres, how='inner').groupby(genres).sum()['total_gross'][1] / \n",
    "            df_gengross2.set_index('tconst').join(df_genres, how='inner').groupby(genres).sum()['count'][1])"
   ]
  },
  {
   "cell_type": "code",
   "execution_count": 107,
   "metadata": {},
   "outputs": [
    {
     "name": "stdout",
     "output_type": "stream",
     "text": [
      "There is no Adult movies after inner join\n",
      "There is no Game-Show movies after inner join\n",
      "There is no Reality-TV movies after inner join\n",
      "There is no Short movies after inner join\n",
      "There is no Talk-Show movies after inner join\n"
     ]
    }
   ],
   "source": [
    "#Make a dictionary to store the genres and total gross, \n",
    "#throw an exception that some genres having no movies after inner join\n",
    "genres = []\n",
    "totgross = []\n",
    "for i in df_genres.columns:\n",
    "    try: \n",
    "        totgross.append(mean_totgross2(i))\n",
    "        genres.append(i)\n",
    "    except:\n",
    "        print(\"There is no \" + i + \" movies after inner join\")\n",
    "dic_gross = {'genres':genres, 'mean_totgross':totgross}"
   ]
  },
  {
   "cell_type": "code",
   "execution_count": 108,
   "metadata": {},
   "outputs": [],
   "source": [
    "#Dictionary to df and sorting\n",
    "df_genres_gross2 = pd.DataFrame.from_dict(dic_gross)\n",
    "df_genres_gross2.sort_values('mean_totgross', ascending=False, inplace=True)"
   ]
  },
  {
   "cell_type": "code",
   "execution_count": 109,
   "metadata": {},
   "outputs": [
    {
     "data": {
      "text/html": [
       "<div>\n",
       "<style scoped>\n",
       "    .dataframe tbody tr th:only-of-type {\n",
       "        vertical-align: middle;\n",
       "    }\n",
       "\n",
       "    .dataframe tbody tr th {\n",
       "        vertical-align: top;\n",
       "    }\n",
       "\n",
       "    .dataframe thead th {\n",
       "        text-align: right;\n",
       "    }\n",
       "</style>\n",
       "<table border=\"1\" class=\"dataframe\">\n",
       "  <thead>\n",
       "    <tr style=\"text-align: right;\">\n",
       "      <th></th>\n",
       "      <th>genres</th>\n",
       "      <th>mean_totgross</th>\n",
       "    </tr>\n",
       "  </thead>\n",
       "  <tbody>\n",
       "    <tr>\n",
       "      <th>2</th>\n",
       "      <td>Animation</td>\n",
       "      <td>4.394062e+08</td>\n",
       "    </tr>\n",
       "    <tr>\n",
       "      <th>1</th>\n",
       "      <td>Adventure</td>\n",
       "      <td>3.976234e+08</td>\n",
       "    </tr>\n",
       "    <tr>\n",
       "      <th>17</th>\n",
       "      <td>Sci-Fi</td>\n",
       "      <td>3.416897e+08</td>\n",
       "    </tr>\n",
       "    <tr>\n",
       "      <th>13</th>\n",
       "      <td>Musical</td>\n",
       "      <td>2.940105e+08</td>\n",
       "    </tr>\n",
       "    <tr>\n",
       "      <th>9</th>\n",
       "      <td>Fantasy</td>\n",
       "      <td>2.879725e+08</td>\n",
       "    </tr>\n",
       "    <tr>\n",
       "      <th>0</th>\n",
       "      <td>Action</td>\n",
       "      <td>2.650756e+08</td>\n",
       "    </tr>\n",
       "    <tr>\n",
       "      <th>8</th>\n",
       "      <td>Family</td>\n",
       "      <td>2.281968e+08</td>\n",
       "    </tr>\n",
       "    <tr>\n",
       "      <th>4</th>\n",
       "      <td>Comedy</td>\n",
       "      <td>1.524296e+08</td>\n",
       "    </tr>\n",
       "    <tr>\n",
       "      <th>19</th>\n",
       "      <td>Thriller</td>\n",
       "      <td>1.146679e+08</td>\n",
       "    </tr>\n",
       "    <tr>\n",
       "      <th>21</th>\n",
       "      <td>Western</td>\n",
       "      <td>1.140367e+08</td>\n",
       "    </tr>\n",
       "  </tbody>\n",
       "</table>\n",
       "</div>"
      ],
      "text/plain": [
       "       genres  mean_totgross\n",
       "2   Animation   4.394062e+08\n",
       "1   Adventure   3.976234e+08\n",
       "17     Sci-Fi   3.416897e+08\n",
       "13    Musical   2.940105e+08\n",
       "9     Fantasy   2.879725e+08\n",
       "0      Action   2.650756e+08\n",
       "8      Family   2.281968e+08\n",
       "4      Comedy   1.524296e+08\n",
       "19   Thriller   1.146679e+08\n",
       "21    Western   1.140367e+08"
      ]
     },
     "execution_count": 109,
     "metadata": {},
     "output_type": "execute_result"
    }
   ],
   "source": [
    "#preview the data\n",
    "df_genres_gross2.head(10)"
   ]
  },
  {
   "cell_type": "code",
   "execution_count": 110,
   "metadata": {},
   "outputs": [
    {
     "data": {
      "text/plain": [
       "(100.0, 1405400000.0)"
      ]
     },
     "execution_count": 110,
     "metadata": {},
     "output_type": "execute_result"
    }
   ],
   "source": [
    "#check the range and double check the above data\n",
    "check_range(df_gengross['total_gross'])"
   ]
  },
  {
   "cell_type": "markdown",
   "metadata": {},
   "source": [
    "### Visualization"
   ]
  },
  {
   "cell_type": "code",
   "execution_count": 111,
   "metadata": {},
   "outputs": [
    {
     "data": {
      "image/png": "[encoded data removed]",
      "text/plain": [
       "<Figure size 921.6x633.6 with 1 Axes>"
      ]
     },
     "metadata": {
      "needs_background": "light"
     },
     "output_type": "display_data"
    }
   ],
   "source": [
    "plt.bar(x=df_genres_gross2['genres'][:10], height=df_genres_gross2['mean_totgross'].head(10))\n",
    "plt.title('Top 10 Total Gross of Genres from tn')\n",
    "plt.xlabel('Genres')\n",
    "plt.ylabel('Mean Total Gross')\n",
    "plt.xticks(rotation=75)\n",
    "plt.show()\n"
   ]
  },
  {
   "cell_type": "markdown",
   "metadata": {},
   "source": [
    "### Subplot"
   ]
  },
  {
   "cell_type": "markdown",
   "metadata": {},
   "source": [
    "To define the best genre movie, we have two factors, rating and gross. Therefore, I am here to use subplot to comapre them together."
   ]
  },
  {
   "cell_type": "code",
   "execution_count": 112,
   "metadata": {},
   "outputs": [],
   "source": [
    "df_mean_rating.set_index('genres', inplace=True)\n",
    "df_genres_gross.set_index('genres',inplace=True)\n",
    "df_genres_gross2.set_index('genres', inplace=True)                         "
   ]
  },
  {
   "cell_type": "code",
   "execution_count": 113,
   "metadata": {},
   "outputs": [
    {
     "data": {
      "image/png": "[encoded data removed]",
      "text/plain": [
       "<Figure size 1728x1152 with 3 Axes>"
      ]
     },
     "metadata": {
      "needs_background": "light"
     },
     "output_type": "display_data"
    }
   ],
   "source": [
    "#Make a subplot\n",
    "fig, (ax1, ax2, ax3) =  plt.subplots(ncols=3, nrows=1, figsize=(24,16)) \n",
    "#ax1 for 'Top 10 Total Gross of Genres from bom'\n",
    "df_genres_gross['mean_totgross'].head(10).plot.bar(ax=ax1)\n",
    "ax1.set_title('Top 10 Total Gross of Genres from bom')\n",
    "ax1.set_ylabel('Mean Total Gross')\n",
    "#ax2 for 'Top 10 Mean Rating of Genres'\n",
    "df_mean_rating['mean_rating'].head(10).plot.bar(ax=ax2)\n",
    "ax2.set_title('Top 10 Mean Rating of Genres')\n",
    "ax2.set_ylabel('Mean Rating')\n",
    "#ax3 for 'Top 10 Total Gross of Genres from tn'\n",
    "df_genres_gross2['mean_totgross'].head(10).plot.bar(ax=ax3)\n",
    "ax3.set_title('Top 10 Total Gross of Genres from tn')\n",
    "ax3.set_ylabel('Mean Total Gross')\n",
    "plt.show()"
   ]
  },
  {
   "cell_type": "markdown",
   "metadata": {},
   "source": [
    "## Gross vs. Budget"
   ]
  },
  {
   "cell_type": "code",
   "execution_count": 114,
   "metadata": {},
   "outputs": [
    {
     "data": {
      "text/html": [
       "<div>\n",
       "<style scoped>\n",
       "    .dataframe tbody tr th:only-of-type {\n",
       "        vertical-align: middle;\n",
       "    }\n",
       "\n",
       "    .dataframe tbody tr th {\n",
       "        vertical-align: top;\n",
       "    }\n",
       "\n",
       "    .dataframe thead th {\n",
       "        text-align: right;\n",
       "    }\n",
       "</style>\n",
       "<table border=\"1\" class=\"dataframe\">\n",
       "  <thead>\n",
       "    <tr style=\"text-align: right;\">\n",
       "      <th></th>\n",
       "      <th>release_date</th>\n",
       "      <th>movie</th>\n",
       "      <th>production_budget</th>\n",
       "      <th>domestic_gross</th>\n",
       "      <th>worldwide_gross</th>\n",
       "      <th>total_gross</th>\n",
       "      <th>count</th>\n",
       "    </tr>\n",
       "  </thead>\n",
       "  <tbody>\n",
       "    <tr>\n",
       "      <th>0</th>\n",
       "      <td>2009</td>\n",
       "      <td>Avatar</td>\n",
       "      <td>425000000.0</td>\n",
       "      <td>760507625.0</td>\n",
       "      <td>2.776345e+09</td>\n",
       "      <td>3.536853e+09</td>\n",
       "      <td>1</td>\n",
       "    </tr>\n",
       "    <tr>\n",
       "      <th>1</th>\n",
       "      <td>2011</td>\n",
       "      <td>Pirates of the Caribbean: On Stranger Tides</td>\n",
       "      <td>410600000.0</td>\n",
       "      <td>241063875.0</td>\n",
       "      <td>1.045664e+09</td>\n",
       "      <td>1.286728e+09</td>\n",
       "      <td>1</td>\n",
       "    </tr>\n",
       "    <tr>\n",
       "      <th>2</th>\n",
       "      <td>2019</td>\n",
       "      <td>Dark Phoenix</td>\n",
       "      <td>350000000.0</td>\n",
       "      <td>42762350.0</td>\n",
       "      <td>1.497624e+08</td>\n",
       "      <td>1.925247e+08</td>\n",
       "      <td>1</td>\n",
       "    </tr>\n",
       "    <tr>\n",
       "      <th>3</th>\n",
       "      <td>2015</td>\n",
       "      <td>Avengers: Age of Ultron</td>\n",
       "      <td>330600000.0</td>\n",
       "      <td>459005868.0</td>\n",
       "      <td>1.403014e+09</td>\n",
       "      <td>1.862020e+09</td>\n",
       "      <td>1</td>\n",
       "    </tr>\n",
       "    <tr>\n",
       "      <th>4</th>\n",
       "      <td>2017</td>\n",
       "      <td>Star Wars Ep. VIII: The Last Jedi</td>\n",
       "      <td>317000000.0</td>\n",
       "      <td>620181382.0</td>\n",
       "      <td>1.316722e+09</td>\n",
       "      <td>1.936903e+09</td>\n",
       "      <td>1</td>\n",
       "    </tr>\n",
       "  </tbody>\n",
       "</table>\n",
       "</div>"
      ],
      "text/plain": [
       "   release_date                                        movie  \\\n",
       "0          2009                                       Avatar   \n",
       "1          2011  Pirates of the Caribbean: On Stranger Tides   \n",
       "2          2019                                 Dark Phoenix   \n",
       "3          2015                      Avengers: Age of Ultron   \n",
       "4          2017            Star Wars Ep. VIII: The Last Jedi   \n",
       "\n",
       "   production_budget  domestic_gross  worldwide_gross   total_gross  count  \n",
       "0        425000000.0     760507625.0     2.776345e+09  3.536853e+09      1  \n",
       "1        410600000.0     241063875.0     1.045664e+09  1.286728e+09      1  \n",
       "2        350000000.0      42762350.0     1.497624e+08  1.925247e+08      1  \n",
       "3        330600000.0     459005868.0     1.403014e+09  1.862020e+09      1  \n",
       "4        317000000.0     620181382.0     1.316722e+09  1.936903e+09      1  "
      ]
     },
     "execution_count": 114,
     "metadata": {},
     "output_type": "execute_result"
    }
   ],
   "source": [
    "df_budget.head()"
   ]
  },
  {
   "cell_type": "code",
   "execution_count": 115,
   "metadata": {},
   "outputs": [
    {
     "data": {
      "image/png": "[encoded data removed]",
      "text/plain": [
       "<Figure size 921.6x633.6 with 1 Axes>"
      ]
     },
     "metadata": {
      "needs_background": "light"
     },
     "output_type": "display_data"
    }
   ],
   "source": [
    "plt.scatter(x=df_budget['production_budget'], y=df_budget['total_gross'])\n",
    "plt.title('Relation between budget and gross')\n",
    "plt.xlabel('production_budget')\n",
    "plt.ylabel('total_gross')\n",
    "z = np.polyfit(x=df_budget['production_budget'], y=df_budget['total_gross'],deg=1)\n",
    "p = np.poly1d(z)\n",
    "plt.plot(df_budget['production_budget'],p(df_budget['production_budget']),\"r--\")\n",
    "plt.show()"
   ]
  },
  {
   "cell_type": "code",
   "execution_count": 116,
   "metadata": {},
   "outputs": [
    {
     "data": {
      "text/plain": [
       "array([[1.        , 0.74196702],\n",
       "       [0.74196702, 1.        ]])"
      ]
     },
     "execution_count": 116,
     "metadata": {},
     "output_type": "execute_result"
    }
   ],
   "source": [
    "np.corrcoef(x=df_budget['production_budget'], y=df_budget['total_gross'])"
   ]
  },
  {
   "cell_type": "markdown",
   "metadata": {},
   "source": [
    "### corrcoef for each genres"
   ]
  },
  {
   "cell_type": "code",
   "execution_count": 117,
   "metadata": {},
   "outputs": [
    {
     "data": {
      "text/html": [
       "<div>\n",
       "<style scoped>\n",
       "    .dataframe tbody tr th:only-of-type {\n",
       "        vertical-align: middle;\n",
       "    }\n",
       "\n",
       "    .dataframe tbody tr th {\n",
       "        vertical-align: top;\n",
       "    }\n",
       "\n",
       "    .dataframe thead th {\n",
       "        text-align: right;\n",
       "    }\n",
       "</style>\n",
       "<table border=\"1\" class=\"dataframe\">\n",
       "  <thead>\n",
       "    <tr style=\"text-align: right;\">\n",
       "      <th></th>\n",
       "      <th>tconst</th>\n",
       "      <th>original_title</th>\n",
       "      <th>start_year</th>\n",
       "      <th>runtime_minutes</th>\n",
       "      <th>release_date</th>\n",
       "      <th>production_budget</th>\n",
       "      <th>domestic_gross</th>\n",
       "      <th>worldwide_gross</th>\n",
       "      <th>total_gross</th>\n",
       "      <th>count</th>\n",
       "    </tr>\n",
       "  </thead>\n",
       "  <tbody>\n",
       "    <tr>\n",
       "      <th>0</th>\n",
       "      <td>tt3526286</td>\n",
       "      <td>#Horror</td>\n",
       "      <td>2015</td>\n",
       "      <td>101.0</td>\n",
       "      <td>2015</td>\n",
       "      <td>1500000.0</td>\n",
       "      <td>0.0</td>\n",
       "      <td>0.0</td>\n",
       "      <td>0.0</td>\n",
       "      <td>1</td>\n",
       "    </tr>\n",
       "    <tr>\n",
       "      <th>1</th>\n",
       "      <td>tt1179933</td>\n",
       "      <td>10 Cloverfield Lane</td>\n",
       "      <td>2016</td>\n",
       "      <td>103.0</td>\n",
       "      <td>2016</td>\n",
       "      <td>5000000.0</td>\n",
       "      <td>72082999.0</td>\n",
       "      <td>108286422.0</td>\n",
       "      <td>180369421.0</td>\n",
       "      <td>1</td>\n",
       "    </tr>\n",
       "    <tr>\n",
       "      <th>2</th>\n",
       "      <td>tt3453052</td>\n",
       "      <td>10 Days in a Madhouse</td>\n",
       "      <td>2015</td>\n",
       "      <td>111.0</td>\n",
       "      <td>2015</td>\n",
       "      <td>12000000.0</td>\n",
       "      <td>14616.0</td>\n",
       "      <td>14616.0</td>\n",
       "      <td>29232.0</td>\n",
       "      <td>1</td>\n",
       "    </tr>\n",
       "    <tr>\n",
       "      <th>3</th>\n",
       "      <td>tt1413492</td>\n",
       "      <td>12 Strong</td>\n",
       "      <td>2018</td>\n",
       "      <td>130.0</td>\n",
       "      <td>2018</td>\n",
       "      <td>35000000.0</td>\n",
       "      <td>45819713.0</td>\n",
       "      <td>71118378.0</td>\n",
       "      <td>116938091.0</td>\n",
       "      <td>1</td>\n",
       "    </tr>\n",
       "    <tr>\n",
       "      <th>4</th>\n",
       "      <td>tt2024544</td>\n",
       "      <td>12 Years a Slave</td>\n",
       "      <td>2013</td>\n",
       "      <td>134.0</td>\n",
       "      <td>2013</td>\n",
       "      <td>20000000.0</td>\n",
       "      <td>56671993.0</td>\n",
       "      <td>181025343.0</td>\n",
       "      <td>237697336.0</td>\n",
       "      <td>1</td>\n",
       "    </tr>\n",
       "  </tbody>\n",
       "</table>\n",
       "</div>"
      ],
      "text/plain": [
       "      tconst         original_title  start_year  runtime_minutes  \\\n",
       "0  tt3526286                #Horror        2015            101.0   \n",
       "1  tt1179933    10 Cloverfield Lane        2016            103.0   \n",
       "2  tt3453052  10 Days in a Madhouse        2015            111.0   \n",
       "3  tt1413492              12 Strong        2018            130.0   \n",
       "4  tt2024544       12 Years a Slave        2013            134.0   \n",
       "\n",
       "   release_date  production_budget  domestic_gross  worldwide_gross  \\\n",
       "0          2015          1500000.0             0.0              0.0   \n",
       "1          2016          5000000.0      72082999.0      108286422.0   \n",
       "2          2015         12000000.0         14616.0          14616.0   \n",
       "3          2018         35000000.0      45819713.0       71118378.0   \n",
       "4          2013         20000000.0      56671993.0      181025343.0   \n",
       "\n",
       "   total_gross  count  \n",
       "0          0.0      1  \n",
       "1  180369421.0      1  \n",
       "2      29232.0      1  \n",
       "3  116938091.0      1  \n",
       "4  237697336.0      1  "
      ]
     },
     "execution_count": 117,
     "metadata": {},
     "output_type": "execute_result"
    }
   ],
   "source": [
    "#review the join table between budget and basics, will the column tconst to join with genres\n",
    "df_gengross2.head()"
   ]
  },
  {
   "cell_type": "code",
   "execution_count": 118,
   "metadata": {},
   "outputs": [],
   "source": [
    "df_gengross2.set_index('tconst', inplace=True)"
   ]
  },
  {
   "cell_type": "code",
   "execution_count": 119,
   "metadata": {},
   "outputs": [],
   "source": [
    "def find_corr(genres):\n",
    "    df_corr = df_gengross2.join(df_genres, how='inner').loc[\n",
    "        df_gengross2.join(df_genres, how='inner')[genres] == 1]\n",
    "    return np.corrcoef(x=df_corr['production_budget'], y=df_corr['total_gross'])[0][1]"
   ]
  },
  {
   "cell_type": "code",
   "execution_count": 120,
   "metadata": {},
   "outputs": [],
   "source": [
    "#Make a dictionary to store the genres and corr, \n",
    "#throw an exception that some genres having no movies after inner join\n",
    "genres = []\n",
    "corr = []\n",
    "#ignore the warnings\n",
    "with warnings.catch_warnings():\n",
    "    warnings.simplefilter(\"ignore\", category=RuntimeWarning)\n",
    "    for i in df_genres.columns:\n",
    "        try: \n",
    "            corr.append(find_corr(i))\n",
    "            genres.append(i)\n",
    "        except:\n",
    "            print(\"There is no \" + i + \" movies after inner join\")\n",
    "dic_corr = {'genres':genres, 'corr':corr}"
   ]
  },
  {
   "cell_type": "code",
   "execution_count": 121,
   "metadata": {},
   "outputs": [],
   "source": [
    "#Dictionary to df and sorting\n",
    "df_corr = pd.DataFrame.from_dict(dic_corr)\n",
    "df_corr.sort_values('corr', ascending=False, inplace=True)"
   ]
  },
  {
   "cell_type": "code",
   "execution_count": 122,
   "metadata": {},
   "outputs": [
    {
     "data": {
      "text/html": [
       "<div>\n",
       "<style scoped>\n",
       "    .dataframe tbody tr th:only-of-type {\n",
       "        vertical-align: middle;\n",
       "    }\n",
       "\n",
       "    .dataframe tbody tr th {\n",
       "        vertical-align: top;\n",
       "    }\n",
       "\n",
       "    .dataframe thead th {\n",
       "        text-align: right;\n",
       "    }\n",
       "</style>\n",
       "<table border=\"1\" class=\"dataframe\">\n",
       "  <thead>\n",
       "    <tr style=\"text-align: right;\">\n",
       "      <th></th>\n",
       "      <th>genres</th>\n",
       "      <th>corr</th>\n",
       "    </tr>\n",
       "  </thead>\n",
       "  <tbody>\n",
       "    <tr>\n",
       "      <th>17</th>\n",
       "      <td>News</td>\n",
       "      <td>0.928002</td>\n",
       "    </tr>\n",
       "    <tr>\n",
       "      <th>15</th>\n",
       "      <td>Musical</td>\n",
       "      <td>0.901655</td>\n",
       "    </tr>\n",
       "    <tr>\n",
       "      <th>20</th>\n",
       "      <td>Sci-Fi</td>\n",
       "      <td>0.786880</td>\n",
       "    </tr>\n",
       "    <tr>\n",
       "      <th>13</th>\n",
       "      <td>Horror</td>\n",
       "      <td>0.785489</td>\n",
       "    </tr>\n",
       "    <tr>\n",
       "      <th>25</th>\n",
       "      <td>War</td>\n",
       "      <td>0.777547</td>\n",
       "    </tr>\n",
       "    <tr>\n",
       "      <th>6</th>\n",
       "      <td>Crime</td>\n",
       "      <td>0.773461</td>\n",
       "    </tr>\n",
       "    <tr>\n",
       "      <th>24</th>\n",
       "      <td>Thriller</td>\n",
       "      <td>0.767988</td>\n",
       "    </tr>\n",
       "    <tr>\n",
       "      <th>0</th>\n",
       "      <td>Action</td>\n",
       "      <td>0.762663</td>\n",
       "    </tr>\n",
       "    <tr>\n",
       "      <th>7</th>\n",
       "      <td>Documentary</td>\n",
       "      <td>0.759246</td>\n",
       "    </tr>\n",
       "    <tr>\n",
       "      <th>22</th>\n",
       "      <td>Sport</td>\n",
       "      <td>0.755763</td>\n",
       "    </tr>\n",
       "  </tbody>\n",
       "</table>\n",
       "</div>"
      ],
      "text/plain": [
       "         genres      corr\n",
       "17         News  0.928002\n",
       "15      Musical  0.901655\n",
       "20       Sci-Fi  0.786880\n",
       "13       Horror  0.785489\n",
       "25          War  0.777547\n",
       "6         Crime  0.773461\n",
       "24     Thriller  0.767988\n",
       "0        Action  0.762663\n",
       "7   Documentary  0.759246\n",
       "22        Sport  0.755763"
      ]
     },
     "execution_count": 122,
     "metadata": {},
     "output_type": "execute_result"
    }
   ],
   "source": [
    "df_corr.head(10)"
   ]
  },
  {
   "cell_type": "code",
   "execution_count": 123,
   "metadata": {},
   "outputs": [
    {
     "data": {
      "text/html": [
       "<div>\n",
       "<style scoped>\n",
       "    .dataframe tbody tr th:only-of-type {\n",
       "        vertical-align: middle;\n",
       "    }\n",
       "\n",
       "    .dataframe tbody tr th {\n",
       "        vertical-align: top;\n",
       "    }\n",
       "\n",
       "    .dataframe thead th {\n",
       "        text-align: right;\n",
       "    }\n",
       "</style>\n",
       "<table border=\"1\" class=\"dataframe\">\n",
       "  <thead>\n",
       "    <tr style=\"text-align: right;\">\n",
       "      <th></th>\n",
       "      <th>genres</th>\n",
       "      <th>corr</th>\n",
       "    </tr>\n",
       "  </thead>\n",
       "  <tbody>\n",
       "    <tr>\n",
       "      <th>3</th>\n",
       "      <td>Animation</td>\n",
       "      <td>0.692486</td>\n",
       "    </tr>\n",
       "  </tbody>\n",
       "</table>\n",
       "</div>"
      ],
      "text/plain": [
       "      genres      corr\n",
       "3  Animation  0.692486"
      ]
     },
     "execution_count": 123,
     "metadata": {},
     "output_type": "execute_result"
    }
   ],
   "source": [
    "df_corr.loc[df_corr['genres']=='Animation']"
   ]
  },
  {
   "cell_type": "markdown",
   "metadata": {},
   "source": [
    "### Visualization"
   ]
  },
  {
   "cell_type": "code",
   "execution_count": 124,
   "metadata": {},
   "outputs": [
    {
     "data": {
      "image/png": "[encoded data removed]",
      "text/plain": [
       "<Figure size 921.6x633.6 with 1 Axes>"
      ]
     },
     "metadata": {
      "needs_background": "light"
     },
     "output_type": "display_data"
    }
   ],
   "source": [
    "plt.bar(x=df_corr['genres'][:10], height=df_corr['corr'].head(10))\n",
    "plt.title('Top 10 Relationship between budget and gross of Genres')\n",
    "plt.xlabel('Genres')\n",
    "plt.ylabel('correlation coefficient')\n",
    "plt.xticks(rotation=75)\n",
    "plt.show()"
   ]
  },
  {
   "cell_type": "markdown",
   "metadata": {},
   "source": [
    "### Which genre has the highest revenue(revenue = total gross - budget)?"
   ]
  },
  {
   "cell_type": "code",
   "execution_count": 125,
   "metadata": {},
   "outputs": [
    {
     "data": {
      "text/html": [
       "<div>\n",
       "<style scoped>\n",
       "    .dataframe tbody tr th:only-of-type {\n",
       "        vertical-align: middle;\n",
       "    }\n",
       "\n",
       "    .dataframe tbody tr th {\n",
       "        vertical-align: top;\n",
       "    }\n",
       "\n",
       "    .dataframe thead th {\n",
       "        text-align: right;\n",
       "    }\n",
       "</style>\n",
       "<table border=\"1\" class=\"dataframe\">\n",
       "  <thead>\n",
       "    <tr style=\"text-align: right;\">\n",
       "      <th></th>\n",
       "      <th>original_title</th>\n",
       "      <th>start_year</th>\n",
       "      <th>runtime_minutes</th>\n",
       "      <th>release_date</th>\n",
       "      <th>production_budget</th>\n",
       "      <th>domestic_gross</th>\n",
       "      <th>worldwide_gross</th>\n",
       "      <th>total_gross</th>\n",
       "      <th>count</th>\n",
       "    </tr>\n",
       "    <tr>\n",
       "      <th>tconst</th>\n",
       "      <th></th>\n",
       "      <th></th>\n",
       "      <th></th>\n",
       "      <th></th>\n",
       "      <th></th>\n",
       "      <th></th>\n",
       "      <th></th>\n",
       "      <th></th>\n",
       "      <th></th>\n",
       "    </tr>\n",
       "  </thead>\n",
       "  <tbody>\n",
       "    <tr>\n",
       "      <th>tt3526286</th>\n",
       "      <td>#Horror</td>\n",
       "      <td>2015</td>\n",
       "      <td>101.0</td>\n",
       "      <td>2015</td>\n",
       "      <td>1500000.0</td>\n",
       "      <td>0.0</td>\n",
       "      <td>0.0</td>\n",
       "      <td>0.0</td>\n",
       "      <td>1</td>\n",
       "    </tr>\n",
       "    <tr>\n",
       "      <th>tt1179933</th>\n",
       "      <td>10 Cloverfield Lane</td>\n",
       "      <td>2016</td>\n",
       "      <td>103.0</td>\n",
       "      <td>2016</td>\n",
       "      <td>5000000.0</td>\n",
       "      <td>72082999.0</td>\n",
       "      <td>108286422.0</td>\n",
       "      <td>180369421.0</td>\n",
       "      <td>1</td>\n",
       "    </tr>\n",
       "    <tr>\n",
       "      <th>tt3453052</th>\n",
       "      <td>10 Days in a Madhouse</td>\n",
       "      <td>2015</td>\n",
       "      <td>111.0</td>\n",
       "      <td>2015</td>\n",
       "      <td>12000000.0</td>\n",
       "      <td>14616.0</td>\n",
       "      <td>14616.0</td>\n",
       "      <td>29232.0</td>\n",
       "      <td>1</td>\n",
       "    </tr>\n",
       "    <tr>\n",
       "      <th>tt1413492</th>\n",
       "      <td>12 Strong</td>\n",
       "      <td>2018</td>\n",
       "      <td>130.0</td>\n",
       "      <td>2018</td>\n",
       "      <td>35000000.0</td>\n",
       "      <td>45819713.0</td>\n",
       "      <td>71118378.0</td>\n",
       "      <td>116938091.0</td>\n",
       "      <td>1</td>\n",
       "    </tr>\n",
       "    <tr>\n",
       "      <th>tt2024544</th>\n",
       "      <td>12 Years a Slave</td>\n",
       "      <td>2013</td>\n",
       "      <td>134.0</td>\n",
       "      <td>2013</td>\n",
       "      <td>20000000.0</td>\n",
       "      <td>56671993.0</td>\n",
       "      <td>181025343.0</td>\n",
       "      <td>237697336.0</td>\n",
       "      <td>1</td>\n",
       "    </tr>\n",
       "  </tbody>\n",
       "</table>\n",
       "</div>"
      ],
      "text/plain": [
       "                  original_title  start_year  runtime_minutes  release_date  \\\n",
       "tconst                                                                        \n",
       "tt3526286                #Horror        2015            101.0          2015   \n",
       "tt1179933    10 Cloverfield Lane        2016            103.0          2016   \n",
       "tt3453052  10 Days in a Madhouse        2015            111.0          2015   \n",
       "tt1413492              12 Strong        2018            130.0          2018   \n",
       "tt2024544       12 Years a Slave        2013            134.0          2013   \n",
       "\n",
       "           production_budget  domestic_gross  worldwide_gross  total_gross  \\\n",
       "tconst                                                                       \n",
       "tt3526286          1500000.0             0.0              0.0          0.0   \n",
       "tt1179933          5000000.0      72082999.0      108286422.0  180369421.0   \n",
       "tt3453052         12000000.0         14616.0          14616.0      29232.0   \n",
       "tt1413492         35000000.0      45819713.0       71118378.0  116938091.0   \n",
       "tt2024544         20000000.0      56671993.0      181025343.0  237697336.0   \n",
       "\n",
       "           count  \n",
       "tconst            \n",
       "tt3526286      1  \n",
       "tt1179933      1  \n",
       "tt3453052      1  \n",
       "tt1413492      1  \n",
       "tt2024544      1  "
      ]
     },
     "execution_count": 125,
     "metadata": {},
     "output_type": "execute_result"
    }
   ],
   "source": [
    "df_gengross2.head()"
   ]
  },
  {
   "cell_type": "code",
   "execution_count": 126,
   "metadata": {},
   "outputs": [
    {
     "data": {
      "text/plain": [
       "(-157475300.0, 3111852904.0)"
      ]
     },
     "execution_count": 126,
     "metadata": {},
     "output_type": "execute_result"
    }
   ],
   "source": [
    "#Update the df with revenue = total gross - budget\n",
    "df_gengross2['revenue'] = df_gengross2['total_gross'] - df_gengross2['production_budget']\n",
    "check_range(df_gengross2['revenue'])"
   ]
  },
  {
   "cell_type": "code",
   "execution_count": 127,
   "metadata": {},
   "outputs": [
    {
     "data": {
      "text/plain": [
       "0.1972630173564753"
      ]
     },
     "execution_count": 127,
     "metadata": {},
     "output_type": "execute_result"
    }
   ],
   "source": [
    "df_gengross2.iloc[:,[0,4,7]].duplicated().sum() / df_gengross2.shape[0]"
   ]
  },
  {
   "cell_type": "code",
   "execution_count": 128,
   "metadata": {},
   "outputs": [],
   "source": [
    "#Drop some duplicate after joinning beacause we join here using title\n",
    "df_gengross2.drop(df_gengross2[df_gengross2.iloc[:, [0,4,7]].duplicated()].index, inplace=True)"
   ]
  },
  {
   "cell_type": "code",
   "execution_count": 129,
   "metadata": {},
   "outputs": [
    {
     "data": {
      "text/html": [
       "<div>\n",
       "<style scoped>\n",
       "    .dataframe tbody tr th:only-of-type {\n",
       "        vertical-align: middle;\n",
       "    }\n",
       "\n",
       "    .dataframe tbody tr th {\n",
       "        vertical-align: top;\n",
       "    }\n",
       "\n",
       "    .dataframe thead th {\n",
       "        text-align: right;\n",
       "    }\n",
       "</style>\n",
       "<table border=\"1\" class=\"dataframe\">\n",
       "  <thead>\n",
       "    <tr style=\"text-align: right;\">\n",
       "      <th></th>\n",
       "      <th>original_title</th>\n",
       "      <th>start_year</th>\n",
       "      <th>runtime_minutes</th>\n",
       "      <th>release_date</th>\n",
       "      <th>production_budget</th>\n",
       "      <th>domestic_gross</th>\n",
       "      <th>worldwide_gross</th>\n",
       "      <th>total_gross</th>\n",
       "      <th>count</th>\n",
       "      <th>revenue</th>\n",
       "    </tr>\n",
       "    <tr>\n",
       "      <th>tconst</th>\n",
       "      <th></th>\n",
       "      <th></th>\n",
       "      <th></th>\n",
       "      <th></th>\n",
       "      <th></th>\n",
       "      <th></th>\n",
       "      <th></th>\n",
       "      <th></th>\n",
       "      <th></th>\n",
       "      <th></th>\n",
       "    </tr>\n",
       "  </thead>\n",
       "  <tbody>\n",
       "    <tr>\n",
       "      <th>tt6565702</th>\n",
       "      <td>Dark Phoenix</td>\n",
       "      <td>2019</td>\n",
       "      <td>113.0</td>\n",
       "      <td>2019</td>\n",
       "      <td>350000000.0</td>\n",
       "      <td>42762350.0</td>\n",
       "      <td>149762350.0</td>\n",
       "      <td>192524700.0</td>\n",
       "      <td>1</td>\n",
       "      <td>-157475300.0</td>\n",
       "    </tr>\n",
       "    <tr>\n",
       "      <th>tt2283336</th>\n",
       "      <td>Men in Black: International</td>\n",
       "      <td>2019</td>\n",
       "      <td>115.0</td>\n",
       "      <td>2019</td>\n",
       "      <td>110000000.0</td>\n",
       "      <td>3100000.0</td>\n",
       "      <td>3100000.0</td>\n",
       "      <td>6200000.0</td>\n",
       "      <td>1</td>\n",
       "      <td>-103800000.0</td>\n",
       "    </tr>\n",
       "    <tr>\n",
       "      <th>tt5519340</th>\n",
       "      <td>Bright</td>\n",
       "      <td>2017</td>\n",
       "      <td>117.0</td>\n",
       "      <td>2017</td>\n",
       "      <td>90000000.0</td>\n",
       "      <td>0.0</td>\n",
       "      <td>0.0</td>\n",
       "      <td>0.0</td>\n",
       "      <td>1</td>\n",
       "      <td>-90000000.0</td>\n",
       "    </tr>\n",
       "    <tr>\n",
       "      <th>tt1305591</th>\n",
       "      <td>Mars Needs Moms</td>\n",
       "      <td>2011</td>\n",
       "      <td>88.0</td>\n",
       "      <td>2011</td>\n",
       "      <td>150000000.0</td>\n",
       "      <td>21392758.0</td>\n",
       "      <td>39549758.0</td>\n",
       "      <td>60942516.0</td>\n",
       "      <td>1</td>\n",
       "      <td>-89057484.0</td>\n",
       "    </tr>\n",
       "    <tr>\n",
       "      <th>tt7232438</th>\n",
       "      <td>Puen Tee Raluek</td>\n",
       "      <td>2017</td>\n",
       "      <td>114.0</td>\n",
       "      <td>2017</td>\n",
       "      <td>90000000.0</td>\n",
       "      <td>8224288.0</td>\n",
       "      <td>10551417.0</td>\n",
       "      <td>18775705.0</td>\n",
       "      <td>1</td>\n",
       "      <td>-71224295.0</td>\n",
       "    </tr>\n",
       "    <tr>\n",
       "      <th>tt4776998</th>\n",
       "      <td>The Promise</td>\n",
       "      <td>2016</td>\n",
       "      <td>133.0</td>\n",
       "      <td>2017</td>\n",
       "      <td>90000000.0</td>\n",
       "      <td>8224288.0</td>\n",
       "      <td>10551417.0</td>\n",
       "      <td>18775705.0</td>\n",
       "      <td>1</td>\n",
       "      <td>-71224295.0</td>\n",
       "    </tr>\n",
       "    <tr>\n",
       "      <th>tt1041804</th>\n",
       "      <td>The Nutcracker in 3D</td>\n",
       "      <td>2010</td>\n",
       "      <td>110.0</td>\n",
       "      <td>2010</td>\n",
       "      <td>90000000.0</td>\n",
       "      <td>195459.0</td>\n",
       "      <td>20466016.0</td>\n",
       "      <td>20661475.0</td>\n",
       "      <td>1</td>\n",
       "      <td>-69338525.0</td>\n",
       "    </tr>\n",
       "    <tr>\n",
       "      <th>tt4743226</th>\n",
       "      <td>Da hong zha</td>\n",
       "      <td>2018</td>\n",
       "      <td>120.0</td>\n",
       "      <td>2018</td>\n",
       "      <td>65000000.0</td>\n",
       "      <td>0.0</td>\n",
       "      <td>516279.0</td>\n",
       "      <td>516279.0</td>\n",
       "      <td>1</td>\n",
       "      <td>-64483721.0</td>\n",
       "    </tr>\n",
       "    <tr>\n",
       "      <th>tt2479478</th>\n",
       "      <td>The Ridiculous 6</td>\n",
       "      <td>2015</td>\n",
       "      <td>119.0</td>\n",
       "      <td>2015</td>\n",
       "      <td>60000000.0</td>\n",
       "      <td>0.0</td>\n",
       "      <td>0.0</td>\n",
       "      <td>0.0</td>\n",
       "      <td>1</td>\n",
       "      <td>-60000000.0</td>\n",
       "    </tr>\n",
       "    <tr>\n",
       "      <th>tt2428672</th>\n",
       "      <td>Midway</td>\n",
       "      <td>2013</td>\n",
       "      <td>85.0</td>\n",
       "      <td>2019</td>\n",
       "      <td>59500000.0</td>\n",
       "      <td>0.0</td>\n",
       "      <td>0.0</td>\n",
       "      <td>0.0</td>\n",
       "      <td>1</td>\n",
       "      <td>-59500000.0</td>\n",
       "    </tr>\n",
       "  </tbody>\n",
       "</table>\n",
       "</div>"
      ],
      "text/plain": [
       "                        original_title  start_year  runtime_minutes  \\\n",
       "tconst                                                                \n",
       "tt6565702                 Dark Phoenix        2019            113.0   \n",
       "tt2283336  Men in Black: International        2019            115.0   \n",
       "tt5519340                       Bright        2017            117.0   \n",
       "tt1305591              Mars Needs Moms        2011             88.0   \n",
       "tt7232438              Puen Tee Raluek        2017            114.0   \n",
       "tt4776998                  The Promise        2016            133.0   \n",
       "tt1041804         The Nutcracker in 3D        2010            110.0   \n",
       "tt4743226                  Da hong zha        2018            120.0   \n",
       "tt2479478             The Ridiculous 6        2015            119.0   \n",
       "tt2428672                       Midway        2013             85.0   \n",
       "\n",
       "           release_date  production_budget  domestic_gross  worldwide_gross  \\\n",
       "tconst                                                                        \n",
       "tt6565702          2019        350000000.0      42762350.0      149762350.0   \n",
       "tt2283336          2019        110000000.0       3100000.0        3100000.0   \n",
       "tt5519340          2017         90000000.0             0.0              0.0   \n",
       "tt1305591          2011        150000000.0      21392758.0       39549758.0   \n",
       "tt7232438          2017         90000000.0       8224288.0       10551417.0   \n",
       "tt4776998          2017         90000000.0       8224288.0       10551417.0   \n",
       "tt1041804          2010         90000000.0        195459.0       20466016.0   \n",
       "tt4743226          2018         65000000.0             0.0         516279.0   \n",
       "tt2479478          2015         60000000.0             0.0              0.0   \n",
       "tt2428672          2019         59500000.0             0.0              0.0   \n",
       "\n",
       "           total_gross  count      revenue  \n",
       "tconst                                      \n",
       "tt6565702  192524700.0      1 -157475300.0  \n",
       "tt2283336    6200000.0      1 -103800000.0  \n",
       "tt5519340          0.0      1  -90000000.0  \n",
       "tt1305591   60942516.0      1  -89057484.0  \n",
       "tt7232438   18775705.0      1  -71224295.0  \n",
       "tt4776998   18775705.0      1  -71224295.0  \n",
       "tt1041804   20661475.0      1  -69338525.0  \n",
       "tt4743226     516279.0      1  -64483721.0  \n",
       "tt2479478          0.0      1  -60000000.0  \n",
       "tt2428672          0.0      1  -59500000.0  "
      ]
     },
     "execution_count": 129,
     "metadata": {},
     "output_type": "execute_result"
    }
   ],
   "source": [
    "#Top 10 out of pocket movie...lol\n",
    "df_gengross2.sort_values('revenue').head(10)"
   ]
  },
  {
   "cell_type": "code",
   "execution_count": 130,
   "metadata": {},
   "outputs": [
    {
     "data": {
      "text/html": [
       "<div>\n",
       "<style scoped>\n",
       "    .dataframe tbody tr th:only-of-type {\n",
       "        vertical-align: middle;\n",
       "    }\n",
       "\n",
       "    .dataframe tbody tr th {\n",
       "        vertical-align: top;\n",
       "    }\n",
       "\n",
       "    .dataframe thead th {\n",
       "        text-align: right;\n",
       "    }\n",
       "</style>\n",
       "<table border=\"1\" class=\"dataframe\">\n",
       "  <thead>\n",
       "    <tr style=\"text-align: right;\">\n",
       "      <th></th>\n",
       "      <th>start_year</th>\n",
       "      <th>runtime_minutes</th>\n",
       "      <th>release_date</th>\n",
       "      <th>production_budget</th>\n",
       "      <th>domestic_gross</th>\n",
       "      <th>worldwide_gross</th>\n",
       "      <th>total_gross</th>\n",
       "      <th>count</th>\n",
       "      <th>revenue</th>\n",
       "      <th>Adult</th>\n",
       "      <th>...</th>\n",
       "      <th>News</th>\n",
       "      <th>Reality-TV</th>\n",
       "      <th>Romance</th>\n",
       "      <th>Sci-Fi</th>\n",
       "      <th>Short</th>\n",
       "      <th>Sport</th>\n",
       "      <th>Talk-Show</th>\n",
       "      <th>Thriller</th>\n",
       "      <th>War</th>\n",
       "      <th>Western</th>\n",
       "    </tr>\n",
       "    <tr>\n",
       "      <th>Action</th>\n",
       "      <th></th>\n",
       "      <th></th>\n",
       "      <th></th>\n",
       "      <th></th>\n",
       "      <th></th>\n",
       "      <th></th>\n",
       "      <th></th>\n",
       "      <th></th>\n",
       "      <th></th>\n",
       "      <th></th>\n",
       "      <th></th>\n",
       "      <th></th>\n",
       "      <th></th>\n",
       "      <th></th>\n",
       "      <th></th>\n",
       "      <th></th>\n",
       "      <th></th>\n",
       "      <th></th>\n",
       "      <th></th>\n",
       "      <th></th>\n",
       "      <th></th>\n",
       "    </tr>\n",
       "  </thead>\n",
       "  <tbody>\n",
       "    <tr>\n",
       "      <th>0</th>\n",
       "      <td>3759559</td>\n",
       "      <td>184363.0</td>\n",
       "      <td>3752317</td>\n",
       "      <td>4.862265e+10</td>\n",
       "      <td>6.610608e+10</td>\n",
       "      <td>1.470153e+11</td>\n",
       "      <td>2.131214e+11</td>\n",
       "      <td>1867</td>\n",
       "      <td>1.644988e+11</td>\n",
       "      <td>0</td>\n",
       "      <td>...</td>\n",
       "      <td>1</td>\n",
       "      <td>0</td>\n",
       "      <td>273</td>\n",
       "      <td>83</td>\n",
       "      <td>0</td>\n",
       "      <td>40</td>\n",
       "      <td>0</td>\n",
       "      <td>291</td>\n",
       "      <td>34</td>\n",
       "      <td>9</td>\n",
       "    </tr>\n",
       "    <tr>\n",
       "      <th>1</th>\n",
       "      <td>1083479</td>\n",
       "      <td>59203.0</td>\n",
       "      <td>1082646</td>\n",
       "      <td>3.791314e+10</td>\n",
       "      <td>4.102741e+10</td>\n",
       "      <td>1.120276e+11</td>\n",
       "      <td>1.530550e+11</td>\n",
       "      <td>538</td>\n",
       "      <td>1.151419e+11</td>\n",
       "      <td>0</td>\n",
       "      <td>...</td>\n",
       "      <td>0</td>\n",
       "      <td>0</td>\n",
       "      <td>17</td>\n",
       "      <td>95</td>\n",
       "      <td>0</td>\n",
       "      <td>7</td>\n",
       "      <td>0</td>\n",
       "      <td>107</td>\n",
       "      <td>6</td>\n",
       "      <td>6</td>\n",
       "    </tr>\n",
       "  </tbody>\n",
       "</table>\n",
       "<p>2 rows × 35 columns</p>\n",
       "</div>"
      ],
      "text/plain": [
       "        start_year  runtime_minutes  release_date  production_budget  \\\n",
       "Action                                                                 \n",
       "0          3759559         184363.0       3752317       4.862265e+10   \n",
       "1          1083479          59203.0       1082646       3.791314e+10   \n",
       "\n",
       "        domestic_gross  worldwide_gross   total_gross  count       revenue  \\\n",
       "Action                                                                       \n",
       "0         6.610608e+10     1.470153e+11  2.131214e+11   1867  1.644988e+11   \n",
       "1         4.102741e+10     1.120276e+11  1.530550e+11    538  1.151419e+11   \n",
       "\n",
       "        Adult  ...  News  Reality-TV  Romance  Sci-Fi  Short  Sport  \\\n",
       "Action         ...                                                    \n",
       "0           0  ...     1           0      273      83      0     40   \n",
       "1           0  ...     0           0       17      95      0      7   \n",
       "\n",
       "        Talk-Show  Thriller  War  Western  \n",
       "Action                                     \n",
       "0               0       291   34        9  \n",
       "1               0       107    6        6  \n",
       "\n",
       "[2 rows x 35 columns]"
      ]
     },
     "execution_count": 130,
     "metadata": {},
     "output_type": "execute_result"
    }
   ],
   "source": [
    "#Example\n",
    "df_gengross2.join(df_genres, how='inner').groupby('Action').sum()"
   ]
  },
  {
   "cell_type": "code",
   "execution_count": 131,
   "metadata": {},
   "outputs": [],
   "source": [
    "def find_revebudget(genres):\n",
    "    df = df_gengross2.join(df_genres, how='inner').groupby(genres).sum()\n",
    "    return (df['revenue'][1] / df['count'][1], df['production_budget'][1] / df['count'][1])"
   ]
  },
  {
   "cell_type": "code",
   "execution_count": 132,
   "metadata": {},
   "outputs": [
    {
     "name": "stdout",
     "output_type": "stream",
     "text": [
      "There is no Adult movies after inner join\n",
      "There is no Game-Show movies after inner join\n",
      "There is no Reality-TV movies after inner join\n",
      "There is no Short movies after inner join\n",
      "There is no Talk-Show movies after inner join\n"
     ]
    }
   ],
   "source": [
    "#Make a dictionary to store the genres and revenue, \n",
    "#throw an exception that some genres having no movies after inner join\n",
    "genres = []\n",
    "revenue = []\n",
    "budget = [] \n",
    "#ignore the warnings\n",
    "with warnings.catch_warnings():\n",
    "    warnings.simplefilter(\"ignore\", category=RuntimeWarning)\n",
    "    for i in df_genres.columns:\n",
    "        try: \n",
    "            revenue.append(find_revebudget(i)[0])\n",
    "            budget.append(find_revebudget(i)[1])\n",
    "            genres.append(i)\n",
    "        except:\n",
    "            print(\"There is no \" + i + \" movies after inner join\")\n",
    "dic_revebudget = {'genres':genres, 'revenue':revenue, 'budget': budget}"
   ]
  },
  {
   "cell_type": "code",
   "execution_count": 133,
   "metadata": {},
   "outputs": [],
   "source": [
    "#Dictionary to df and sorting\n",
    "df_revenue = pd.DataFrame.from_dict(dic_revebudget)\n",
    "df_revenue.sort_values('revenue', ascending=False, inplace=True)"
   ]
  },
  {
   "cell_type": "code",
   "execution_count": 134,
   "metadata": {},
   "outputs": [
    {
     "data": {
      "text/html": [
       "<div>\n",
       "<style scoped>\n",
       "    .dataframe tbody tr th:only-of-type {\n",
       "        vertical-align: middle;\n",
       "    }\n",
       "\n",
       "    .dataframe tbody tr th {\n",
       "        vertical-align: top;\n",
       "    }\n",
       "\n",
       "    .dataframe thead th {\n",
       "        text-align: right;\n",
       "    }\n",
       "</style>\n",
       "<table border=\"1\" class=\"dataframe\">\n",
       "  <thead>\n",
       "    <tr style=\"text-align: right;\">\n",
       "      <th></th>\n",
       "      <th>genres</th>\n",
       "      <th>revenue</th>\n",
       "      <th>budget</th>\n",
       "    </tr>\n",
       "  </thead>\n",
       "  <tbody>\n",
       "    <tr>\n",
       "      <th>2</th>\n",
       "      <td>Animation</td>\n",
       "      <td>3.429938e+08</td>\n",
       "      <td>8.653679e+07</td>\n",
       "    </tr>\n",
       "    <tr>\n",
       "      <th>1</th>\n",
       "      <td>Adventure</td>\n",
       "      <td>3.163703e+08</td>\n",
       "      <td>9.395289e+07</td>\n",
       "    </tr>\n",
       "    <tr>\n",
       "      <th>17</th>\n",
       "      <td>Sci-Fi</td>\n",
       "      <td>2.857869e+08</td>\n",
       "      <td>7.390868e+07</td>\n",
       "    </tr>\n",
       "    <tr>\n",
       "      <th>9</th>\n",
       "      <td>Fantasy</td>\n",
       "      <td>2.153605e+08</td>\n",
       "      <td>7.650267e+07</td>\n",
       "    </tr>\n",
       "    <tr>\n",
       "      <th>0</th>\n",
       "      <td>Action</td>\n",
       "      <td>2.140184e+08</td>\n",
       "      <td>7.047052e+07</td>\n",
       "    </tr>\n",
       "    <tr>\n",
       "      <th>13</th>\n",
       "      <td>Musical</td>\n",
       "      <td>1.953371e+08</td>\n",
       "      <td>4.279333e+07</td>\n",
       "    </tr>\n",
       "    <tr>\n",
       "      <th>8</th>\n",
       "      <td>Family</td>\n",
       "      <td>1.761249e+08</td>\n",
       "      <td>5.398112e+07</td>\n",
       "    </tr>\n",
       "    <tr>\n",
       "      <th>4</th>\n",
       "      <td>Comedy</td>\n",
       "      <td>1.231741e+08</td>\n",
       "      <td>3.497973e+07</td>\n",
       "    </tr>\n",
       "    <tr>\n",
       "      <th>19</th>\n",
       "      <td>Thriller</td>\n",
       "      <td>9.073795e+07</td>\n",
       "      <td>2.775505e+07</td>\n",
       "    </tr>\n",
       "    <tr>\n",
       "      <th>14</th>\n",
       "      <td>Mystery</td>\n",
       "      <td>8.613043e+07</td>\n",
       "      <td>2.188758e+07</td>\n",
       "    </tr>\n",
       "  </tbody>\n",
       "</table>\n",
       "</div>"
      ],
      "text/plain": [
       "       genres       revenue        budget\n",
       "2   Animation  3.429938e+08  8.653679e+07\n",
       "1   Adventure  3.163703e+08  9.395289e+07\n",
       "17     Sci-Fi  2.857869e+08  7.390868e+07\n",
       "9     Fantasy  2.153605e+08  7.650267e+07\n",
       "0      Action  2.140184e+08  7.047052e+07\n",
       "13    Musical  1.953371e+08  4.279333e+07\n",
       "8      Family  1.761249e+08  5.398112e+07\n",
       "4      Comedy  1.231741e+08  3.497973e+07\n",
       "19   Thriller  9.073795e+07  2.775505e+07\n",
       "14    Mystery  8.613043e+07  2.188758e+07"
      ]
     },
     "execution_count": 134,
     "metadata": {},
     "output_type": "execute_result"
    }
   ],
   "source": [
    "df_revenue.head(10)"
   ]
  },
  {
   "cell_type": "markdown",
   "metadata": {},
   "source": [
    "### Visualization"
   ]
  },
  {
   "cell_type": "code",
   "execution_count": 135,
   "metadata": {},
   "outputs": [
    {
     "data": {
      "image/png": "[encoded data removed]",
      "text/plain": [
       "<Figure size 864x576 with 1 Axes>"
      ]
     },
     "metadata": {
      "needs_background": "light"
     },
     "output_type": "display_data"
    }
   ],
   "source": [
    "# Create a grouped bar chart with size\n",
    "fig, ax = plt.subplots(figsize=(12, 8))\n",
    "x = np.arange(10)\n",
    "\n",
    "# Define bar width. We need this to offset the second bar.\n",
    "bar_width = 0.4\n",
    "\n",
    "#Define two bars and the second need the offset space\n",
    "b1 = ax.bar(x, height=df_revenue['revenue'].head(10),\n",
    "            width=bar_width, label='Revenue')\n",
    "b2 = ax.bar(x + bar_width, height=df_revenue['budget'].head(10),\n",
    "            width=bar_width, label='Budget')\n",
    "\n",
    "# Fix the x-axes.\n",
    "ax.set_xticks(x + bar_width / 2)\n",
    "ax.set_xticklabels(df_revenue['genres'][:10])\n",
    "\n",
    "# Add legend.\n",
    "ax.legend()\n",
    "\n",
    "# Axis styling.\n",
    "ax.spines['top'].set_visible(False)\n",
    "ax.spines['right'].set_visible(False)\n",
    "ax.spines['left'].set_visible(False)\n",
    "ax.spines['bottom'].set_color('#DDDDDD')\n",
    "ax.tick_params(bottom=False, left=False)\n",
    "ax.set_axisbelow(True)\n",
    "ax.yaxis.grid(True, color='#EEEEEE')\n",
    "ax.xaxis.grid(False)\n",
    "\n",
    "# Add axis and chart labels.\n",
    "ax.set_xlabel('Genres', labelpad=15)\n",
    "ax.set_ylabel('$ in 10**8', labelpad=15)\n",
    "ax.set_title('Top 10 Revenue with Budget of Genres', pad=15)\n",
    "plt.xticks(rotation=75)\n",
    "fig.tight_layout()"
   ]
  },
  {
   "cell_type": "markdown",
   "metadata": {},
   "source": [
    "## Best Runtime"
   ]
  },
  {
   "cell_type": "markdown",
   "metadata": {},
   "source": [
    "### Runtime vs Rating"
   ]
  },
  {
   "cell_type": "code",
   "execution_count": 136,
   "metadata": {},
   "outputs": [],
   "source": [
    "df_basics.set_index('tconst', inplace=True)"
   ]
  },
  {
   "cell_type": "code",
   "execution_count": 137,
   "metadata": {},
   "outputs": [
    {
     "data": {
      "text/html": [
       "<div>\n",
       "<style scoped>\n",
       "    .dataframe tbody tr th:only-of-type {\n",
       "        vertical-align: middle;\n",
       "    }\n",
       "\n",
       "    .dataframe tbody tr th {\n",
       "        vertical-align: top;\n",
       "    }\n",
       "\n",
       "    .dataframe thead th {\n",
       "        text-align: right;\n",
       "    }\n",
       "</style>\n",
       "<table border=\"1\" class=\"dataframe\">\n",
       "  <thead>\n",
       "    <tr style=\"text-align: right;\">\n",
       "      <th></th>\n",
       "      <th>averagerating</th>\n",
       "      <th>numvotes</th>\n",
       "      <th>total_rating</th>\n",
       "      <th>count</th>\n",
       "    </tr>\n",
       "    <tr>\n",
       "      <th>tconst</th>\n",
       "      <th></th>\n",
       "      <th></th>\n",
       "      <th></th>\n",
       "      <th></th>\n",
       "    </tr>\n",
       "  </thead>\n",
       "  <tbody>\n",
       "    <tr>\n",
       "      <th>tt10356526</th>\n",
       "      <td>8.3</td>\n",
       "      <td>31</td>\n",
       "      <td>257.3</td>\n",
       "      <td>1</td>\n",
       "    </tr>\n",
       "    <tr>\n",
       "      <th>tt10384606</th>\n",
       "      <td>8.9</td>\n",
       "      <td>559</td>\n",
       "      <td>4975.1</td>\n",
       "      <td>1</td>\n",
       "    </tr>\n",
       "    <tr>\n",
       "      <th>tt1042974</th>\n",
       "      <td>6.4</td>\n",
       "      <td>20</td>\n",
       "      <td>128.0</td>\n",
       "      <td>1</td>\n",
       "    </tr>\n",
       "    <tr>\n",
       "      <th>tt1043726</th>\n",
       "      <td>4.2</td>\n",
       "      <td>50352</td>\n",
       "      <td>211478.4</td>\n",
       "      <td>1</td>\n",
       "    </tr>\n",
       "    <tr>\n",
       "      <th>tt1060240</th>\n",
       "      <td>6.5</td>\n",
       "      <td>21</td>\n",
       "      <td>136.5</td>\n",
       "      <td>1</td>\n",
       "    </tr>\n",
       "  </tbody>\n",
       "</table>\n",
       "</div>"
      ],
      "text/plain": [
       "            averagerating  numvotes  total_rating  count\n",
       "tconst                                                  \n",
       "tt10356526            8.3        31         257.3      1\n",
       "tt10384606            8.9       559        4975.1      1\n",
       "tt1042974             6.4        20         128.0      1\n",
       "tt1043726             4.2     50352      211478.4      1\n",
       "tt1060240             6.5        21         136.5      1"
      ]
     },
     "execution_count": 137,
     "metadata": {},
     "output_type": "execute_result"
    }
   ],
   "source": [
    "df_ratings.head()"
   ]
  },
  {
   "cell_type": "code",
   "execution_count": 138,
   "metadata": {},
   "outputs": [
    {
     "data": {
      "text/html": [
       "<div>\n",
       "<style scoped>\n",
       "    .dataframe tbody tr th:only-of-type {\n",
       "        vertical-align: middle;\n",
       "    }\n",
       "\n",
       "    .dataframe tbody tr th {\n",
       "        vertical-align: top;\n",
       "    }\n",
       "\n",
       "    .dataframe thead th {\n",
       "        text-align: right;\n",
       "    }\n",
       "</style>\n",
       "<table border=\"1\" class=\"dataframe\">\n",
       "  <thead>\n",
       "    <tr style=\"text-align: right;\">\n",
       "      <th></th>\n",
       "      <th>index</th>\n",
       "      <th>primary_title</th>\n",
       "      <th>original_title</th>\n",
       "      <th>start_year</th>\n",
       "      <th>runtime_minutes</th>\n",
       "      <th>genres</th>\n",
       "      <th>averagerating</th>\n",
       "      <th>numvotes</th>\n",
       "      <th>total_rating</th>\n",
       "      <th>count</th>\n",
       "    </tr>\n",
       "    <tr>\n",
       "      <th>tconst</th>\n",
       "      <th></th>\n",
       "      <th></th>\n",
       "      <th></th>\n",
       "      <th></th>\n",
       "      <th></th>\n",
       "      <th></th>\n",
       "      <th></th>\n",
       "      <th></th>\n",
       "      <th></th>\n",
       "      <th></th>\n",
       "    </tr>\n",
       "  </thead>\n",
       "  <tbody>\n",
       "    <tr>\n",
       "      <th>tt0063540</th>\n",
       "      <td>0</td>\n",
       "      <td>Sunghursh</td>\n",
       "      <td>Sunghursh</td>\n",
       "      <td>2013</td>\n",
       "      <td>175.0</td>\n",
       "      <td>[Action, Crime, Drama]</td>\n",
       "      <td>7.0</td>\n",
       "      <td>77</td>\n",
       "      <td>539.0</td>\n",
       "      <td>1</td>\n",
       "    </tr>\n",
       "    <tr>\n",
       "      <th>tt0066787</th>\n",
       "      <td>1</td>\n",
       "      <td>One Day Before the Rainy Season</td>\n",
       "      <td>Ashad Ka Ek Din</td>\n",
       "      <td>2019</td>\n",
       "      <td>114.0</td>\n",
       "      <td>[Biography, Drama]</td>\n",
       "      <td>7.2</td>\n",
       "      <td>43</td>\n",
       "      <td>309.6</td>\n",
       "      <td>1</td>\n",
       "    </tr>\n",
       "    <tr>\n",
       "      <th>tt0069049</th>\n",
       "      <td>2</td>\n",
       "      <td>The Other Side of the Wind</td>\n",
       "      <td>The Other Side of the Wind</td>\n",
       "      <td>2018</td>\n",
       "      <td>122.0</td>\n",
       "      <td>[Drama]</td>\n",
       "      <td>6.9</td>\n",
       "      <td>4517</td>\n",
       "      <td>31167.3</td>\n",
       "      <td>1</td>\n",
       "    </tr>\n",
       "    <tr>\n",
       "      <th>tt0100275</th>\n",
       "      <td>4</td>\n",
       "      <td>The Wandering Soap Opera</td>\n",
       "      <td>La Telenovela Errante</td>\n",
       "      <td>2017</td>\n",
       "      <td>80.0</td>\n",
       "      <td>[Comedy, Drama, Fantasy]</td>\n",
       "      <td>6.5</td>\n",
       "      <td>119</td>\n",
       "      <td>773.5</td>\n",
       "      <td>1</td>\n",
       "    </tr>\n",
       "    <tr>\n",
       "      <th>tt0137204</th>\n",
       "      <td>7</td>\n",
       "      <td>Joe Finds Grace</td>\n",
       "      <td>Joe Finds Grace</td>\n",
       "      <td>2017</td>\n",
       "      <td>83.0</td>\n",
       "      <td>[Adventure, Animation, Comedy]</td>\n",
       "      <td>8.1</td>\n",
       "      <td>263</td>\n",
       "      <td>2130.3</td>\n",
       "      <td>1</td>\n",
       "    </tr>\n",
       "  </tbody>\n",
       "</table>\n",
       "</div>"
      ],
      "text/plain": [
       "           index                    primary_title              original_title  \\\n",
       "tconst                                                                          \n",
       "tt0063540      0                        Sunghursh                   Sunghursh   \n",
       "tt0066787      1  One Day Before the Rainy Season             Ashad Ka Ek Din   \n",
       "tt0069049      2       The Other Side of the Wind  The Other Side of the Wind   \n",
       "tt0100275      4         The Wandering Soap Opera       La Telenovela Errante   \n",
       "tt0137204      7                  Joe Finds Grace             Joe Finds Grace   \n",
       "\n",
       "           start_year  runtime_minutes                          genres  \\\n",
       "tconst                                                                   \n",
       "tt0063540        2013            175.0          [Action, Crime, Drama]   \n",
       "tt0066787        2019            114.0              [Biography, Drama]   \n",
       "tt0069049        2018            122.0                         [Drama]   \n",
       "tt0100275        2017             80.0        [Comedy, Drama, Fantasy]   \n",
       "tt0137204        2017             83.0  [Adventure, Animation, Comedy]   \n",
       "\n",
       "           averagerating  numvotes  total_rating  count  \n",
       "tconst                                                   \n",
       "tt0063540            7.0        77         539.0      1  \n",
       "tt0066787            7.2        43         309.6      1  \n",
       "tt0069049            6.9      4517       31167.3      1  \n",
       "tt0100275            6.5       119         773.5      1  \n",
       "tt0137204            8.1       263        2130.3      1  "
      ]
     },
     "execution_count": 138,
     "metadata": {},
     "output_type": "execute_result"
    }
   ],
   "source": [
    "df_runtrating = df_basics.join(df_ratings, how='inner')\n",
    "df_runtrating.head()"
   ]
  },
  {
   "cell_type": "code",
   "execution_count": 139,
   "metadata": {},
   "outputs": [
    {
     "data": {
      "text/plain": [
       "array([[ 1.        , -0.03639087],\n",
       "       [-0.03639087,  1.        ]])"
      ]
     },
     "execution_count": 139,
     "metadata": {},
     "output_type": "execute_result"
    }
   ],
   "source": [
    "#Find corr\n",
    "np.corrcoef(x=df_runtrating['runtime_minutes'], y=df_runtrating['averagerating'])"
   ]
  },
  {
   "cell_type": "code",
   "execution_count": 140,
   "metadata": {},
   "outputs": [
    {
     "data": {
      "image/png": "[encoded data removed]",
      "text/plain": [
       "<Figure size 921.6x633.6 with 1 Axes>"
      ]
     },
     "metadata": {
      "needs_background": "light"
     },
     "output_type": "display_data"
    }
   ],
   "source": [
    "plt.scatter(x=df_runtrating['runtime_minutes'], y=df_runtrating['averagerating'])\n",
    "plt.title('Relation between runtime and rating')\n",
    "plt.xlabel('runtime_minutes')\n",
    "plt.ylabel('rating')\n",
    "plt.show()"
   ]
  },
  {
   "cell_type": "markdown",
   "metadata": {},
   "source": [
    "### Runtime vs Revenue"
   ]
  },
  {
   "cell_type": "code",
   "execution_count": 141,
   "metadata": {},
   "outputs": [
    {
     "data": {
      "text/html": [
       "<div>\n",
       "<style scoped>\n",
       "    .dataframe tbody tr th:only-of-type {\n",
       "        vertical-align: middle;\n",
       "    }\n",
       "\n",
       "    .dataframe tbody tr th {\n",
       "        vertical-align: top;\n",
       "    }\n",
       "\n",
       "    .dataframe thead th {\n",
       "        text-align: right;\n",
       "    }\n",
       "</style>\n",
       "<table border=\"1\" class=\"dataframe\">\n",
       "  <thead>\n",
       "    <tr style=\"text-align: right;\">\n",
       "      <th></th>\n",
       "      <th>original_title</th>\n",
       "      <th>start_year</th>\n",
       "      <th>runtime_minutes</th>\n",
       "      <th>release_date</th>\n",
       "      <th>production_budget</th>\n",
       "      <th>domestic_gross</th>\n",
       "      <th>worldwide_gross</th>\n",
       "      <th>total_gross</th>\n",
       "      <th>count</th>\n",
       "      <th>revenue</th>\n",
       "    </tr>\n",
       "    <tr>\n",
       "      <th>tconst</th>\n",
       "      <th></th>\n",
       "      <th></th>\n",
       "      <th></th>\n",
       "      <th></th>\n",
       "      <th></th>\n",
       "      <th></th>\n",
       "      <th></th>\n",
       "      <th></th>\n",
       "      <th></th>\n",
       "      <th></th>\n",
       "    </tr>\n",
       "  </thead>\n",
       "  <tbody>\n",
       "    <tr>\n",
       "      <th>tt3526286</th>\n",
       "      <td>#Horror</td>\n",
       "      <td>2015</td>\n",
       "      <td>101.0</td>\n",
       "      <td>2015</td>\n",
       "      <td>1500000.0</td>\n",
       "      <td>0.0</td>\n",
       "      <td>0.0</td>\n",
       "      <td>0.0</td>\n",
       "      <td>1</td>\n",
       "      <td>-1500000.0</td>\n",
       "    </tr>\n",
       "    <tr>\n",
       "      <th>tt1179933</th>\n",
       "      <td>10 Cloverfield Lane</td>\n",
       "      <td>2016</td>\n",
       "      <td>103.0</td>\n",
       "      <td>2016</td>\n",
       "      <td>5000000.0</td>\n",
       "      <td>72082999.0</td>\n",
       "      <td>108286422.0</td>\n",
       "      <td>180369421.0</td>\n",
       "      <td>1</td>\n",
       "      <td>175369421.0</td>\n",
       "    </tr>\n",
       "    <tr>\n",
       "      <th>tt3453052</th>\n",
       "      <td>10 Days in a Madhouse</td>\n",
       "      <td>2015</td>\n",
       "      <td>111.0</td>\n",
       "      <td>2015</td>\n",
       "      <td>12000000.0</td>\n",
       "      <td>14616.0</td>\n",
       "      <td>14616.0</td>\n",
       "      <td>29232.0</td>\n",
       "      <td>1</td>\n",
       "      <td>-11970768.0</td>\n",
       "    </tr>\n",
       "    <tr>\n",
       "      <th>tt1413492</th>\n",
       "      <td>12 Strong</td>\n",
       "      <td>2018</td>\n",
       "      <td>130.0</td>\n",
       "      <td>2018</td>\n",
       "      <td>35000000.0</td>\n",
       "      <td>45819713.0</td>\n",
       "      <td>71118378.0</td>\n",
       "      <td>116938091.0</td>\n",
       "      <td>1</td>\n",
       "      <td>81938091.0</td>\n",
       "    </tr>\n",
       "    <tr>\n",
       "      <th>tt2024544</th>\n",
       "      <td>12 Years a Slave</td>\n",
       "      <td>2013</td>\n",
       "      <td>134.0</td>\n",
       "      <td>2013</td>\n",
       "      <td>20000000.0</td>\n",
       "      <td>56671993.0</td>\n",
       "      <td>181025343.0</td>\n",
       "      <td>237697336.0</td>\n",
       "      <td>1</td>\n",
       "      <td>217697336.0</td>\n",
       "    </tr>\n",
       "  </tbody>\n",
       "</table>\n",
       "</div>"
      ],
      "text/plain": [
       "                  original_title  start_year  runtime_minutes  release_date  \\\n",
       "tconst                                                                        \n",
       "tt3526286                #Horror        2015            101.0          2015   \n",
       "tt1179933    10 Cloverfield Lane        2016            103.0          2016   \n",
       "tt3453052  10 Days in a Madhouse        2015            111.0          2015   \n",
       "tt1413492              12 Strong        2018            130.0          2018   \n",
       "tt2024544       12 Years a Slave        2013            134.0          2013   \n",
       "\n",
       "           production_budget  domestic_gross  worldwide_gross  total_gross  \\\n",
       "tconst                                                                       \n",
       "tt3526286          1500000.0             0.0              0.0          0.0   \n",
       "tt1179933          5000000.0      72082999.0      108286422.0  180369421.0   \n",
       "tt3453052         12000000.0         14616.0          14616.0      29232.0   \n",
       "tt1413492         35000000.0      45819713.0       71118378.0  116938091.0   \n",
       "tt2024544         20000000.0      56671993.0      181025343.0  237697336.0   \n",
       "\n",
       "           count      revenue  \n",
       "tconst                         \n",
       "tt3526286      1   -1500000.0  \n",
       "tt1179933      1  175369421.0  \n",
       "tt3453052      1  -11970768.0  \n",
       "tt1413492      1   81938091.0  \n",
       "tt2024544      1  217697336.0  "
      ]
     },
     "execution_count": 141,
     "metadata": {},
     "output_type": "execute_result"
    }
   ],
   "source": [
    "df_gengross2.head()"
   ]
  },
  {
   "cell_type": "code",
   "execution_count": 142,
   "metadata": {},
   "outputs": [
    {
     "data": {
      "text/plain": [
       "array([[1.        , 0.20019927],\n",
       "       [0.20019927, 1.        ]])"
      ]
     },
     "execution_count": 142,
     "metadata": {},
     "output_type": "execute_result"
    }
   ],
   "source": [
    "np.corrcoef(x=df_gengross2['runtime_minutes'], y=df_gengross2['revenue'])"
   ]
  },
  {
   "cell_type": "code",
   "execution_count": 143,
   "metadata": {},
   "outputs": [
    {
     "data": {
      "image/png": "[encoded data removed]",
      "text/plain": [
       "<Figure size 921.6x633.6 with 1 Axes>"
      ]
     },
     "metadata": {
      "needs_background": "light"
     },
     "output_type": "display_data"
    }
   ],
   "source": [
    "plt.scatter(x=df_gengross2['runtime_minutes'], y=df_gengross2['revenue'])\n",
    "plt.title('Relation between runtime and revenue')\n",
    "plt.xlabel('runtime_minutes')\n",
    "plt.ylabel('revenue')\n",
    "plt.show()"
   ]
  },
  {
   "cell_type": "code",
   "execution_count": 144,
   "metadata": {},
   "outputs": [],
   "source": [
    "#Find TOP 500 to decide which range is most common"
   ]
  },
  {
   "cell_type": "code",
   "execution_count": 145,
   "metadata": {},
   "outputs": [
    {
     "data": {
      "text/html": [
       "<div>\n",
       "<style scoped>\n",
       "    .dataframe tbody tr th:only-of-type {\n",
       "        vertical-align: middle;\n",
       "    }\n",
       "\n",
       "    .dataframe tbody tr th {\n",
       "        vertical-align: top;\n",
       "    }\n",
       "\n",
       "    .dataframe thead th {\n",
       "        text-align: right;\n",
       "    }\n",
       "</style>\n",
       "<table border=\"1\" class=\"dataframe\">\n",
       "  <thead>\n",
       "    <tr style=\"text-align: right;\">\n",
       "      <th></th>\n",
       "      <th>index</th>\n",
       "      <th>primary_title</th>\n",
       "      <th>original_title</th>\n",
       "      <th>start_year</th>\n",
       "      <th>runtime_minutes</th>\n",
       "      <th>genres</th>\n",
       "      <th>averagerating</th>\n",
       "      <th>numvotes</th>\n",
       "      <th>total_rating</th>\n",
       "      <th>count</th>\n",
       "    </tr>\n",
       "    <tr>\n",
       "      <th>tconst</th>\n",
       "      <th></th>\n",
       "      <th></th>\n",
       "      <th></th>\n",
       "      <th></th>\n",
       "      <th></th>\n",
       "      <th></th>\n",
       "      <th></th>\n",
       "      <th></th>\n",
       "      <th></th>\n",
       "      <th></th>\n",
       "    </tr>\n",
       "  </thead>\n",
       "  <tbody>\n",
       "    <tr>\n",
       "      <th>tt4960818</th>\n",
       "      <td>85712</td>\n",
       "      <td>Revolution Food</td>\n",
       "      <td>Revolution Food</td>\n",
       "      <td>2015</td>\n",
       "      <td>70.0</td>\n",
       "      <td>[Documentary]</td>\n",
       "      <td>10.0</td>\n",
       "      <td>8</td>\n",
       "      <td>80.0</td>\n",
       "      <td>1</td>\n",
       "    </tr>\n",
       "    <tr>\n",
       "      <th>tt8730716</th>\n",
       "      <td>136750</td>\n",
       "      <td>Pick It Up! - Ska in the '90s</td>\n",
       "      <td>Pick It Up! - Ska in the '90s</td>\n",
       "      <td>2019</td>\n",
       "      <td>99.0</td>\n",
       "      <td>[Documentary]</td>\n",
       "      <td>10.0</td>\n",
       "      <td>5</td>\n",
       "      <td>50.0</td>\n",
       "      <td>1</td>\n",
       "    </tr>\n",
       "    <tr>\n",
       "      <th>tt10176328</th>\n",
       "      <td>1857</td>\n",
       "      <td>Exteriores: Mulheres Brasileiras na Diplomacia</td>\n",
       "      <td>Exteriores: Mulheres Brasileiras na Diplomacia</td>\n",
       "      <td>2018</td>\n",
       "      <td>52.0</td>\n",
       "      <td>[Documentary]</td>\n",
       "      <td>10.0</td>\n",
       "      <td>5</td>\n",
       "      <td>50.0</td>\n",
       "      <td>1</td>\n",
       "    </tr>\n",
       "    <tr>\n",
       "      <th>tt7259300</th>\n",
       "      <td>120584</td>\n",
       "      <td>Calamity Kevin</td>\n",
       "      <td>Calamity Kevin</td>\n",
       "      <td>2019</td>\n",
       "      <td>77.0</td>\n",
       "      <td>[Adventure, Comedy]</td>\n",
       "      <td>10.0</td>\n",
       "      <td>6</td>\n",
       "      <td>60.0</td>\n",
       "      <td>1</td>\n",
       "    </tr>\n",
       "    <tr>\n",
       "      <th>tt4109192</th>\n",
       "      <td>71954</td>\n",
       "      <td>I Was Born Yesterday!</td>\n",
       "      <td>I Was Born Yesterday!</td>\n",
       "      <td>2015</td>\n",
       "      <td>31.0</td>\n",
       "      <td>[Documentary]</td>\n",
       "      <td>10.0</td>\n",
       "      <td>6</td>\n",
       "      <td>60.0</td>\n",
       "      <td>1</td>\n",
       "    </tr>\n",
       "  </tbody>\n",
       "</table>\n",
       "</div>"
      ],
      "text/plain": [
       "             index                                   primary_title  \\\n",
       "tconst                                                               \n",
       "tt4960818    85712                                 Revolution Food   \n",
       "tt8730716   136750                   Pick It Up! - Ska in the '90s   \n",
       "tt10176328    1857  Exteriores: Mulheres Brasileiras na Diplomacia   \n",
       "tt7259300   120584                                  Calamity Kevin   \n",
       "tt4109192    71954                           I Was Born Yesterday!   \n",
       "\n",
       "                                            original_title  start_year  \\\n",
       "tconst                                                                   \n",
       "tt4960818                                  Revolution Food        2015   \n",
       "tt8730716                    Pick It Up! - Ska in the '90s        2019   \n",
       "tt10176328  Exteriores: Mulheres Brasileiras na Diplomacia        2018   \n",
       "tt7259300                                   Calamity Kevin        2019   \n",
       "tt4109192                            I Was Born Yesterday!        2015   \n",
       "\n",
       "            runtime_minutes               genres  averagerating  numvotes  \\\n",
       "tconst                                                                      \n",
       "tt4960818              70.0        [Documentary]           10.0         8   \n",
       "tt8730716              99.0        [Documentary]           10.0         5   \n",
       "tt10176328             52.0        [Documentary]           10.0         5   \n",
       "tt7259300              77.0  [Adventure, Comedy]           10.0         6   \n",
       "tt4109192              31.0        [Documentary]           10.0         6   \n",
       "\n",
       "            total_rating  count  \n",
       "tconst                           \n",
       "tt4960818           80.0      1  \n",
       "tt8730716           50.0      1  \n",
       "tt10176328          50.0      1  \n",
       "tt7259300           60.0      1  \n",
       "tt4109192           60.0      1  "
      ]
     },
     "execution_count": 145,
     "metadata": {},
     "output_type": "execute_result"
    }
   ],
   "source": [
    "df_runtrating.sort_values('averagerating', ascending=False, inplace=True)\n",
    "df_runtrating.head()"
   ]
  },
  {
   "cell_type": "code",
   "execution_count": 146,
   "metadata": {},
   "outputs": [
    {
     "data": {
      "text/plain": [
       "(4.0, 607.0)"
      ]
     },
     "execution_count": 146,
     "metadata": {},
     "output_type": "execute_result"
    }
   ],
   "source": [
    "check_range(df_runtrating['runtime_minutes'][:500])"
   ]
  },
  {
   "cell_type": "code",
   "execution_count": 147,
   "metadata": {},
   "outputs": [
    {
     "data": {
      "text/html": [
       "<div>\n",
       "<style scoped>\n",
       "    .dataframe tbody tr th:only-of-type {\n",
       "        vertical-align: middle;\n",
       "    }\n",
       "\n",
       "    .dataframe tbody tr th {\n",
       "        vertical-align: top;\n",
       "    }\n",
       "\n",
       "    .dataframe thead th {\n",
       "        text-align: right;\n",
       "    }\n",
       "</style>\n",
       "<table border=\"1\" class=\"dataframe\">\n",
       "  <thead>\n",
       "    <tr style=\"text-align: right;\">\n",
       "      <th></th>\n",
       "      <th>original_title</th>\n",
       "      <th>start_year</th>\n",
       "      <th>runtime_minutes</th>\n",
       "      <th>release_date</th>\n",
       "      <th>production_budget</th>\n",
       "      <th>domestic_gross</th>\n",
       "      <th>worldwide_gross</th>\n",
       "      <th>total_gross</th>\n",
       "      <th>count</th>\n",
       "      <th>revenue</th>\n",
       "    </tr>\n",
       "    <tr>\n",
       "      <th>tconst</th>\n",
       "      <th></th>\n",
       "      <th></th>\n",
       "      <th></th>\n",
       "      <th></th>\n",
       "      <th></th>\n",
       "      <th></th>\n",
       "      <th></th>\n",
       "      <th></th>\n",
       "      <th></th>\n",
       "      <th></th>\n",
       "    </tr>\n",
       "  </thead>\n",
       "  <tbody>\n",
       "    <tr>\n",
       "      <th>tt1775309</th>\n",
       "      <td>Abatâ</td>\n",
       "      <td>2011</td>\n",
       "      <td>93.0</td>\n",
       "      <td>2009</td>\n",
       "      <td>425000000.0</td>\n",
       "      <td>760507625.0</td>\n",
       "      <td>2.776345e+09</td>\n",
       "      <td>3.536853e+09</td>\n",
       "      <td>1</td>\n",
       "      <td>3.111853e+09</td>\n",
       "    </tr>\n",
       "    <tr>\n",
       "      <th>tt8852130</th>\n",
       "      <td>Titanic</td>\n",
       "      <td>2018</td>\n",
       "      <td>115.0</td>\n",
       "      <td>1997</td>\n",
       "      <td>200000000.0</td>\n",
       "      <td>659363944.0</td>\n",
       "      <td>2.208208e+09</td>\n",
       "      <td>2.867572e+09</td>\n",
       "      <td>1</td>\n",
       "      <td>2.667572e+09</td>\n",
       "    </tr>\n",
       "    <tr>\n",
       "      <th>tt4154756</th>\n",
       "      <td>Avengers: Infinity War</td>\n",
       "      <td>2018</td>\n",
       "      <td>149.0</td>\n",
       "      <td>2018</td>\n",
       "      <td>300000000.0</td>\n",
       "      <td>678815482.0</td>\n",
       "      <td>2.048134e+09</td>\n",
       "      <td>2.726950e+09</td>\n",
       "      <td>1</td>\n",
       "      <td>2.426950e+09</td>\n",
       "    </tr>\n",
       "    <tr>\n",
       "      <th>tt0369610</th>\n",
       "      <td>Jurassic World</td>\n",
       "      <td>2015</td>\n",
       "      <td>124.0</td>\n",
       "      <td>2015</td>\n",
       "      <td>215000000.0</td>\n",
       "      <td>652270625.0</td>\n",
       "      <td>1.648855e+09</td>\n",
       "      <td>2.301125e+09</td>\n",
       "      <td>1</td>\n",
       "      <td>2.086125e+09</td>\n",
       "    </tr>\n",
       "    <tr>\n",
       "      <th>tt0848228</th>\n",
       "      <td>The Avengers</td>\n",
       "      <td>2012</td>\n",
       "      <td>143.0</td>\n",
       "      <td>2012</td>\n",
       "      <td>225000000.0</td>\n",
       "      <td>623279547.0</td>\n",
       "      <td>1.517936e+09</td>\n",
       "      <td>2.141215e+09</td>\n",
       "      <td>1</td>\n",
       "      <td>1.916215e+09</td>\n",
       "    </tr>\n",
       "  </tbody>\n",
       "</table>\n",
       "</div>"
      ],
      "text/plain": [
       "                   original_title  start_year  runtime_minutes  release_date  \\\n",
       "tconst                                                                         \n",
       "tt1775309                   Abatâ        2011             93.0          2009   \n",
       "tt8852130                 Titanic        2018            115.0          1997   \n",
       "tt4154756  Avengers: Infinity War        2018            149.0          2018   \n",
       "tt0369610          Jurassic World        2015            124.0          2015   \n",
       "tt0848228            The Avengers        2012            143.0          2012   \n",
       "\n",
       "           production_budget  domestic_gross  worldwide_gross   total_gross  \\\n",
       "tconst                                                                        \n",
       "tt1775309        425000000.0     760507625.0     2.776345e+09  3.536853e+09   \n",
       "tt8852130        200000000.0     659363944.0     2.208208e+09  2.867572e+09   \n",
       "tt4154756        300000000.0     678815482.0     2.048134e+09  2.726950e+09   \n",
       "tt0369610        215000000.0     652270625.0     1.648855e+09  2.301125e+09   \n",
       "tt0848228        225000000.0     623279547.0     1.517936e+09  2.141215e+09   \n",
       "\n",
       "           count       revenue  \n",
       "tconst                          \n",
       "tt1775309      1  3.111853e+09  \n",
       "tt8852130      1  2.667572e+09  \n",
       "tt4154756      1  2.426950e+09  \n",
       "tt0369610      1  2.086125e+09  \n",
       "tt0848228      1  1.916215e+09  "
      ]
     },
     "execution_count": 147,
     "metadata": {},
     "output_type": "execute_result"
    }
   ],
   "source": [
    "df_gengross2.sort_values('revenue', ascending=False, inplace=True)\n",
    "df_gengross2.head()"
   ]
  },
  {
   "cell_type": "code",
   "execution_count": 148,
   "metadata": {},
   "outputs": [
    {
     "data": {
      "text/plain": [
       "(4.0, 607.0)"
      ]
     },
     "execution_count": 148,
     "metadata": {},
     "output_type": "execute_result"
    }
   ],
   "source": [
    "check_range(df_runtrating['runtime_minutes'][:500])"
   ]
  },
  {
   "cell_type": "code",
   "execution_count": 149,
   "metadata": {},
   "outputs": [
    {
     "data": {
      "text/plain": [
       "(4.0, 180.0)"
      ]
     },
     "execution_count": 149,
     "metadata": {},
     "output_type": "execute_result"
    }
   ],
   "source": [
    "check_range(df_gengross2['runtime_minutes'][:500])"
   ]
  },
  {
   "cell_type": "code",
   "execution_count": 150,
   "metadata": {},
   "outputs": [],
   "source": [
    "a = np.arange(0,610,20)\n",
    "str_key = [str(x) +' to ' + str(x+20) for x in a]"
   ]
  },
  {
   "cell_type": "code",
   "execution_count": 151,
   "metadata": {},
   "outputs": [],
   "source": [
    "dic_runtrating = {}\n",
    "for i in a:\n",
    "    dic_runtrating.setdefault(i,[0,0])"
   ]
  },
  {
   "cell_type": "code",
   "execution_count": 152,
   "metadata": {},
   "outputs": [],
   "source": [
    "for i in range(500):\n",
    "    for n in dic_runtrating.keys():\n",
    "        if df_runtrating['runtime_minutes'][i] in range(n,n+20):\n",
    "            dic_runtrating[n][0] += 1\n",
    "        if df_gengross2['runtime_minutes'][i] in range(n,n+20):\n",
    "            dic_runtrating[n][1] += 1"
   ]
  },
  {
   "cell_type": "code",
   "execution_count": 153,
   "metadata": {},
   "outputs": [],
   "source": [
    "dic_runtime = {}\n",
    "dic_runtime = {'runtime_range': str_key, 'rating': [dic_runtrating[i][0] for i in dic_runtrating.keys()],\n",
    "              'revenue': [dic_runtrating[i][1] for i in dic_runtrating.keys()]}"
   ]
  },
  {
   "cell_type": "code",
   "execution_count": 154,
   "metadata": {},
   "outputs": [],
   "source": [
    "df_runtime = pd.DataFrame.from_dict(dic_runtime)\n",
    "#df_runtime"
   ]
  },
  {
   "cell_type": "code",
   "execution_count": 155,
   "metadata": {},
   "outputs": [],
   "source": [
    "#drop outliners\n",
    "df_runtime = df_runtime.loc[:10,]"
   ]
  },
  {
   "cell_type": "code",
   "execution_count": 156,
   "metadata": {},
   "outputs": [
    {
     "data": {
      "text/html": [
       "<div>\n",
       "<style scoped>\n",
       "    .dataframe tbody tr th:only-of-type {\n",
       "        vertical-align: middle;\n",
       "    }\n",
       "\n",
       "    .dataframe tbody tr th {\n",
       "        vertical-align: top;\n",
       "    }\n",
       "\n",
       "    .dataframe thead th {\n",
       "        text-align: right;\n",
       "    }\n",
       "</style>\n",
       "<table border=\"1\" class=\"dataframe\">\n",
       "  <thead>\n",
       "    <tr style=\"text-align: right;\">\n",
       "      <th></th>\n",
       "      <th>runtime_range</th>\n",
       "      <th>rating</th>\n",
       "      <th>revenue</th>\n",
       "    </tr>\n",
       "  </thead>\n",
       "  <tbody>\n",
       "    <tr>\n",
       "      <th>0</th>\n",
       "      <td>0 to 20</td>\n",
       "      <td>7</td>\n",
       "      <td>8</td>\n",
       "    </tr>\n",
       "    <tr>\n",
       "      <th>1</th>\n",
       "      <td>20 to 40</td>\n",
       "      <td>13</td>\n",
       "      <td>2</td>\n",
       "    </tr>\n",
       "    <tr>\n",
       "      <th>2</th>\n",
       "      <td>40 to 60</td>\n",
       "      <td>100</td>\n",
       "      <td>7</td>\n",
       "    </tr>\n",
       "    <tr>\n",
       "      <th>3</th>\n",
       "      <td>60 to 80</td>\n",
       "      <td>114</td>\n",
       "      <td>19</td>\n",
       "    </tr>\n",
       "    <tr>\n",
       "      <th>4</th>\n",
       "      <td>80 to 100</td>\n",
       "      <td>163</td>\n",
       "      <td>122</td>\n",
       "    </tr>\n",
       "    <tr>\n",
       "      <th>5</th>\n",
       "      <td>100 to 120</td>\n",
       "      <td>64</td>\n",
       "      <td>184</td>\n",
       "    </tr>\n",
       "    <tr>\n",
       "      <th>6</th>\n",
       "      <td>120 to 140</td>\n",
       "      <td>22</td>\n",
       "      <td>111</td>\n",
       "    </tr>\n",
       "    <tr>\n",
       "      <th>7</th>\n",
       "      <td>140 to 160</td>\n",
       "      <td>8</td>\n",
       "      <td>37</td>\n",
       "    </tr>\n",
       "    <tr>\n",
       "      <th>8</th>\n",
       "      <td>160 to 180</td>\n",
       "      <td>3</td>\n",
       "      <td>9</td>\n",
       "    </tr>\n",
       "    <tr>\n",
       "      <th>9</th>\n",
       "      <td>180 to 200</td>\n",
       "      <td>1</td>\n",
       "      <td>1</td>\n",
       "    </tr>\n",
       "    <tr>\n",
       "      <th>10</th>\n",
       "      <td>200 to 220</td>\n",
       "      <td>3</td>\n",
       "      <td>0</td>\n",
       "    </tr>\n",
       "  </tbody>\n",
       "</table>\n",
       "</div>"
      ],
      "text/plain": [
       "   runtime_range  rating  revenue\n",
       "0        0 to 20       7        8\n",
       "1       20 to 40      13        2\n",
       "2       40 to 60     100        7\n",
       "3       60 to 80     114       19\n",
       "4      80 to 100     163      122\n",
       "5     100 to 120      64      184\n",
       "6     120 to 140      22      111\n",
       "7     140 to 160       8       37\n",
       "8     160 to 180       3        9\n",
       "9     180 to 200       1        1\n",
       "10    200 to 220       3        0"
      ]
     },
     "execution_count": 156,
     "metadata": {},
     "output_type": "execute_result"
    }
   ],
   "source": [
    "df_runtime"
   ]
  },
  {
   "cell_type": "code",
   "execution_count": 157,
   "metadata": {},
   "outputs": [
    {
     "data": {
      "image/png": "[encoded data removed]",
      "text/plain": [
       "<Figure size 864x576 with 1 Axes>"
      ]
     },
     "metadata": {
      "needs_background": "light"
     },
     "output_type": "display_data"
    }
   ],
   "source": [
    "# Create a grouped bar chart with size\n",
    "fig, ax = plt.subplots(figsize=(12, 8))\n",
    "x = np.arange(11)\n",
    "\n",
    "# Define bar width. We need this to offset the second bar.\n",
    "bar_width = 0.4\n",
    "\n",
    "#Define two bars and the second need the offset space\n",
    "b1 = ax.bar(x, height=df_runtime['rating'], width=bar_width, label='Rating')\n",
    "b2 = ax.bar(x + bar_width, height=df_runtime['revenue'], width=bar_width, label='Revenue')\n",
    "\n",
    "# Fix the x-axes.\n",
    "ax.set_xticks(x + bar_width / 2)\n",
    "ax.set_xticklabels(df_runtime['runtime_range'])\n",
    "\n",
    "# Add legend.\n",
    "ax.legend()\n",
    "\n",
    "# Axis styling.\n",
    "ax.spines['top'].set_visible(False)\n",
    "ax.spines['right'].set_visible(False)\n",
    "ax.spines['left'].set_visible(False)\n",
    "ax.spines['bottom'].set_color('#DDDDDD')\n",
    "ax.tick_params(bottom=False, left=False)\n",
    "ax.set_axisbelow(True)\n",
    "ax.yaxis.grid(True, color='#EEEEEE')\n",
    "ax.xaxis.grid(False)\n",
    "\n",
    "# Add axis and chart labels.\n",
    "ax.set_xlabel('Runtime in Minutes', labelpad=15)\n",
    "ax.set_ylabel('Frequency', labelpad=15)\n",
    "ax.set_title('Runtime Range of Top 500 Rating and Revenue', pad=15)\n",
    "plt.xticks(rotation=30)\n",
    "fig.tight_layout()"
   ]
  },
  {
   "cell_type": "code",
   "execution_count": null,
   "metadata": {},
   "outputs": [],
   "source": []
  }
 ],
 "metadata": {
  "kernelspec": {
   "display_name": "Python 3",
   "language": "python",
   "name": "python3"
  },
  "language_info": {
   "codemirror_mode": {
    "name": "ipython",
    "version": 3
   },
   "file_extension": ".py",
   "mimetype": "text/x-python",
   "name": "python",
   "nbconvert_exporter": "python",
   "pygments_lexer": "ipython3",
   "version": "3.6.9"
  }
 },
 "nbformat": 4,
 "nbformat_minor": 2
}
